{
 "cells": [
  {
   "cell_type": "markdown",
   "metadata": {},
   "source": [
    "# Семинар 9. Numpy_3 (решение задач)\n",
    "\n",
    "1. Найти длину ломаной линии\n",
    "\n",
    "\n",
    "2. Сгенерировать шахматную доску размера NxN с ячейками размера MxM\n",
    "\n",
    "\n",
    "3. Построить триангуляцию области заданной формы\n",
    "\n",
    "    3.1. Вычислить центры и площади треугольников\n",
    "    \n",
    "    3.2. Удалить треугольники по условию\n",
    "\n",
    "\n",
    "4. Какое преобразование пространства задает линейный оператор с симметричной матрицей (2х2)?"
   ]
  },
  {
   "cell_type": "code",
   "execution_count": 2,
   "metadata": {},
   "outputs": [],
   "source": [
    "import numpy as np\n",
    "import matplotlib.pyplot as plt"
   ]
  },
  {
   "cell_type": "markdown",
   "metadata": {},
   "source": [
    "## 1. Найти длину ломаной линии\n",
    "\n",
    "Часто встречаются задачи, где функцию невозможно задать аналитически, а только вычислить ее в некоторых точках численно. В этом случае мы имеем дело с функцией, заданной таблично. График функции в этом случае строится как график кусочно-линейной функции, т.е. упорядоченный набор отрезков, соединяющих предыдущую точку со следующей. **Как вычислить длину такой линии, не прибегая к циклам Python**?\n"
   ]
  },
  {
   "cell_type": "code",
   "execution_count": 22,
   "metadata": {},
   "outputs": [
    {
     "data": {
      "text/plain": [
       "[<matplotlib.lines.Line2D at 0x2c053a36850>]"
      ]
     },
     "execution_count": 22,
     "metadata": {},
     "output_type": "execute_result"
    },
    {
     "data": {
      "image/png": "[encoded data removed]",
      "text/plain": [
       "<Figure size 432x288 with 1 Axes>"
      ]
     },
     "metadata": {
      "needs_background": "light"
     },
     "output_type": "display_data"
    }
   ],
   "source": [
    "arr = np.array([[0.0, 0.0],\n",
    "                [1.0, 1.0],\n",
    "                [2.0, 1.0],\n",
    "                [1.0, 2.0],\n",
    "                [2.0, 3.0]])\n",
    "\n",
    "plt.plot(arr[:, 0], arr[:, 1])"
   ]
  },
  {
   "cell_type": "code",
   "execution_count": 23,
   "metadata": {},
   "outputs": [
    {
     "data": {
      "text/plain": [
       "5.242640687119286"
      ]
     },
     "execution_count": 23,
     "metadata": {},
     "output_type": "execute_result"
    }
   ],
   "source": [
    "3*2**0.5 + 1"
   ]
  },
  {
   "cell_type": "code",
   "execution_count": 24,
   "metadata": {},
   "outputs": [
    {
     "data": {
      "text/plain": [
       "array([-1.,  1.])"
      ]
     },
     "execution_count": 24,
     "metadata": {},
     "output_type": "execute_result"
    }
   ],
   "source": [
    "arr[1] - arr[0]\n",
    "arr[2] - arr[1]\n",
    "arr[3] - arr[2]"
   ]
  },
  {
   "cell_type": "code",
   "execution_count": 25,
   "metadata": {},
   "outputs": [
    {
     "data": {
      "text/plain": [
       "(5, 2)"
      ]
     },
     "execution_count": 25,
     "metadata": {},
     "output_type": "execute_result"
    }
   ],
   "source": [
    "arr.shape"
   ]
  },
  {
   "cell_type": "code",
   "execution_count": 26,
   "metadata": {},
   "outputs": [
    {
     "data": {
      "text/plain": [
       "array([[0., 0.],\n",
       "       [1., 1.],\n",
       "       [2., 1.],\n",
       "       [1., 2.]])"
      ]
     },
     "execution_count": 26,
     "metadata": {},
     "output_type": "execute_result"
    }
   ],
   "source": [
    "arr[:-1]"
   ]
  },
  {
   "cell_type": "code",
   "execution_count": 29,
   "metadata": {},
   "outputs": [],
   "source": [
    "r0 = 3*2**0.5 + 1"
   ]
  },
  {
   "cell_type": "code",
   "execution_count": 30,
   "metadata": {},
   "outputs": [
    {
     "data": {
      "text/plain": [
       "5.242640687119285"
      ]
     },
     "execution_count": 30,
     "metadata": {},
     "output_type": "execute_result"
    }
   ],
   "source": [
    "r1 = np.sum(np.sum((arr[1:] - arr[:-1])**2, axis=1)**0.5)\n",
    "r1"
   ]
  },
  {
   "cell_type": "code",
   "execution_count": 31,
   "metadata": {},
   "outputs": [],
   "source": [
    "r2 = np.linalg.norm(arr[1:] - arr[:-1], axis=1).sum()"
   ]
  },
  {
   "cell_type": "code",
   "execution_count": 32,
   "metadata": {},
   "outputs": [
    {
     "data": {
      "text/plain": [
       "8.881784197001252e-16"
      ]
     },
     "execution_count": 32,
     "metadata": {},
     "output_type": "execute_result"
    }
   ],
   "source": [
    "abs(r0 - r1)"
   ]
  },
  {
   "cell_type": "code",
   "execution_count": 33,
   "metadata": {},
   "outputs": [
    {
     "data": {
      "text/plain": [
       "8.881784197001252e-16"
      ]
     },
     "execution_count": 33,
     "metadata": {},
     "output_type": "execute_result"
    }
   ],
   "source": [
    "abs(r0 - r2)"
   ]
  },
  {
   "cell_type": "markdown",
   "metadata": {},
   "source": [
    "## 2. Сгенерировать шахматную доску размера NxN с ячейками размера MxM\n",
    "\n",
    "Задача, которую можно решить различными способами. В ней можно проявить ваш творческий потенциал."
   ]
  },
  {
   "cell_type": "code",
   "execution_count": null,
   "metadata": {},
   "outputs": [],
   "source": [
    "# 010101\n",
    "# 101010\n",
    "# 010101\n",
    "# 101010"
   ]
  },
  {
   "cell_type": "code",
   "execution_count": null,
   "metadata": {},
   "outputs": [],
   "source": [
    "# 000...0111...1000...0... (N)\n",
    "#   M        M       M"
   ]
  },
  {
   "cell_type": "code",
   "execution_count": null,
   "metadata": {},
   "outputs": [],
   "source": [
    "# 000...0111...1222...2333...3..."
   ]
  },
  {
   "cell_type": "code",
   "execution_count": 35,
   "metadata": {},
   "outputs": [
    {
     "data": {
      "text/plain": [
       "(0, 0, 0, 1, 1, 1)"
      ]
     },
     "execution_count": 35,
     "metadata": {},
     "output_type": "execute_result"
    }
   ],
   "source": [
    "0 // 3, 1 // 3, 2 // 3, 3 // 3, 4 // 3, 5 // 3 "
   ]
  },
  {
   "cell_type": "code",
   "execution_count": 63,
   "metadata": {},
   "outputs": [],
   "source": [
    "N, M = 19, 4"
   ]
  },
  {
   "cell_type": "code",
   "execution_count": 64,
   "metadata": {},
   "outputs": [
    {
     "data": {
      "text/plain": [
       "array([0, 0, 0, 0, 1, 1, 1, 1, 0, 0, 0, 0, 1, 1, 1, 1, 0, 0, 0],\n",
       "      dtype=int32)"
      ]
     },
     "execution_count": 64,
     "metadata": {},
     "output_type": "execute_result"
    }
   ],
   "source": [
    "(np.arange(N) // M) % 2"
   ]
  },
  {
   "cell_type": "code",
   "execution_count": 69,
   "metadata": {},
   "outputs": [
    {
     "data": {
      "text/plain": [
       "array([0, 0, 1, 1, 1, 1, 2, 2, 2, 2, 3, 3, 3, 3, 4, 4, 4, 4, 5],\n",
       "      dtype=int32)"
      ]
     },
     "execution_count": 69,
     "metadata": {},
     "output_type": "execute_result"
    }
   ],
   "source": [
    "x = np.arange(2, N+2) // M\n",
    "y = np.arange(3, N+3) // M\n",
    "x"
   ]
  },
  {
   "cell_type": "code",
   "execution_count": 70,
   "metadata": {},
   "outputs": [
    {
     "name": "stdout",
     "output_type": "stream",
     "text": [
      "None\n"
     ]
    }
   ],
   "source": [
    "if np.newaxis is None:\n",
    "    print('None')"
   ]
  },
  {
   "cell_type": "code",
   "execution_count": 72,
   "metadata": {},
   "outputs": [
    {
     "data": {
      "text/plain": [
       "array([[0, 1, 1, 1, 1, 0, 0, 0, 0, 1, 1, 1, 1, 0, 0, 0, 0, 1, 1],\n",
       "       [0, 1, 1, 1, 1, 0, 0, 0, 0, 1, 1, 1, 1, 0, 0, 0, 0, 1, 1],\n",
       "       [1, 0, 0, 0, 0, 1, 1, 1, 1, 0, 0, 0, 0, 1, 1, 1, 1, 0, 0],\n",
       "       [1, 0, 0, 0, 0, 1, 1, 1, 1, 0, 0, 0, 0, 1, 1, 1, 1, 0, 0],\n",
       "       [1, 0, 0, 0, 0, 1, 1, 1, 1, 0, 0, 0, 0, 1, 1, 1, 1, 0, 0],\n",
       "       [1, 0, 0, 0, 0, 1, 1, 1, 1, 0, 0, 0, 0, 1, 1, 1, 1, 0, 0],\n",
       "       [0, 1, 1, 1, 1, 0, 0, 0, 0, 1, 1, 1, 1, 0, 0, 0, 0, 1, 1],\n",
       "       [0, 1, 1, 1, 1, 0, 0, 0, 0, 1, 1, 1, 1, 0, 0, 0, 0, 1, 1],\n",
       "       [0, 1, 1, 1, 1, 0, 0, 0, 0, 1, 1, 1, 1, 0, 0, 0, 0, 1, 1],\n",
       "       [0, 1, 1, 1, 1, 0, 0, 0, 0, 1, 1, 1, 1, 0, 0, 0, 0, 1, 1],\n",
       "       [1, 0, 0, 0, 0, 1, 1, 1, 1, 0, 0, 0, 0, 1, 1, 1, 1, 0, 0],\n",
       "       [1, 0, 0, 0, 0, 1, 1, 1, 1, 0, 0, 0, 0, 1, 1, 1, 1, 0, 0],\n",
       "       [1, 0, 0, 0, 0, 1, 1, 1, 1, 0, 0, 0, 0, 1, 1, 1, 1, 0, 0],\n",
       "       [1, 0, 0, 0, 0, 1, 1, 1, 1, 0, 0, 0, 0, 1, 1, 1, 1, 0, 0],\n",
       "       [0, 1, 1, 1, 1, 0, 0, 0, 0, 1, 1, 1, 1, 0, 0, 0, 0, 1, 1],\n",
       "       [0, 1, 1, 1, 1, 0, 0, 0, 0, 1, 1, 1, 1, 0, 0, 0, 0, 1, 1],\n",
       "       [0, 1, 1, 1, 1, 0, 0, 0, 0, 1, 1, 1, 1, 0, 0, 0, 0, 1, 1],\n",
       "       [0, 1, 1, 1, 1, 0, 0, 0, 0, 1, 1, 1, 1, 0, 0, 0, 0, 1, 1],\n",
       "       [1, 0, 0, 0, 0, 1, 1, 1, 1, 0, 0, 0, 0, 1, 1, 1, 1, 0, 0]],\n",
       "      dtype=int32)"
      ]
     },
     "execution_count": 72,
     "metadata": {},
     "output_type": "execute_result"
    }
   ],
   "source": [
    "M = (x[:, None] + y) % 2\n",
    "M"
   ]
  },
  {
   "cell_type": "code",
   "execution_count": 81,
   "metadata": {},
   "outputs": [
    {
     "data": {
      "text/plain": [
       "<matplotlib.image.AxesImage at 0x2c053d63d90>"
      ]
     },
     "execution_count": 81,
     "metadata": {},
     "output_type": "execute_result"
    },
    {
     "data": {
      "image/png": "[encoded data removed]",
      "text/plain": [
       "<Figure size 432x288 with 1 Axes>"
      ]
     },
     "metadata": {
      "needs_background": "light"
     },
     "output_type": "display_data"
    }
   ],
   "source": [
    "N, M = 19, 4\n",
    "dx, dy = -1, 3\n",
    "x = np.arange(dx, N+dx) // M\n",
    "y = np.arange(dy, N+dy) // M\n",
    "A = (x[:, None] + y) % 2\n",
    "plt.spy(A)"
   ]
  },
  {
   "cell_type": "markdown",
   "metadata": {},
   "source": [
    "## 3. Построить триангуляцию области заданной формы\n",
    "\n",
    "Такая задача встречается при решении различных задач методом конечных элементов. В этом методе искомая непрерывная функция заменяется на сумму кусочных функций, определенных на отдельных элементах. Исходная область может быть сложной формы, в то время как каждый элемент имеет простую форму (например, треугольник)."
   ]
  },
  {
   "cell_type": "markdown",
   "metadata": {},
   "source": [
    "Пусть задана прямоугольная область с круглым вырезом.\n",
    "Для разбиения на треугольники будем использовать метод триангуляции Делоне. Реализация этого метода присутствует в библиотеке `scipy.spatial`.\n",
    "\n",
    "Для построения такой триангуляции необходимо:\n",
    "- построить разбиение границы\n",
    "- сгенерировать внутренние узлы\n",
    "- применить реализацию метода Делоне"
   ]
  },
  {
   "cell_type": "code",
   "execution_count": null,
   "metadata": {},
   "outputs": [],
   "source": []
  },
  {
   "cell_type": "markdown",
   "metadata": {},
   "source": [
    "## 3.1. Вычислить центры и площади треугольников\n",
    "\n",
    "Разброс площадей треугольников характеризует качество триангуляции.\n",
    "\n",
    "Центры треугольников необходимы для удаления лишних треугольников."
   ]
  },
  {
   "cell_type": "code",
   "execution_count": null,
   "metadata": {},
   "outputs": [],
   "source": []
  },
  {
   "cell_type": "markdown",
   "metadata": {},
   "source": [
    "## 4. Какое преобразование пространства задает линейный оператор с симметричной матрицей (2х2)?"
   ]
  },
  {
   "cell_type": "code",
   "execution_count": null,
   "metadata": {},
   "outputs": [],
   "source": []
  },
  {
   "cell_type": "markdown",
   "metadata": {},
   "source": [
    "## 5. Решение задачи [`Four to the floor`](https://py.checkio.org/en/mission/four-to-the-floor/)\n",
    "\n",
    "\n",
    "Необходимо написать функцию `is_covered(room, sensors)`, параметрами которой являются:\n",
    "- `room` - размеры прямоугольной комнаты (список из двух чисел)\n",
    "- `sensors` - координаты и радиусы действия датчиков (список из списков по 3 числа)\n",
    "\n",
    "Функция должна вернуть `True`, если комната полностью просматривается сенсорами, иначе - `False`."
   ]
  },
  {
   "cell_type": "code",
   "execution_count": null,
   "metadata": {},
   "outputs": [],
   "source": []
  },
  {
   "cell_type": "code",
   "execution_count": 97,
   "metadata": {},
   "outputs": [],
   "source": [
    "# [[x0 y0 r0],\n",
    "#  [x1,y1,r1],\n",
    "# ...\n",
    "# ]\n",
    "\n",
    "from numba import njit\n",
    "\n",
    "@njit(fastmath = True)\n",
    "def surface(point, sensors):\n",
    "    v = sensors[:, :2] - point\n",
    "    d = np.sum(v**2, axis=1)**0.5\n",
    "    return np.max(sensors[:,-1] - d)"
   ]
  },
  {
   "cell_type": "code",
   "execution_count": 98,
   "metadata": {},
   "outputs": [],
   "source": [
    "from scipy.optimize import minimize"
   ]
  },
  {
   "cell_type": "code",
   "execution_count": 109,
   "metadata": {},
   "outputs": [],
   "source": [
    "def is_covered(room, sensors):\n",
    "    W, H = room\n",
    "    sensors = np.array(sensors)\n",
    "    \n",
    "    bounds = ((0, W), (0, H))\n",
    "    N = 20\n",
    "    rng = np.random.default_rng()\n",
    "    pts = np.column_stack((rng.uniform(0, W, size=N),\n",
    "                           rng.uniform(0, H, size=N)))\n",
    "    \n",
    "    for p in pts:\n",
    "        res = minimize(surface, p, args = (sensors,), \n",
    "                       method = 'SLSQP', bounds = bounds, tol=1e-2)\n",
    "        \n",
    "        if res.fun < 0:\n",
    "            return False\n",
    "        \n",
    "    return True"
   ]
  },
  {
   "cell_type": "code",
   "execution_count": 86,
   "metadata": {
    "collapsed": true
   },
   "outputs": [
    {
     "name": "stdout",
     "output_type": "stream",
     "text": [
      "(0, 0) 5\n",
      "(0, 850) 3\n",
      "(850, 0) 2\n",
      "(850, 850) 3\n",
      "(746.175604, 395.719243) 5\n",
      "(798.692688, 146.960969) 4\n",
      "(378.230389, 777.654416) 6\n",
      "(420.99858, 756.600473) 6\n",
      "(192.761419, 832.679526) 5\n",
      "(399.342457, 133.291419) 6\n",
      "(223.988773, 356.468834) 6\n",
      "(756.890406, 514.949129) 5\n",
      "(560.444781, 84.003029) 5\n",
      "(644.091804, 836.826239) 5\n",
      "(547.844372, 838.866721) 5\n",
      "(413.668561, 798.525704) 5\n",
      "(251.474296, 636.331439) 6\n",
      "(0, 836.04859) 4\n",
      "(787.810344, 0) 3\n",
      "(0, 421.0) 5\n",
      "(421.0, 0) 5\n",
      "(422.586453, 0) 4\n",
      "(633.666142, 850) 4\n",
      "(850, 503.16954) 4\n",
      "(549.619216, 850) 4\n",
      "(850, 735.8558009999999) 4\n",
      "(850, 188.14419900000001) 3\n",
      "(379.399063, 850) 4\n",
      "(208.600937, 850) 4\n",
      "(0, 0) 2\n",
      "(0, 850) 2\n",
      "(2550, 0) 2\n",
      "(2550, 850) 1\n",
      "(1626.798735, 688.437953) 3\n",
      "(1476.255393, 764.338589) 4\n",
      "(681.010331, 394.389422) 5\n",
      "(643.14661, 240.220682) 5\n",
      "(927.387223, 697.884407) 4\n",
      "(639.379117, 189.870109) 5\n",
      "(1592.909894, 710.116408) 3\n",
      "(660.372995, 5.162919) 4\n",
      "(1387.975557, 787.873187) 4\n",
      "(753.210769, 530.063379) 5\n",
      "(790.666336, 309.53277) 5\n",
      "(1190.057118, 284.962566) 4\n",
      "(585.315986, 544.058009) 4\n",
      "(1036.868321, 251.470527) 4\n",
      "(215.445809, 91.139118) 3\n",
      "(654.589975, 198.336063) 5\n",
      "(671.917181, 3.838481) 4\n",
      "(477.380356, 516.380645) 4\n",
      "(312.298722, 129.331469) 4\n",
      "(214.735861, 150.880785) 3\n",
      "(886.694746, 463.477043) 5\n",
      "(1209.543808, 127.970829) 3\n",
      "(220.018424, 196.931597) 4\n",
      "(1048.987889, 49.481846) 3\n",
      "(1829.660476, 0) 3\n",
      "(1674.092022, 850) 2\n",
      "(1878.224465, 0) 3\n",
      "(661.775535, 0) 3\n",
      "(1458.575417, 850) 3\n",
      "(573.424583, 850) 3\n",
      "(254.0, 0) 3\n",
      "(0, 715.0) 3\n",
      "(671.688172, 0) 3\n",
      "(0, 279.51051) 2\n",
      "(898.228189, 850) 3\n",
      "(0, 484.139072) 3\n",
      "(803.0, 0) 3\n",
      "(721.0, 0) 3\n",
      "(1602.940545, 850) 2\n",
      "(2550, 602.5449719999999) 2\n",
      "(1253.2416090000002, 0) 2\n",
      "(2354.543101, 850) 2\n",
      "(1455.456899, 850) 3\n",
      "(1036.702626, 0) 2\n",
      "(233.297374, 0) 3\n",
      "(0, 0) 1\n",
      "(0, 250) 3\n",
      "(500, 0) 4\n",
      "(500, 250) 1\n",
      "(294.408738, 99.015256) 4\n",
      "(332.450392, 147.622444) 5\n",
      "(452.764676, 178.31698) 4\n",
      "(298.520271, 106.907533) 5\n",
      "(488.985783, 166.118483) 3\n",
      "(313.018051, 196.713399) 4\n",
      "(331.501967, 17.00866) 4\n",
      "(321.251768, 209.84928) 3\n",
      "(293.008026, 121.587586) 4\n",
      "(348.443407, 239.729939) 2\n",
      "(340.355083, 66.380867) 5\n",
      "(311.172528, 200.134248) 3\n",
      "(285.843458, 237.437966) 2\n",
      "(108.201556, 14.649347) 3\n",
      "(253.997569, 229.055248) 3\n",
      "(500, 160.09673600000002) 2\n",
      "(284.540041, 0) 3\n",
      "(348.762655, 0) 3\n",
      "(361.971595, 250) 1\n",
      "(0, 35.0) 3\n",
      "(76.190551, 250) 3\n",
      "(500, 37.0) 4\n",
      "(478.068288, 0) 4\n",
      "(325.88714, 0) 3\n",
      "(274.71405200000004, 250) 1\n",
      "(0, 0.3687189999999987) 2\n",
      "(46.377558, 0) 2\n",
      "(3.6224419999999995, 0) 2\n",
      "(252.940782, 250) 2\n",
      "(500, 152.312119) 3\n",
      "(109.33127300000001, 0) 2\n",
      "(0, 0) 2\n",
      "(0, 150) 1\n",
      "(600, 0) 1\n",
      "(600, 150) 1\n",
      "(495.427565, 122.444141) 3\n",
      "(508.353196, 140.909327) 3\n",
      "(459.134524, 126.859694) 2\n",
      "(66.194108, 94.616167) 3\n",
      "(141.302951, 142.851456) 2\n",
      "(508.84441, 150) 2\n",
      "(451.15559, 150) 1\n",
      "(0, 120.0) 2\n",
      "(96.747093, 0) 3\n",
      "(99.253159, 0) 2\n",
      "(138.14804700000002, 150) 1\n",
      "(328.0, 0) 1\n",
      "(32.0, 0) 3\n",
      "(600, 134.0) 2\n",
      "(600, 6.0) 2\n",
      "(528.238774, 0) 1\n",
      "(466.346732, 150) 2\n",
      "(0, 0) 3\n",
      "(0, 550) 2\n",
      "(550, 0) 2\n",
      "(550, 550) 2\n",
      "(114.0254, 456.112968) 6\n",
      "(108.651234, 453.28035) 6\n",
      "(486.228253, 495.892447) 4\n",
      "(115.481336, 456.866456) 6\n",
      "(342.444795, 513.928798) 5\n",
      "(336.921475, 513.807156) 6\n",
      "(53.978526, 419.49284) 5\n",
      "(459.999927, 162.208394) 5\n",
      "(108.467286, 455.152262) 5\n",
      "(393.673999, 349.433078) 6\n",
      "(115.63528, 456.371046) 7\n",
      "(378.755949, 366.501487) 7\n",
      "(104.906478, 454.479623) 4\n",
      "(107.360443, 501.302211) 4\n",
      "(301.558049, 188.325853) 6\n",
      "(108.343899, 456.47496) 4\n",
      "(376.375341, 340.374523) 7\n",
      "(114.549959, 459.971872) 5\n",
      "(484.632921, 483.102057) 5\n",
      "(342.635825, 513.598782) 6\n",
      "(0, 375.493009) 4\n",
      "(550, 473.914549) 3\n",
      "(0, 412.11997099999996) 3\n",
      "(412.11997099999996, 0) 4\n",
      "(0, 85.02819699999998) 4\n",
      "(550, 95.57682199999999) 3\n",
      "(412.968528, 0) 3\n",
      "(127.03147200000001, 0) 4\n",
      "(550, 183.17827) 4\n",
      "(113.36384399999997, 550) 4\n",
      "(483.36255, 550) 3\n",
      "(110.63745, 550) 3\n",
      "(0, 129.450206) 5\n",
      "(317.42062899999996, 550) 4\n",
      "(0, 368.250762) 5\n",
      "(550, 450.341306) 4\n",
      "(0, 0) 0\n",
      "(0, 750) 0\n",
      "(3000, 0) 1\n",
      "(3000, 750) 1\n",
      "(240.831627, 656.912001) 2\n",
      "(1478.544955, 223.074202) 2\n",
      "(1555.261889, 430.417266) 2\n",
      "(322.122974, 221.91271) 2\n",
      "(2574.162506, 185.896971) 4\n",
      "(2769.517791, 581.887415) 4\n",
      "(2715.808429, 31.044112) 3\n",
      "(2978.593917, 563.717397) 3\n",
      "(2105.000977, 443.067243) 2\n",
      "(2389.646512, 28.895484) 2\n",
      "(358.446557, 750) 2\n",
      "(241.55344300000002, 750) 1\n",
      "(1269.951348, 0) 1\n",
      "(530.048652, 0) 2\n",
      "(1537.858919, 750) 1\n",
      "(262.141081, 750) 2\n",
      "(2579.816103, 0) 2\n",
      "(2520.183897, 0) 2\n",
      "(2873.092866, 750) 2\n",
      "(2226.907134, 750) 2\n",
      "(1232.0, 0) 2\n",
      "(268.0, 0) 1\n",
      "(3000, 552.337668) 2\n",
      "(3000, 39.66233199999999) 2\n",
      "(2874.351591, 0) 2\n",
      "(2825.648409, 0) 2\n",
      "(2241.262168, 750) 2\n",
      "(1958.737832, 750) 1\n",
      "(2397.774959, 0) 1\n",
      "(2721.29765, 750) 2\n",
      "(0, 0) 0\n",
      "(0, 950) 1\n",
      "(3800, 0) 0\n",
      "(3800, 950) 1\n",
      "(3273.922116, 696.873553) 5\n",
      "(2486.997587, 924.101) 3\n",
      "(2369.977035, 892.649265) 3\n",
      "(1908.292702, 530.913358) 3\n",
      "(1766.011826, 51.59835) 3\n",
      "(3525.609926, 270.507169) 3\n",
      "(2287.121483, 859.525452) 3\n",
      "(3415.012034, 525.740879) 4\n",
      "(2916.912666, 903.289602) 5\n",
      "(3553.380022, 13.711318) 2\n",
      "(2886.972062, 911.70786) 4\n",
      "(2446.464878, 835.136104) 4\n",
      "(2740.153478, 295.476201) 4\n",
      "(3202.989251, 470.107283) 5\n",
      "(2902.51739, 284.26502) 4\n",
      "(444.649572, 544.414633) 2\n",
      "(1054.111406, 144.623894) 2\n",
      "(1455.657415, 204.907899) 3\n",
      "(1851.431773, 574.124567) 3\n",
      "(2746.262217, 152.655125) 3\n",
      "(2292.698629, 938.464381) 2\n",
      "(1452.863456, 447.193899) 4\n",
      "(1431.815247, 277.016893) 4\n",
      "(3091.319599, 94.750841) 3\n",
      "(3552.763687, 0) 1\n",
      "(1767.2363129999999, 0) 2\n",
      "(3196.050574, 950) 4\n",
      "(2503.949426, 950) 2\n",
      "(0, 328.0) 1\n",
      "(562.117425, 950) 2\n",
      "(1939.937498, 950) 2\n",
      "(340.062502, 950) 2\n",
      "(2725.872266, 0) 2\n",
      "(1074.1277340000001, 0) 1\n",
      "(2269.817523, 950) 1\n",
      "(1530.182477, 950) 2\n",
      "(3785.783481, 950) 2\n",
      "(2294.216519, 950) 1\n",
      "(3523.426311, 950) 3\n",
      "(2936.573689, 950) 4\n",
      "(3800, 131.26674100000002) 1\n",
      "(3454.971417, 0) 2\n",
      "(3385.028583, 0) 2\n",
      "(2910.467862, 950) 3\n",
      "(0, 0) 1\n",
      "(0, 250) 0\n",
      "(1000, 0) 2\n",
      "(1000, 250) 0\n",
      "(737.531846, 26.33101) 4\n",
      "(764.454533, 68.397708) 4\n",
      "(721.200035, 9.569529) 3\n",
      "(780.711496, 154.215442) 3\n",
      "(421.931998, 176.446671) 3\n",
      "(725.297352, 44.155632) 4\n",
      "(729.732905, 62.637106) 4\n",
      "(774.849464, 45.260628) 3\n",
      "(769.353188, 32.174258) 3\n",
      "(789.015399, 162.864847) 2\n",
      "(1000, 97.0) 2\n",
      "(915.851322, 0) 2\n",
      "(709.658561, 0) 2\n",
      "(490.341439, 0) 3\n",
      "(746.714008, 250) 2\n",
      "(453.28599199999996, 250) 2\n",
      "(1000, 223.474831) 1\n",
      "(721.0, 0) 2\n",
      "(751.63581, 0) 2\n",
      "(348.36419, 0) 1\n",
      "(760.13567, 250) 1\n",
      "(339.86433, 250) 1\n",
      "(0, 169.0) 1\n",
      "(128.035151, 0) 1\n",
      "(587.091905, 0) 3\n",
      "(412.908095, 0) 2\n",
      "(0, 0) 2\n",
      "(0, 450) 1\n",
      "(450, 0) 2\n",
      "(450, 450) 4\n",
      "(431.787323, 244.244368) 4\n",
      "(197.594605, 424.627972) 5\n",
      "(418.957972, 242.328729) 5\n",
      "(409.766782, 241.476763) 6\n",
      "(209.78336, 369.826194) 6\n",
      "(9.735458, 432.741955) 5\n",
      "(408.25418, 59.715721) 4\n",
      "(11.997631, 440.67693) 4\n",
      "(80.788885, 142.581497) 4\n",
      "(109.423863, 115.254318) 4\n",
      "(1.518031, 430.891585) 4\n",
      "(423.211896, 234.101115) 4\n",
      "(413.189406, 223.537867) 5\n",
      "(2.985366, 439.829268) 3\n",
      "(133.654634, 178.490732) 7\n",
      "(114.02063, 189.43214) 7\n",
      "(65.458345, 229.020827) 6\n",
      "(214.341655, 154.579172) 6\n",
      "(402.595211, 270.095209) 6\n",
      "(47.795075, 438.838523) 5\n",
      "(250.988638, 403.727263) 6\n",
      "(309.662926, 436.25852) 5\n",
      "(110.057929, 158.442949) 6\n",
      "(171.766462, 325.937539) 6\n",
      "(97.938193, 150.876388) 5\n",
      "(175.661806, 306.323613) 7\n",
      "(160.164991, 308.78622) 7\n",
      "(109.18636, 143.105672) 5\n",
      "(450, 248.466713) 3\n",
      "(197.251415, 450) 4\n",
      "(0, 376.839485) 5\n",
      "(0, 327.160515) 4\n",
      "(450, 77.56057099999998) 3\n",
      "(14.952222000000006, 450) 3\n",
      "(0, 418.022716) 4\n",
      "(0, 373.977284) 5\n",
      "(450, 270.36163) 4\n",
      "(5.075962000000004, 450) 2\n",
      "(0, 430.528463) 3\n",
      "(450, 163.882583) 3\n",
      "(389.67294, 0) 3\n",
      "(296.555223, 450) 4\n",
      "(0, 439.430766) 2\n",
      "(0, 132.569234) 3\n",
      "(136.459228, 0) 3\n",
      "(348.146856, 450) 4\n",
      "(0, 0) 2\n",
      "(0, 100) 3\n",
      "(100, 0) 2\n",
      "(100, 100) 2\n",
      "(0.007108, 42.571081) 3\n",
      "(1.124051, 40.695253) 3\n",
      "(1.883478, 41.954015) 4\n",
      "(59.640913, 79.326473) 4\n",
      "(0, 42.583426) 3\n",
      "(100, 13.667503999999994) 3\n",
      "(0, 42.573593) 2\n",
      "(57.426407, 100) 3\n",
      "(35.0, 100) 4\n",
      "(15.0, 100) 4\n",
      "(0, 38.729833) 2\n",
      "(100, 74.161985) 3\n"
     ]
    }
   ],
   "source": [
    "from fttf_tests import TESTS"
   ]
  },
  {
   "cell_type": "code",
   "execution_count": 87,
   "metadata": {
    "scrolled": true
   },
   "outputs": [
    {
     "data": {
      "text/plain": [
       "{'Basics': [{'input': [[200, 150], [[100, 75, 130]]], 'answer': True},\n",
       "  {'input': [[200, 150], [[50, 75, 100], [150, 75, 100]]], 'answer': True},\n",
       "  {'input': [[200, 150], [[50, 75, 100], [150, 25, 50], [150, 125, 50]]],\n",
       "   'answer': False},\n",
       "  {'input': [[200, 150],\n",
       "    [[100, 75, 100],\n",
       "     [0, 40, 60],\n",
       "     [0, 110, 60],\n",
       "     [200, 40, 60],\n",
       "     [200, 110, 60]]],\n",
       "   'answer': True},\n",
       "  {'input': [[200, 150],\n",
       "    [[100, 75, 100],\n",
       "     [0, 40, 50],\n",
       "     [0, 110, 50],\n",
       "     [200, 40, 50],\n",
       "     [200, 110, 50]]],\n",
       "   'answer': False},\n",
       "  {'input': [[200, 150], [[100, 75, 110], [105, 75, 110]]], 'answer': False},\n",
       "  {'input': [[200, 150], [[100, 75, 110], [105, 75, 20]]], 'answer': False},\n",
       "  {'input': [[3, 1], [[1, 0, 2], [2, 1, 2]]], 'answer': True},\n",
       "  {'input': [[30, 10], [[0, 10, 10], [10, 0, 10], [20, 10, 10], [30, 0, 10]]],\n",
       "   'answer': True},\n",
       "  {'input': [[30, 10], [[0, 10, 8], [10, 0, 7], [20, 10, 9], [30, 0, 10]]],\n",
       "   'answer': False}],\n",
       " 'Extra': [{'input': [[8, 6], [[4, 3, 5]]], 'answer': True},\n",
       "  {'input': [[2000, 1000],\n",
       "    [[0, 0, 500],\n",
       "     [500, 0, 500],\n",
       "     [1000, 0, 500],\n",
       "     [1500, 0, 500],\n",
       "     [2000, 0, 500],\n",
       "     [0, 500, 500],\n",
       "     [500, 500, 500],\n",
       "     [1000, 500, 500],\n",
       "     [1500, 500, 500],\n",
       "     [2000, 500, 500]]],\n",
       "   'answer': False},\n",
       "  {'input': [[4000, 1000],\n",
       "    [[0, 500, 1600],\n",
       "     [2000, 100, 500],\n",
       "     [2100, 900, 500],\n",
       "     [2500, 200, 500],\n",
       "     [2600, 800, 500],\n",
       "     [4000, 0, 1200]]],\n",
       "   'answer': False},\n",
       "  {'input': [[4000, 1000],\n",
       "    [[0, 500, 1600],\n",
       "     [2000, 100, 500],\n",
       "     [2100, 900, 500],\n",
       "     [2500, 200, 500],\n",
       "     [2600, 800, 500],\n",
       "     [4000, 0, 1200],\n",
       "     [4000, 500, 200]]],\n",
       "   'answer': False},\n",
       "  {'input': [[4000, 1000],\n",
       "    [[0, 500, 1600],\n",
       "     [2000, 100, 500],\n",
       "     [2100, 900, 500],\n",
       "     [2500, 200, 500],\n",
       "     [2600, 800, 500],\n",
       "     [4000, 500, 1200],\n",
       "     [1600, 500, 600]]],\n",
       "   'answer': True},\n",
       "  {'input': [[4000, 1000],\n",
       "    [[0, 500, 1600],\n",
       "     [2000, 100, 500],\n",
       "     [2100, 900, 500],\n",
       "     [2500, 200, 500],\n",
       "     [2600, 800, 500],\n",
       "     [4000, 600, 1200],\n",
       "     [1600, 500, 600]]],\n",
       "   'answer': False},\n",
       "  {'input': [[100, 100],\n",
       "    [[50, 50, 65], [25, 25, 25], [25, 75, 25], [75, 25, 25], [75, 75, 25]]],\n",
       "   'answer': False},\n",
       "  {'input': [[100, 100],\n",
       "    [[50, 50, 65], [5, 5, 25], [5, 95, 25], [95, 5, 25], [95, 95, 25]]],\n",
       "   'answer': True},\n",
       "  {'input': [[800, 800],\n",
       "    [[0, 0, 500], [0, 800, 500], [800, 0, 500], [800, 800, 500]]],\n",
       "   'answer': False},\n",
       "  {'input': [[800, 800],\n",
       "    [[0, 0, 570], [0, 800, 500], [800, 0, 500], [800, 800, 570]]],\n",
       "   'answer': True},\n",
       "  {'input': [[300, 150], [[40, 60, 240], [240, 140, 100], [295, 10, 50]]],\n",
       "   'answer': False}],\n",
       " 'Randoms': [{'input': [[850, 850],\n",
       "    [[504, 672, 841],\n",
       "     [84, 126, 715],\n",
       "     [0, 0, 421],\n",
       "     [210, 504, 547],\n",
       "     [840, 798, 295],\n",
       "     [378, 420, 799],\n",
       "     [588, 462, 379],\n",
       "     [294, 756, 127]]],\n",
       "   'answer': True},\n",
       "  {'input': [[2550, 850],\n",
       "    [[2032, 462, 85],\n",
       "     [2413, 546, 799],\n",
       "     [1270, 168, 631],\n",
       "     [1016, 714, 463],\n",
       "     [127, 0, 127],\n",
       "     [0, 42, 673],\n",
       "     [381, 672, 547],\n",
       "     [762, 840, 841],\n",
       "     [1905, 294, 715],\n",
       "     [635, 126, 421]]],\n",
       "   'answer': True},\n",
       "  {'input': [[500, 250],\n",
       "    [[425, 36, 145],\n",
       "     [450, 120, 157],\n",
       "     [0, 156, 121],\n",
       "     [500, 12, 25],\n",
       "     [100, 84, 241],\n",
       "     [25, 228, 229],\n",
       "     [375, 144, 85],\n",
       "     [325, 24, 217]]],\n",
       "   'answer': False},\n",
       "  {'input': [[600, 150],\n",
       "    [[480, 147, 29],\n",
       "     [0, 21, 99],\n",
       "     [510, 126, 15],\n",
       "     [30, 98, 120],\n",
       "     [180, 0, 148],\n",
       "     [360, 77, 43],\n",
       "     [600, 70, 64],\n",
       "     [570, 105, 113]]],\n",
       "   'answer': False},\n",
       "  {'input': [[550, 550],\n",
       "    [[81, 243, 55],\n",
       "     [351, 0, 514],\n",
       "     [162, 162, 298],\n",
       "     [270, 351, 379],\n",
       "     [432, 486, 325],\n",
       "     [297, 513, 190],\n",
       "     [108, 378, 271],\n",
       "     [324, 81, 433]]],\n",
       "   'answer': True},\n",
       "  {'input': [[3000, 750],\n",
       "    [[300, 703, 75],\n",
       "     [900, 555, 667],\n",
       "     [2700, 370, 223],\n",
       "     [1500, 333, 112],\n",
       "     [2550, 444, 445],\n",
       "     [750, 0, 482],\n",
       "     [2850, 296, 297],\n",
       "     [2100, 629, 186],\n",
       "     [3000, 185, 630]]],\n",
       "   'answer': False},\n",
       "  {'input': [[3800, 950],\n",
       "    [[2660, 47, 894],\n",
       "     [2850, 705, 424],\n",
       "     [0, 893, 565],\n",
       "     [1140, 940, 800],\n",
       "     [1900, 188, 847],\n",
       "     [1710, 329, 283],\n",
       "     [1330, 376, 142],\n",
       "     [3040, 846, 753],\n",
       "     [3230, 799, 330],\n",
       "     [3420, 611, 612]]],\n",
       "   'answer': False},\n",
       "  {'input': [[1000, 250],\n",
       "    [[1000, 12, 85],\n",
       "     [600, 144, 181],\n",
       "     [750, 48, 25],\n",
       "     [950, 0, 229],\n",
       "     [550, 132, 241],\n",
       "     [0, 36, 133],\n",
       "     [500, 84, 121]]],\n",
       "   'answer': False},\n",
       "  {'input': [[450, 450],\n",
       "    [[396, 440, 199],\n",
       "     [308, 352, 309],\n",
       "     [242, 396, 243],\n",
       "     [88, 66, 375],\n",
       "     [0, 154, 419],\n",
       "     [22, 286, 155],\n",
       "     [440, 132, 331],\n",
       "     [154, 220, 89]]],\n",
       "   'answer': True},\n",
       "  {'input': [[100, 100],\n",
       "    [[65, 80, 75], [15, 85, 45], [25, 100, 10], [70, 0, 80], [30, 60, 95]]],\n",
       "   'answer': True}]}"
      ]
     },
     "execution_count": 87,
     "metadata": {},
     "output_type": "execute_result"
    }
   ],
   "source": [
    "TESTS"
   ]
  },
  {
   "cell_type": "code",
   "execution_count": 110,
   "metadata": {},
   "outputs": [
    {
     "name": "stdout",
     "output_type": "stream",
     "text": [
      "Basics\n",
      "{'input': [[200, 150], [[100, 75, 130]]], 'answer': True}\n",
      "{'input': [[200, 150], [[50, 75, 100], [150, 75, 100]]], 'answer': True}\n",
      "{'input': [[200, 150], [[50, 75, 100], [150, 25, 50], [150, 125, 50]]], 'answer': False}\n",
      "{'input': [[200, 150], [[100, 75, 100], [0, 40, 60], [0, 110, 60], [200, 40, 60], [200, 110, 60]]], 'answer': True}\n",
      "{'input': [[200, 150], [[100, 75, 100], [0, 40, 50], [0, 110, 50], [200, 40, 50], [200, 110, 50]]], 'answer': False}\n",
      "{'input': [[200, 150], [[100, 75, 110], [105, 75, 110]]], 'answer': False}\n",
      "{'input': [[200, 150], [[100, 75, 110], [105, 75, 20]]], 'answer': False}\n",
      "{'input': [[3, 1], [[1, 0, 2], [2, 1, 2]]], 'answer': True}\n",
      "{'input': [[30, 10], [[0, 10, 10], [10, 0, 10], [20, 10, 10], [30, 0, 10]]], 'answer': True}\n",
      "{'input': [[30, 10], [[0, 10, 8], [10, 0, 7], [20, 10, 9], [30, 0, 10]]], 'answer': False}\n",
      "Extra\n",
      "{'input': [[8, 6], [[4, 3, 5]]], 'answer': True}\n",
      "{'input': [[2000, 1000], [[0, 0, 500], [500, 0, 500], [1000, 0, 500], [1500, 0, 500], [2000, 0, 500], [0, 500, 500], [500, 500, 500], [1000, 500, 500], [1500, 500, 500], [2000, 500, 500]]], 'answer': False}\n",
      "{'input': [[4000, 1000], [[0, 500, 1600], [2000, 100, 500], [2100, 900, 500], [2500, 200, 500], [2600, 800, 500], [4000, 0, 1200]]], 'answer': False}\n",
      "{'input': [[4000, 1000], [[0, 500, 1600], [2000, 100, 500], [2100, 900, 500], [2500, 200, 500], [2600, 800, 500], [4000, 0, 1200], [4000, 500, 200]]], 'answer': False}\n",
      "{'input': [[4000, 1000], [[0, 500, 1600], [2000, 100, 500], [2100, 900, 500], [2500, 200, 500], [2600, 800, 500], [4000, 500, 1200], [1600, 500, 600]]], 'answer': True}\n",
      "{'input': [[4000, 1000], [[0, 500, 1600], [2000, 100, 500], [2100, 900, 500], [2500, 200, 500], [2600, 800, 500], [4000, 600, 1200], [1600, 500, 600]]], 'answer': False}\n",
      "{'input': [[100, 100], [[50, 50, 65], [25, 25, 25], [25, 75, 25], [75, 25, 25], [75, 75, 25]]], 'answer': False}\n",
      "{'input': [[100, 100], [[50, 50, 65], [5, 5, 25], [5, 95, 25], [95, 5, 25], [95, 95, 25]]], 'answer': True}\n",
      "{'input': [[800, 800], [[0, 0, 500], [0, 800, 500], [800, 0, 500], [800, 800, 500]]], 'answer': False}\n",
      "{'input': [[800, 800], [[0, 0, 570], [0, 800, 500], [800, 0, 500], [800, 800, 570]]], 'answer': True}\n",
      "{'input': [[300, 150], [[40, 60, 240], [240, 140, 100], [295, 10, 50]]], 'answer': False}\n",
      "Randoms\n",
      "{'input': [[850, 850], [[504, 672, 841], [84, 126, 715], [0, 0, 421], [210, 504, 547], [840, 798, 295], [378, 420, 799], [588, 462, 379], [294, 756, 127]]], 'answer': True}\n",
      "{'input': [[2550, 850], [[2032, 462, 85], [2413, 546, 799], [1270, 168, 631], [1016, 714, 463], [127, 0, 127], [0, 42, 673], [381, 672, 547], [762, 840, 841], [1905, 294, 715], [635, 126, 421]]], 'answer': True}\n",
      "{'input': [[500, 250], [[425, 36, 145], [450, 120, 157], [0, 156, 121], [500, 12, 25], [100, 84, 241], [25, 228, 229], [375, 144, 85], [325, 24, 217]]], 'answer': False}\n",
      "{'input': [[600, 150], [[480, 147, 29], [0, 21, 99], [510, 126, 15], [30, 98, 120], [180, 0, 148], [360, 77, 43], [600, 70, 64], [570, 105, 113]]], 'answer': False}\n",
      "{'input': [[550, 550], [[81, 243, 55], [351, 0, 514], [162, 162, 298], [270, 351, 379], [432, 486, 325], [297, 513, 190], [108, 378, 271], [324, 81, 433]]], 'answer': True}\n",
      "{'input': [[3000, 750], [[300, 703, 75], [900, 555, 667], [2700, 370, 223], [1500, 333, 112], [2550, 444, 445], [750, 0, 482], [2850, 296, 297], [2100, 629, 186], [3000, 185, 630]]], 'answer': False}\n",
      "{'input': [[3800, 950], [[2660, 47, 894], [2850, 705, 424], [0, 893, 565], [1140, 940, 800], [1900, 188, 847], [1710, 329, 283], [1330, 376, 142], [3040, 846, 753], [3230, 799, 330], [3420, 611, 612]]], 'answer': False}\n",
      "{'input': [[1000, 250], [[1000, 12, 85], [600, 144, 181], [750, 48, 25], [950, 0, 229], [550, 132, 241], [0, 36, 133], [500, 84, 121]]], 'answer': False}\n",
      "{'input': [[450, 450], [[396, 440, 199], [308, 352, 309], [242, 396, 243], [88, 66, 375], [0, 154, 419], [22, 286, 155], [440, 132, 331], [154, 220, 89]]], 'answer': True}\n",
      "{'input': [[100, 100], [[65, 80, 75], [15, 85, 45], [25, 100, 10], [70, 0, 80], [30, 60, 95]]], 'answer': True}\n"
     ]
    }
   ],
   "source": [
    "for name, group in TESTS.items():\n",
    "    print(name)\n",
    "    for test in group:\n",
    "        print(test)\n",
    "        assert is_covered(*test['input']) == test['answer']"
   ]
  },
  {
   "cell_type": "code",
   "execution_count": null,
   "metadata": {},
   "outputs": [],
   "source": []
  },
  {
   "cell_type": "code",
   "execution_count": null,
   "metadata": {},
   "outputs": [],
   "source": []
  }
 ],
 "metadata": {
  "kernelspec": {
   "display_name": "Python 3",
   "language": "python",
   "name": "python3"
  },
  "language_info": {
   "codemirror_mode": {
    "name": "ipython",
    "version": 3
   },
   "file_extension": ".py",
   "mimetype": "text/x-python",
   "name": "python",
   "nbconvert_exporter": "python",
   "pygments_lexer": "ipython3",
   "version": "3.8.10"
  }
 },
 "nbformat": 4,
 "nbformat_minor": 4
}
