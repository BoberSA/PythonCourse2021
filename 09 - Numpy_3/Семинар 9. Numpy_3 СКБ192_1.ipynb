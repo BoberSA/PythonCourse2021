{
 "cells": [
  {
   "cell_type": "markdown",
   "metadata": {},
   "source": [
    "# Семинар 9. Numpy_3 (решение задач)\n",
    "\n",
    "1. Найти длину ломаной линии\n",
    "\n",
    "\n",
    "2. Сгенерировать шахматную доску размера NxN с ячейками размера MxM\n",
    "\n",
    "\n",
    "3. Построить триангуляцию области заданной формы\n",
    "\n",
    "    3.1. Вычислить центры и площади треугольников\n",
    "    \n",
    "    3.2. Удалить треугольники по условию\n",
    "\n",
    "\n",
    "4. Какое преобразование пространства задает линейный оператор с симметричной матрицей (2х2)?"
   ]
  },
  {
   "cell_type": "code",
   "execution_count": 2,
   "metadata": {},
   "outputs": [],
   "source": [
    "import numpy as np\n",
    "import matplotlib.pyplot as plt"
   ]
  },
  {
   "cell_type": "markdown",
   "metadata": {},
   "source": [
    "## 1. Найти длину ломаной линии\n",
    "\n",
    "Часто встречаются задачи, где функцию невозможно задать аналитически, а только вычислить ее в некоторых точках численно. В этом случае мы имеем дело с функцией, заданной таблично. График функции в этом случае строится как график кусочно-линейной функции, т.е. упорядоченный набор отрезков, соединяющих предыдущую точку со следующей. **Как вычислить длину такой линии, не прибегая к циклам Python**?\n"
   ]
  },
  {
   "cell_type": "code",
   "execution_count": 5,
   "metadata": {},
   "outputs": [
    {
     "data": {
      "text/plain": [
       "[<matplotlib.lines.Line2D at 0x25762e5bcd0>]"
      ]
     },
     "execution_count": 5,
     "metadata": {},
     "output_type": "execute_result"
    },
    {
     "data": {
      "image/png": "[encoded data removed]",
      "text/plain": [
       "<Figure size 432x288 with 1 Axes>"
      ]
     },
     "metadata": {
      "needs_background": "light"
     },
     "output_type": "display_data"
    }
   ],
   "source": [
    "arr = np.array([[0., 0.],\n",
    "                [1., 1.],\n",
    "                [2., 1.],\n",
    "                [3., 0.]])\n",
    "\n",
    "plt.plot(arr[:, 0], arr[:, 1])"
   ]
  },
  {
   "cell_type": "code",
   "execution_count": 6,
   "metadata": {},
   "outputs": [
    {
     "data": {
      "text/plain": [
       "3.8284271247461903"
      ]
     },
     "execution_count": 6,
     "metadata": {},
     "output_type": "execute_result"
    }
   ],
   "source": [
    "1 + 2*2**0.5"
   ]
  },
  {
   "cell_type": "code",
   "execution_count": 8,
   "metadata": {},
   "outputs": [],
   "source": [
    "np.linalg.norm?"
   ]
  },
  {
   "cell_type": "code",
   "execution_count": 10,
   "metadata": {},
   "outputs": [
    {
     "data": {
      "text/plain": [
       "3.82842712474619"
      ]
     },
     "execution_count": 10,
     "metadata": {},
     "output_type": "execute_result"
    }
   ],
   "source": [
    "np.linalg.norm(arr[1:] - arr[:-1], axis=1).sum()"
   ]
  },
  {
   "cell_type": "code",
   "execution_count": null,
   "metadata": {},
   "outputs": [],
   "source": []
  },
  {
   "cell_type": "code",
   "execution_count": 12,
   "metadata": {},
   "outputs": [
    {
     "data": {
      "text/plain": [
       "((2000, 2), 217.02388146684666)"
      ]
     },
     "execution_count": 12,
     "metadata": {},
     "output_type": "execute_result"
    }
   ],
   "source": [
    "t = np.linspace(0, 12*np.pi, 2000)\n",
    "x = np.sin(t)*(np.e**np.cos(t) - 2*np.cos(4*t) + np.sin(t/12)**5)\n",
    "y = np.cos(t)*(np.e**np.cos(t) - 2*np.cos(4*t) + np.sin(t/12)**5)\n",
    "arr = np.column_stack((x, y))\n",
    "arr.shape, np.linalg.norm(arr[1:] - arr[:-1], axis=1).sum()"
   ]
  },
  {
   "cell_type": "markdown",
   "metadata": {},
   "source": [
    "## 2. Сгенерировать шахматную доску размера NxN с ячейками размера MxM\n",
    "\n",
    "Задача, которую можно решить различными способами. В ней можно проявить ваш творческий потенциал."
   ]
  },
  {
   "cell_type": "code",
   "execution_count": 16,
   "metadata": {},
   "outputs": [
    {
     "data": {
      "text/plain": [
       "array([1, 1, 1, 2, 2, 2, 3, 3, 3])"
      ]
     },
     "execution_count": 16,
     "metadata": {},
     "output_type": "execute_result"
    }
   ],
   "source": [
    "np.repeat(np.array([[1, 2, 3]]), 3)"
   ]
  },
  {
   "cell_type": "code",
   "execution_count": 18,
   "metadata": {},
   "outputs": [
    {
     "data": {
      "text/plain": [
       "array([[1, 2, 3, 1, 2, 3],\n",
       "       [1, 2, 3, 1, 2, 3],\n",
       "       [1, 2, 3, 1, 2, 3]])"
      ]
     },
     "execution_count": 18,
     "metadata": {},
     "output_type": "execute_result"
    }
   ],
   "source": [
    "np.tile([1, 2, 3], (3, 2))"
   ]
  },
  {
   "cell_type": "code",
   "execution_count": 41,
   "metadata": {},
   "outputs": [],
   "source": [
    "N, M = 21, 5"
   ]
  },
  {
   "cell_type": "code",
   "execution_count": 42,
   "metadata": {},
   "outputs": [],
   "source": [
    "#0, 0, 1, 1, 2, 2, 3, 3, ..."
   ]
  },
  {
   "cell_type": "code",
   "execution_count": 43,
   "metadata": {},
   "outputs": [],
   "source": [
    "#0, 1, 2, 3, 4, 5, 6, 7, ..."
   ]
  },
  {
   "cell_type": "code",
   "execution_count": 44,
   "metadata": {},
   "outputs": [
    {
     "data": {
      "text/plain": [
       "array([0, 0, 0, 0, 0, 1, 1, 1, 1, 1, 2, 2, 2, 2, 2, 3, 3, 3, 3, 3, 4],\n",
       "      dtype=int32)"
      ]
     },
     "execution_count": 44,
     "metadata": {},
     "output_type": "execute_result"
    }
   ],
   "source": [
    "x = (np.arange(N) // M)\n",
    "x"
   ]
  },
  {
   "cell_type": "code",
   "execution_count": 45,
   "metadata": {},
   "outputs": [],
   "source": [
    "arr = (x[:, None] + x) % 2"
   ]
  },
  {
   "cell_type": "code",
   "execution_count": 46,
   "metadata": {},
   "outputs": [
    {
     "data": {
      "image/png": "[encoded data removed]",
      "text/plain": [
       "<Figure size 432x288 with 1 Axes>"
      ]
     },
     "metadata": {
      "needs_background": "light"
     },
     "output_type": "display_data"
    }
   ],
   "source": [
    "plt.spy(arr);"
   ]
  },
  {
   "cell_type": "markdown",
   "metadata": {},
   "source": [
    "## 3. Построить триангуляцию области заданной формы\n",
    "\n",
    "Такая задача встречается при решении различных задач методом конечных элементов. В этом методе искомая непрерывная функция заменяется на сумму кусочных функций, определенных на отдельных элементах. Исходная область может быть сложной формы, в то время как каждый элемент имеет простую форму (например, треугольник)."
   ]
  },
  {
   "cell_type": "markdown",
   "metadata": {},
   "source": [
    "Пусть задана прямоугольная область с круглым вырезом.\n",
    "Для разбиения на треугольники будем использовать метод триангуляции Делоне. Реализация этого метода присутствует в библиотеке `scipy.spatial`.\n",
    "\n",
    "Для построения такой триангуляции необходимо:\n",
    "- построить разбиение границы\n",
    "- сгенерировать внутренние узлы\n",
    "- применить реализацию метода Делоне"
   ]
  },
  {
   "cell_type": "code",
   "execution_count": null,
   "metadata": {},
   "outputs": [],
   "source": []
  },
  {
   "cell_type": "markdown",
   "metadata": {},
   "source": [
    "## 3.1. Вычислить центры и площади треугольников\n",
    "\n",
    "Разброс площадей треугольников характеризует качество триангуляции.\n",
    "\n",
    "Центры треугольников необходимы для удаления лишних треугольников."
   ]
  },
  {
   "cell_type": "code",
   "execution_count": null,
   "metadata": {},
   "outputs": [],
   "source": []
  },
  {
   "cell_type": "markdown",
   "metadata": {},
   "source": [
    "## 4. Какое преобразование пространства задает линейный оператор с симметричной матрицей (2х2)?"
   ]
  },
  {
   "cell_type": "code",
   "execution_count": 85,
   "metadata": {},
   "outputs": [
    {
     "data": {
      "text/plain": [
       "array([[2. , 1.5],\n",
       "       [1.5, 3. ]])"
      ]
     },
     "execution_count": 85,
     "metadata": {},
     "output_type": "execute_result"
    }
   ],
   "source": [
    "S = np.array([[2., 1.5],\n",
    "              [1.5, 3]])\n",
    "S"
   ]
  },
  {
   "cell_type": "code",
   "execution_count": 95,
   "metadata": {},
   "outputs": [
    {
     "data": {
      "text/plain": [
       "(2, 360)"
      ]
     },
     "execution_count": 95,
     "metadata": {},
     "output_type": "execute_result"
    }
   ],
   "source": [
    "alpha = np.radians(np.arange(0, 360, 1))\n",
    "n = np.row_stack((np.cos(alpha), np.sin(alpha)))\n",
    "n.shape"
   ]
  },
  {
   "cell_type": "code",
   "execution_count": 104,
   "metadata": {},
   "outputs": [
    {
     "data": {
      "text/plain": [
       "(-1.1, 1.1, -1.1, 1.1)"
      ]
     },
     "execution_count": 104,
     "metadata": {},
     "output_type": "execute_result"
    },
    {
     "data": {
      "image/png": "[encoded data removed]",
      "text/plain": [
       "<Figure size 432x288 with 1 Axes>"
      ]
     },
     "metadata": {
      "needs_background": "light"
     },
     "output_type": "display_data"
    }
   ],
   "source": [
    "plt.plot(*n, '-')\n",
    "plt.axis('equal')"
   ]
  },
  {
   "cell_type": "code",
   "execution_count": 97,
   "metadata": {},
   "outputs": [
    {
     "data": {
      "text/plain": [
       "((2, 2), (2, 360))"
      ]
     },
     "execution_count": 97,
     "metadata": {},
     "output_type": "execute_result"
    }
   ],
   "source": [
    "S.shape, n.shape"
   ]
  },
  {
   "cell_type": "code",
   "execution_count": 100,
   "metadata": {},
   "outputs": [],
   "source": [
    "t = S @ n"
   ]
  },
  {
   "cell_type": "code",
   "execution_count": 108,
   "metadata": {},
   "outputs": [
    {
     "data": {
      "text/plain": [
       "(-2.749992910304924,\n",
       " 2.7499929103049237,\n",
       " -3.6894058543918664,\n",
       " 3.689405854391866)"
      ]
     },
     "execution_count": 108,
     "metadata": {},
     "output_type": "execute_result"
    },
    {
     "data": {
      "image/png": "[encoded data removed]",
      "text/plain": [
       "<Figure size 432x288 with 1 Axes>"
      ]
     },
     "metadata": {
      "needs_background": "light"
     },
     "output_type": "display_data"
    }
   ],
   "source": [
    "plt.plot(*n, '-')\n",
    "plt.plot(*t, '-')\n",
    "k = 50\n",
    "plt.plot(*n[:,k], 'o')\n",
    "plt.plot(*t[:,k], 'o')\n",
    "plt.axis('equal')"
   ]
  },
  {
   "cell_type": "code",
   "execution_count": null,
   "metadata": {},
   "outputs": [],
   "source": [
    "S @ v = lambda * v"
   ]
  },
  {
   "cell_type": "code",
   "execution_count": 110,
   "metadata": {},
   "outputs": [],
   "source": [
    "vals, vecs = np.linalg.eig(S)"
   ]
  },
  {
   "cell_type": "code",
   "execution_count": 111,
   "metadata": {},
   "outputs": [
    {
     "data": {
      "text/plain": [
       "0.0"
      ]
     },
     "execution_count": 111,
     "metadata": {},
     "output_type": "execute_result"
    }
   ],
   "source": [
    "vecs[:,0] @ vecs[:,1]"
   ]
  },
  {
   "cell_type": "markdown",
   "metadata": {},
   "source": [
    "## 5. Решение задачи [`Four to the floor`](https://py.checkio.org/en/mission/four-to-the-floor/)\n",
    "\n",
    "\n",
    "Необходимо написать функцию `is_covered(room, sensors)`, параметрами которой являются:\n",
    "- `room` - размеры прямоугольной комнаты (список из двух чисел)\n",
    "- `sensors` - координаты и радиусы действия датчиков (список из списков по 3 числа)\n",
    "\n",
    "Функция должна вернуть `True`, если комната полностью просматривается сенсорами, иначе - `False`."
   ]
  },
  {
   "cell_type": "code",
   "execution_count": 70,
   "metadata": {},
   "outputs": [],
   "source": [
    "from numba import njit"
   ]
  },
  {
   "cell_type": "code",
   "execution_count": 71,
   "metadata": {},
   "outputs": [],
   "source": [
    "@njit(fastmath = True)\n",
    "def surface(point, sensors):\n",
    "    v = sensors[:, :2] - point\n",
    "    d = np.sum(v**2, axis=1)**0.5\n",
    "    return np.max(sensors[:, -1] - d)"
   ]
  },
  {
   "cell_type": "code",
   "execution_count": 48,
   "metadata": {
    "collapsed": true
   },
   "outputs": [
    {
     "name": "stdout",
     "output_type": "stream",
     "text": [
      "(0, 0) 0\n",
      "(0, 1000) 0\n",
      "(3000, 0) 2\n",
      "(3000, 1000) 2\n",
      "(2510.89253, 497.52537) 4\n",
      "(2810.526171, 719.297522) 4\n",
      "(1613.786709, 588.740352) 3\n",
      "(1604.796721, 571.500881) 2\n",
      "(1635.403725, 635.069275) 3\n",
      "(1613.387578, 591.074947) 3\n",
      "(2327.479096, 995.698922) 3\n",
      "(2916.580311, 513.707019) 4\n",
      "(3000, 750.0) 3\n",
      "(2419.052498, 0) 3\n",
      "(1698.4359709999999, 1000) 2\n",
      "(101.564029, 1000) 1\n",
      "(1966.9048109999999, 0) 2\n",
      "(1633.484861, 1000) 2\n",
      "(3000, 585.424869) 3\n",
      "(2329.190076, 1000) 2\n",
      "(2882.455532, 0) 3\n",
      "(1617.544468, 0) 1\n",
      "(2250.0, 1000) 2\n",
      "(0, 0) 2\n",
      "(0, 400) 2\n",
      "(400, 0) 0\n",
      "(400, 400) 2\n",
      "(193.44112, 80.646722) 5\n",
      "(237.910231, 347.461386) 5\n",
      "(258.411139, 104.018565) 6\n",
      "(319.23592, 205.3932) 6\n",
      "(51.765058, 163.823494) 4\n",
      "(294.571575, 139.542843) 7\n",
      "(139.551931, 354.029675) 4\n",
      "(85.063454, 322.893402) 4\n",
      "(261.320208, 106.039377) 7\n",
      "(176.679792, 359.960624) 4\n",
      "(140.003879, 198.885872) 5\n",
      "(338.303813, 44.65259) 4\n",
      "(267.500526, 356.664559) 4\n",
      "(345.048492, 46.472695) 3\n",
      "(160.015774, 277.48817) 5\n",
      "(226.543983, 187.248014) 7\n",
      "(315.103076, 111.340221) 6\n",
      "(271.617301, 100.588466) 6\n",
      "(228.382699, 129.411534) 7\n",
      "(339.800441, 28.473568) 2\n",
      "(7.660699, 115.878763) 3\n",
      "(339.640711, 31.367261) 3\n",
      "(328.821182, 82.445245) 5\n",
      "(177.052424, 199.190443) 6\n",
      "(338.37788, 28.170861) 3\n",
      "(353.957392, 80.091304) 4\n",
      "(400, 324.89995999999996) 3\n",
      "(400, 75.10004) 2\n",
      "(0, 102.462113) 2\n",
      "(338.885438, 0) 1\n",
      "(0, 122.871871) 2\n",
      "(400, 46.72956499999998) 1\n",
      "(100.0, 400) 3\n",
      "(325.329983, 0) 2\n",
      "(209.666295, 400) 3\n",
      "(400, 84.040821) 3\n",
      "(200.0, 400) 3\n",
      "(0, 0) 1\n",
      "(0, 900) 2\n",
      "(1800, 0) 1\n",
      "(1800, 900) 1\n",
      "(944.988031, 761.257978) 3\n",
      "(810.129258, 391.35759) 5\n",
      "(942.316687, 820.966734) 2\n",
      "(589.192767, 226.766152) 5\n",
      "(874.019903, 485.699912) 5\n",
      "(138.051402, 223.738677) 3\n",
      "(734.376344, 315.480976) 5\n",
      "(546.375943, 210.483086) 4\n",
      "(914.516914, 578.624057) 4\n",
      "(882.067936, 91.019044) 5\n",
      "(929.480736, 802.211045) 3\n",
      "(856.958193, 50.221847) 4\n",
      "(982.493862, 384.983632) 5\n",
      "(856.754014, 49.91124) 3\n",
      "(985.598926, 410.676995) 4\n",
      "(984.987593, 584.972083) 3\n",
      "(858.708053, 144.678813) 5\n",
      "(815.638248, 494.929345) 5\n",
      "(896.739111, 62.39141) 4\n",
      "(825.560483, 553.879034) 4\n",
      "(1036.812409, 427.953103) 4\n",
      "(1297.893473, 493.223369) 5\n",
      "(1080.161043, 349.233131) 5\n",
      "(1158.588956, 584.516869) 4\n",
      "(1107.157468, 569.481447) 4\n",
      "(1304.842532, 456.518553) 6\n",
      "(1298.900545, 409.879564) 6\n",
      "(1102.56287, 566.949705) 4\n",
      "(1664.846549, 78.8523) 3\n",
      "(1093.999604, 459.41693) 5\n",
      "(995.774523, 396.936308) 4\n",
      "(856.984098, 49.960243) 3\n",
      "(1260.0, 495.0) 6\n",
      "(1472.841315, 434.562875) 4\n",
      "(1160.56909, 482.604755) 6\n",
      "(1140.143314, 559.213372) 5\n",
      "(1419.456686, 0.586628) 4\n",
      "(1619.980801, 671.780229) 3\n",
      "(1122.472029, 529.634865) 5\n",
      "(647.376364, 425.494544) 5\n",
      "(739.68246, 56.270162) 4\n",
      "(646.749752, 425.997023) 4\n",
      "(1350.0, 405.0) 5\n",
      "(1100.769231, 571.153846) 3\n",
      "(0, 303.887216) 2\n",
      "(929.209979, 900) 1\n",
      "(821.151308, 0) 2\n",
      "(881.480577, 900) 2\n",
      "(934.705955, 0) 3\n",
      "(1007.147248, 900) 1\n",
      "(1654.873397, 0) 2\n",
      "(865.1266029999999, 0) 2\n",
      "(1800, 360.0) 2\n",
      "(1440.0, 0) 3\n",
      "(708.505319, 0) 3\n",
      "(191.494681, 0) 2\n",
      "(1419.272641, 0) 3\n",
      "(560.727359, 0) 3\n",
      "(1499.248116, 900) 2\n",
      "(1200.751884, 900) 2\n",
      "(0, 0) 4\n",
      "(0, 650) 4\n",
      "(650, 0) 2\n",
      "(650, 650) 1\n",
      "(510.727885, 600.013118) 5\n",
      "(636.56944, 486.156253) 3\n",
      "(431.83056, 639.710413) 6\n",
      "(488.809419, 612.904708) 6\n",
      "(635.901935, 487.01783) 4\n",
      "(4.258065, 601.86217) 8\n",
      "(123.18839, 288.924645) 6\n",
      "(288.963741, 483.740935) 8\n",
      "(124.810708, 289.162521) 7\n",
      "(469.677057, 470.56234) 6\n",
      "(442.47057, 428.294127) 6\n",
      "(509.490752, 590.349075) 6\n",
      "(125.418764, 288.69794) 6\n",
      "(8.90664, 623.132302) 7\n",
      "(586.781404, 454.300569) 5\n",
      "(635.554037, 485.121739) 4\n",
      "(435.987441, 244.687599) 5\n",
      "(63.500122, 351.000486) 8\n",
      "(579.378607, 165.640632) 4\n",
      "(607.846112, 288.999818) 4\n",
      "(602.735711, 392.008165) 4\n",
      "(0, 599.2161590000001) 7\n",
      "(650, 467.907593) 2\n",
      "(402.959178, 650) 5\n",
      "(109.04082199999999, 650) 8\n",
      "(0, 647.4305830000001) 5\n",
      "(0, 312.569417) 5\n",
      "(187.372862, 650) 8\n",
      "(4.627138000000002, 650) 5\n",
      "(0, 325.343044) 6\n",
      "(512.858329, 650) 4\n",
      "(0, 615.673046) 6\n",
      "(43.982527000000005, 650) 7\n",
      "(650, 649.518705) 2\n",
      "(650, 502.481295) 2\n",
      "(649.664564, 650) 2\n",
      "(438.335436, 650) 5\n",
      "(278.741816, 0) 4\n",
      "(335.852646, 650) 6\n",
      "(0, 359.096404) 7\n",
      "(317.544868, 650) 7\n",
      "(459.37427, 0) 3\n",
      "(446.929402, 650) 5\n",
      "(650, 273.608467) 3\n",
      "(650, 174.391533) 3\n",
      "(0, 569.317978) 8\n",
      "(0, 518.682022) 8\n",
      "(622.993399, 650) 3\n",
      "(17.00660099999999, 650) 6\n",
      "(0, 0) 1\n",
      "(0, 500) 0\n",
      "(1000, 0) 1\n",
      "(1000, 500) 0\n",
      "(848.996221, 104.987403) 4\n",
      "(827.150568, 32.16856) 4\n",
      "(960.196893, 94.736272) 3\n",
      "(653.560112, 324.968311) 5\n",
      "(797.951952, 259.574217) 5\n",
      "(520.715823, 277.596204) 4\n",
      "(468.254765, 41.521443) 4\n",
      "(847.654685, 155.538919) 4\n",
      "(568.135927, 307.478145) 4\n",
      "(781.08583, 421.54666) 3\n",
      "(919.5037, 468.129625) 2\n",
      "(743.688012, 399.911447) 4\n",
      "(536.513329, 103.947614) 5\n",
      "(681.275897, 15.599103) 5\n",
      "(1.850493, 261.568637) 3\n",
      "(788.123802, 396.746647) 4\n",
      "(112.467561, 225.519032) 4\n",
      "(918.225014, 324.416682) 3\n",
      "(955.901699, 0) 2\n",
      "(844.098301, 0) 3\n",
      "(806.12495, 0) 3\n",
      "(493.87505, 0) 3\n",
      "(1000, 475.0) 1\n",
      "(525.0, 0) 4\n",
      "(0, 300.0) 3\n",
      "(664.575131, 0) 4\n",
      "(135.424869, 0) 2\n",
      "(746.410162, 500) 2\n",
      "(53.589837999999986, 500) 3\n",
      "(0, 481.173769) 2\n",
      "(434.52078800000004, 0) 3\n",
      "(373.205081, 500) 3\n",
      "(26.794918999999993, 500) 2\n",
      "(643.614066, 0) 5\n",
      "(356.385934, 0) 3\n",
      "(913.0677909999999, 500) 1\n",
      "(86.932209, 500) 4\n",
      "(0, 486.803399) 1\n",
      "(0, 263.196601) 2\n",
      "(182.91562, 500) 4\n",
      "(17.084379999999996, 500) 1\n",
      "(891.4213560000001, 0) 3\n",
      "(608.5786439999999, 0) 5\n",
      "(0, 0) 2\n",
      "(0, 650) 3\n",
      "(650, 0) 1\n",
      "(650, 650) 2\n",
      "(459.600271, 9.13279) 4\n",
      "(480.997944, 33.090161) 4\n",
      "(496.293124, 52.114998) 4\n",
      "(607.926054, 349.802811) 4\n",
      "(95.595541, 304.446656) 6\n",
      "(80.206859, 233.448558) 6\n",
      "(63.111918, 361.660612) 5\n",
      "(480.699696, 18.828615) 3\n",
      "(520.937605, 40.708451) 3\n",
      "(67.240286, 292.683743) 6\n",
      "(479.302996, 63.27281) 5\n",
      "(416.507655, 213.981628) 5\n",
      "(398.982502, 233.690962) 5\n",
      "(127.883216, 128.61072) 5\n",
      "(450.741516, 0) 3\n",
      "(539.677412, 650) 3\n",
      "(0, 385.0) 4\n",
      "(0, 191.0) 5\n",
      "(0, 35.44066800000002) 3\n",
      "(650, 151.46841899999998) 3\n",
      "(437.022098, 0) 4\n",
      "(74.977902, 0) 3\n",
      "(0, 248.002315) 5\n",
      "(479.22291, 0) 2\n",
      "(256.426746, 0) 4\n",
      "(188.306668, 650) 4\n",
      "(650, 334.986013) 3\n",
      "(650, 49.013986999999986) 2\n",
      "(0, 169.71776899999998) 4\n",
      "(409.47344499999997, 650) 4\n",
      "(0, 0) 2\n",
      "(0, 750) 2\n",
      "(750, 0) 1\n",
      "(750, 750) 2\n",
      "(399.491283, 79.006974) 6\n",
      "(313.092783, 98.959278) 6\n",
      "(299.990407, 103.289502) 6\n",
      "(105.913401, 218.578213) 6\n",
      "(735.449045, 134.640127) 4\n",
      "(548.64317, 77.130086) 5\n",
      "(336.314809, 73.014809) 5\n",
      "(703.985191, 440.685191) 4\n",
      "(275.196773, 77.530647) 5\n",
      "(86.206254, 166.991251) 5\n",
      "(667.351438, 283.220288) 5\n",
      "(533.999958, 132.166684) 6\n",
      "(332.880606, 441.567276) 5\n",
      "(305.215945, 109.591345) 7\n",
      "(292.023025, 387.586185) 6\n",
      "(737.800504, 120.119698) 3\n",
      "(289.332792, 382.738869) 7\n",
      "(555.996067, 1.791332) 4\n",
      "(350.953822, 403.264067) 6\n",
      "(367.062221, 344.203056) 7\n",
      "(284.185594, 384.600421) 6\n",
      "(0, 350.118305) 5\n",
      "(750, 142.40468600000003) 3\n",
      "(0, 607.560386) 3\n",
      "(0, 280.439614) 4\n",
      "(542.773688, 750) 3\n",
      "(123.22631200000001, 750) 3\n",
      "(750, 376.37120600000003) 3\n",
      "(750, 141.628794) 2\n",
      "(540.781571, 0) 4\n",
      "(495.218429, 0) 4\n",
      "(0, 583.6334469999999) 4\n",
      "(0, 8.36655300000001) 3\n",
      "(98.351591, 0) 4\n",
      "(49.648409, 0) 3\n",
      "(732.699248, 0) 2\n",
      "(81.30075199999999, 0) 4\n",
      "(0, 380.210468) 5\n",
      "(556.0, 0) 3\n",
      "(0, 0) 3\n",
      "(0, 350) 1\n",
      "(350, 0) 0\n",
      "(350, 350) 0\n",
      "(80.00008, 253.749819) 4\n",
      "(207.15128, 172.693734) 4\n",
      "(57.39589, 255.891173) 3\n",
      "(63.610461, 233.630822) 5\n",
      "(187.532036, 306.205188) 2\n",
      "(164.09974, 302.279792) 3\n",
      "(50.534406, 211.427525) 5\n",
      "(185.539756, 150.701973) 5\n",
      "(51.336714, 236.103909) 4\n",
      "(0, 248.950269) 2\n",
      "(226.271218, 0) 3\n",
      "(350, 225.022469) 1\n",
      "(350, 46.977531) 1\n",
      "(307.658092, 0) 1\n",
      "(100.341908, 0) 4\n",
      "(0, 238.293906) 3\n",
      "(219.160827, 0) 4\n",
      "(277.263413, 0) 2\n",
      "(117.79219, 350) 1\n",
      "(0, 0) 2\n",
      "(0, 300) 1\n",
      "(600, 0) 2\n",
      "(600, 300) 1\n",
      "(539.986818, 267.484621) 3\n",
      "(339.189653, 33.221261) 3\n",
      "(183.67494, 60.07506) 3\n",
      "(90.07506, 153.67494) 3\n",
      "(242.239916, 37.054142) 2\n",
      "(222.17279, 245.156908) 3\n",
      "(241.563899, 38.318407) 3\n",
      "(241.220339, 37.309323) 2\n",
      "(600, 245.884573) 2\n",
      "(354.115427, 0) 2\n",
      "(0, 162.249807) 2\n",
      "(195.0, 0) 2\n",
      "(266.282897, 0) 1\n",
      "(246.173141, 300) 2\n",
      "(538.117618, 300) 2\n",
      "(61.88238200000001, 300) 2\n",
      "(225.0, 0) 1\n",
      "(180.623919, 300) 2\n",
      "(0, 0) 1\n",
      "(0, 300) 3\n",
      "(300, 0) 1\n",
      "(300, 300) 4\n",
      "(72.263474, 25.540585) 4\n",
      "(269.337976, 17.247388) 3\n",
      "(94.16058, 15.87594) 3\n",
      "(130.287171, 5.205122) 3\n",
      "(111.120705, 143.979883) 7\n",
      "(121.774804, 148.311033) 7\n",
      "(172.28209, 185.537785) 8\n",
      "(207.999379, 260.583126) 7\n",
      "(75.001571, 135.752042) 7\n",
      "(147.644266, 163.26881) 8\n",
      "(108.677571, 61.298286) 6\n",
      "(47.773499, 16.772438) 3\n",
      "(98.312672, 46.404959) 5\n",
      "(80.573791, 179.44657) 7\n",
      "(246.249791, 63.888982) 5\n",
      "(169.111034, 98.172874) 7\n",
      "(192.15193, 170.209604) 8\n",
      "(258.713454, 70.367319) 5\n",
      "(224.163427, 179.994168) 7\n",
      "(173.619592, 89.015266) 6\n",
      "(273.232, 155.688572) 6\n",
      "(207.976054, 62.465791) 5\n",
      "(281.463481, 140.29471) 5\n",
      "(172.67445, 149.360463) 8\n",
      "(93.207951, 219.77487) 6\n",
      "(261.4526, 61.426965) 4\n",
      "(177.574219, 92.25879) 7\n",
      "(218.50912, 71.686163) 6\n",
      "(94.03124, 215.55469) 7\n",
      "(92.0181, 227.018101) 6\n",
      "(215.920038, 146.326145) 8\n",
      "(245.409749, 102.2787) 6\n",
      "(95.891324, 219.169051) 7\n",
      "(224.446635, 135.734688) 7\n",
      "(96.194842, 219.098353) 8\n",
      "(91.36615, 60.006913) 6\n",
      "(177.757938, 297.584328) 7\n",
      "(212.085058, 137.378488) 8\n",
      "(117.135259, 19.270518) 4\n",
      "(265.677191, 137.010179) 6\n",
      "(96.019477, 219.410862) 7\n",
      "(0, 81.254921) 4\n",
      "(300, 32.153903000000014) 2\n",
      "(180.0, 0) 3\n",
      "(0, 147.522729) 6\n",
      "(209.248116, 300) 6\n",
      "(0, 189.852814) 6\n",
      "(0, 20.147186000000005) 2\n",
      "(300, 60.57777899999999) 3\n",
      "(95.26334, 300) 6\n",
      "(0, 220.454077) 5\n",
      "(270.0, 0) 2\n",
      "(0, 295.623059) 4\n",
      "(0, 94.376941) 5\n",
      "(174.852814, 300) 6\n",
      "(5.147186000000005, 300) 4\n",
      "(0, 28.849548) 3\n",
      "(271.150452, 300) 5\n",
      "(135.941191, 0) 2\n",
      "(183.062527, 300) 6\n",
      "(300, 146.295739) 4\n",
      "(75.0, 300) 5\n"
     ]
    }
   ],
   "source": [
    "from fttf_tests import TESTS"
   ]
  },
  {
   "cell_type": "code",
   "execution_count": 49,
   "metadata": {},
   "outputs": [
    {
     "name": "stdout",
     "output_type": "stream",
     "text": [
      "Basics 10\n",
      "Extra 11\n",
      "Randoms 10\n"
     ]
    }
   ],
   "source": [
    "for key, value in TESTS.items():\n",
    "    print(key, len(value))"
   ]
  },
  {
   "cell_type": "code",
   "execution_count": 50,
   "metadata": {},
   "outputs": [],
   "source": [
    "from scipy.optimize import minimize"
   ]
  },
  {
   "cell_type": "code",
   "execution_count": 78,
   "metadata": {},
   "outputs": [],
   "source": [
    "def is_covered(room, sensors):\n",
    "    W, H = room\n",
    "    sensors = np.array(sensors)\n",
    "    \n",
    "    bounds = ((0, W), (0, H))\n",
    "    N = 100\n",
    "    rng = np.random.default_rng()\n",
    "    pts = np.column_stack((rng.uniform(0, W, size=N),\n",
    "                           rng.uniform(0, H, size=N)))\n",
    "    \n",
    "    for p in pts:\n",
    "        res = minimize(surface, p, args=(sensors,), \n",
    "                       method='SLSQP', bounds=bounds, tol=1e-2)\n",
    "        if res.fun < 0:\n",
    "            return False\n",
    "        \n",
    "    return True"
   ]
  },
  {
   "cell_type": "code",
   "execution_count": 84,
   "metadata": {},
   "outputs": [
    {
     "name": "stdout",
     "output_type": "stream",
     "text": [
      "Basics\n",
      "{'input': [[200, 150], [[100, 75, 130]]], 'answer': True}\n",
      "{'input': [[200, 150], [[50, 75, 100], [150, 75, 100]]], 'answer': True}\n",
      "{'input': [[200, 150], [[50, 75, 100], [150, 25, 50], [150, 125, 50]]], 'answer': False}\n",
      "{'input': [[200, 150], [[100, 75, 100], [0, 40, 60], [0, 110, 60], [200, 40, 60], [200, 110, 60]]], 'answer': True}\n",
      "{'input': [[200, 150], [[100, 75, 100], [0, 40, 50], [0, 110, 50], [200, 40, 50], [200, 110, 50]]], 'answer': False}\n",
      "{'input': [[200, 150], [[100, 75, 110], [105, 75, 110]]], 'answer': False}\n",
      "{'input': [[200, 150], [[100, 75, 110], [105, 75, 20]]], 'answer': False}\n",
      "{'input': [[3, 1], [[1, 0, 2], [2, 1, 2]]], 'answer': True}\n",
      "{'input': [[30, 10], [[0, 10, 10], [10, 0, 10], [20, 10, 10], [30, 0, 10]]], 'answer': True}\n",
      "{'input': [[30, 10], [[0, 10, 8], [10, 0, 7], [20, 10, 9], [30, 0, 10]]], 'answer': False}\n",
      "Extra\n",
      "{'input': [[8, 6], [[4, 3, 5]]], 'answer': True}\n",
      "{'input': [[2000, 1000], [[0, 0, 500], [500, 0, 500], [1000, 0, 500], [1500, 0, 500], [2000, 0, 500], [0, 500, 500], [500, 500, 500], [1000, 500, 500], [1500, 500, 500], [2000, 500, 500]]], 'answer': False}\n",
      "{'input': [[4000, 1000], [[0, 500, 1600], [2000, 100, 500], [2100, 900, 500], [2500, 200, 500], [2600, 800, 500], [4000, 0, 1200]]], 'answer': False}\n",
      "{'input': [[4000, 1000], [[0, 500, 1600], [2000, 100, 500], [2100, 900, 500], [2500, 200, 500], [2600, 800, 500], [4000, 0, 1200], [4000, 500, 200]]], 'answer': False}\n",
      "{'input': [[4000, 1000], [[0, 500, 1600], [2000, 100, 500], [2100, 900, 500], [2500, 200, 500], [2600, 800, 500], [4000, 500, 1200], [1600, 500, 600]]], 'answer': True}\n",
      "{'input': [[4000, 1000], [[0, 500, 1600], [2000, 100, 500], [2100, 900, 500], [2500, 200, 500], [2600, 800, 500], [4000, 600, 1200], [1600, 500, 600]]], 'answer': False}\n",
      "{'input': [[100, 100], [[50, 50, 65], [25, 25, 25], [25, 75, 25], [75, 25, 25], [75, 75, 25]]], 'answer': False}\n",
      "{'input': [[100, 100], [[50, 50, 65], [5, 5, 25], [5, 95, 25], [95, 5, 25], [95, 95, 25]]], 'answer': True}\n",
      "{'input': [[800, 800], [[0, 0, 500], [0, 800, 500], [800, 0, 500], [800, 800, 500]]], 'answer': False}\n",
      "{'input': [[800, 800], [[0, 0, 570], [0, 800, 500], [800, 0, 500], [800, 800, 570]]], 'answer': True}\n",
      "{'input': [[300, 150], [[40, 60, 240], [240, 140, 100], [295, 10, 50]]], 'answer': False}\n",
      "Randoms\n",
      "{'input': [[3000, 1000], [[1050, 800, 150], [3000, 150, 600], [900, 950, 800], [2550, 750, 950], [2700, 850, 400], [2250, 300, 700]]], 'answer': False}\n",
      "{'input': [[400, 400], [[180, 220, 140], [300, 200, 160], [280, 160, 60], [160, 20, 180], [260, 400, 380], [100, 360, 40], [60, 140, 300], [360, 280, 200]]], 'answer': False}\n",
      "{'input': [[1800, 900], [[360, 765, 585], [180, 495, 810], [1530, 405, 720], [1170, 450, 135], [1260, 90, 405], [1440, 360, 360], [810, 270, 225], [450, 180, 315], [990, 135, 450], [1350, 675, 270]]], 'answer': False}\n",
      "{'input': [[650, 650], [[256, 192, 481], [96, 480, 193], [160, 640, 353], [416, 128, 641], [544, 576, 129], [0, 352, 449], [64, 608, 257], [192, 320, 417], [608, 224, 65], [320, 544, 321]]], 'answer': True}\n",
      "{'input': [[1000, 500], [[900, 50, 75], [650, 125, 200], [1000, 0, 475], [400, 300, 400], [200, 225, 325], [500, 400, 425], [100, 375, 150], [750, 175, 225]]], 'answer': False}\n",
      "{'input': [[650, 650], [[64, 384, 545], [0, 288, 97], [256, 480, 513], [192, 32, 289], [480, 352, 417], [576, 192, 161], [160, 448, 321]]], 'answer': True}\n",
      "{'input': [[750, 750], [[296, 370, 630], [481, 629, 556], [333, 444, 371], [518, 259, 260], [74, 296, 297], [407, 74, 334], [148, 0, 408]]], 'answer': True}\n",
      "{'input': [[350, 350], [[51, 68, 188], [204, 136, 171], [17, 34, 205], [0, 85, 290], [136, 221, 86]]], 'answer': False}\n",
      "{'input': [[600, 300], [[510, 90, 180], [30, 0, 165], [480, 165, 270], [300, 270, 240], [0, 120, 255]]], 'answer': False}\n",
      "{'input': [[300, 300], [[180, 240, 240], [60, 285, 150], [30, 105, 90], [225, 120, 60], [285, 255, 195], [45, 0, 225], [90, 195, 135], [75, 225, 210], [255, 135, 180], [240, 300, 165]]], 'answer': True}\n"
     ]
    }
   ],
   "source": [
    "for name, group in TESTS.items():\n",
    "    print(name)\n",
    "    for test in group:\n",
    "        print(test)\n",
    "        assert is_covered(*test['input']) == test['answer']"
   ]
  },
  {
   "cell_type": "code",
   "execution_count": null,
   "metadata": {},
   "outputs": [],
   "source": []
  },
  {
   "cell_type": "code",
   "execution_count": null,
   "metadata": {},
   "outputs": [],
   "source": []
  }
 ],
 "metadata": {
  "kernelspec": {
   "display_name": "Python 3",
   "language": "python",
   "name": "python3"
  },
  "language_info": {
   "codemirror_mode": {
    "name": "ipython",
    "version": 3
   },
   "file_extension": ".py",
   "mimetype": "text/x-python",
   "name": "python",
   "nbconvert_exporter": "python",
   "pygments_lexer": "ipython3",
   "version": "3.8.10"
  }
 },
 "nbformat": 4,
 "nbformat_minor": 4
}
