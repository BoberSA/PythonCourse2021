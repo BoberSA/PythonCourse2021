{
 "cells": [
  {
   "cell_type": "markdown",
   "metadata": {},
   "source": [
    "# Семинар 22. ООП"
   ]
  },
  {
   "cell_type": "markdown",
   "metadata": {},
   "source": [
    "### Задание 0. Классы\n",
    "\n",
    "Создать класс Point, от которого унаследован Shape, а от него - Circle и Square.\n",
    "\n",
    "Point - точка на плоскости, отображаемая определенным маркером '.'.\n",
    "\n",
    "Shape - абстрактная фигура, не имеющая формы, которая также отображается на графике маркером 'x'.\n",
    "\n",
    "Circle и Square отображаются на графике в виде круга и квадрата заданных размеров.\n",
    "\n",
    "Вся иерархия должна:\n",
    "1. реализовывать метод draw(self), который отрисовывает объект при помощи matplotlib; [0.2]\n",
    "2. (кроме Point) реализовывать метод is_inside(self, point), где point - объект класса Point. Метод проверяет, лежит ли точка внутри фигуры; [0.2]\n",
    "3. создать несколько объектов классов Circle, Square, отрисовать и проверить несколько точек на принадлежность им; [0.2]\n",
    "4. создать класс Union, унаследованный от Shape, являющий объединением фигур-наследников класса Shape из заданного списка, реализующий обе функции (draw, is_inside); [0.2]\n",
    "5. создать класс Intersection, унаследованный от Shape, являющий пересечением фигур-наследников класса Shape из заданного списка, реализующий обе функции (draw, is_inside); [0.2]\n"
   ]
  },
  {
   "cell_type": "code",
   "execution_count": 10,
   "metadata": {},
   "outputs": [],
   "source": [
    "import matplotlib.pyplot as plt\n",
    "\n",
    "class Point:\n",
    "    def __init__(self, x=0, y=0, style='.r'):\n",
    "        self.x = x\n",
    "        self.y = y\n",
    "        self.style = style\n",
    "        \n",
    "    def draw(self, ax=None):\n",
    "        ax_ = ax if ax is not None else plt.gca()\n",
    "        ax_.plot(self.x, self.y, self.style)\n",
    "        return ax"
   ]
  },
  {
   "cell_type": "code",
   "execution_count": 11,
   "metadata": {},
   "outputs": [],
   "source": [
    "class Shape(Point):\n",
    "    \n",
    "    def is_inside(self, point: Point):\n",
    "        raise NotImplementedError()"
   ]
  },
  {
   "cell_type": "code",
   "execution_count": 55,
   "metadata": {},
   "outputs": [],
   "source": [
    "class Circle(Shape):\n",
    "    def __init__(self, x=0, y=0, r=1, color=(1, 0, 0, 1)):\n",
    "        super().__init__(x, y)\n",
    "        self.color = color\n",
    "        self.r = r\n",
    "        \n",
    "    def draw(self, ax=None):\n",
    "        ax_ = ax if ax is not None else plt.gca()\n",
    "        circle = plt.Circle((self.x, self.y), self.r, color=self.color)\n",
    "        ax_.add_patch(circle)\n",
    "        return ax\n",
    "    \n",
    "    def is_inside(self, point):\n",
    "        if isinstance(point, Point):\n",
    "            dx = point.x - self.x\n",
    "            dy = point.y - self.y\n",
    "            return dx**2 + dy**2 < self.r**2\n",
    "        else:      \n",
    "            dxy = point - np.array([self.x, self.y])\n",
    "            return np.sum(dxy**2, axis=1) < self.r**2"
   ]
  },
  {
   "cell_type": "code",
   "execution_count": 60,
   "metadata": {},
   "outputs": [],
   "source": [
    "class Union(Shape):\n",
    "    def __init__(self, *shapes):\n",
    "        self.shapes = shapes\n",
    "        \n",
    "    def draw(self, ax=None):\n",
    "        for shape in self.shapes:\n",
    "            shape.draw(ax)\n",
    "        return ax\n",
    "    \n",
    "    def is_inside(self, point: Point):\n",
    "        if isinstance(point, Point):\n",
    "            for shape in self.shapes:\n",
    "                f = shape.is_inside(point)\n",
    "                if f: \n",
    "                    return True\n",
    "            return False\n",
    "        else:\n",
    "            mask = np.zeros_like(point[:, 0], dtype=bool)\n",
    "            for shape in self.shapes:\n",
    "                f = shape.is_inside(point)\n",
    "                mask = mask | f\n",
    "            return mask"
   ]
  },
  {
   "cell_type": "code",
   "execution_count": 69,
   "metadata": {},
   "outputs": [],
   "source": [
    "class Intersection(Shape):\n",
    "    def __init__(self, *shapes):\n",
    "        self.shapes = shapes\n",
    "        \n",
    "    def draw(self, ax=None):\n",
    "        for shape in self.shapes:\n",
    "            shape.draw(ax)\n",
    "        return ax\n",
    "    \n",
    "    def is_inside(self, point: Point):\n",
    "        if isinstance(point, Point):\n",
    "            for shape in self.shapes:\n",
    "                f = shape.is_inside(point)\n",
    "                if f: \n",
    "                    return True\n",
    "            return False\n",
    "        else:\n",
    "            mask = np.ones_like(point[:, 0], dtype=bool)\n",
    "            for shape in self.shapes:\n",
    "                f = shape.is_inside(point)\n",
    "                mask = mask & f\n",
    "            return mask"
   ]
  },
  {
   "cell_type": "code",
   "execution_count": 61,
   "metadata": {},
   "outputs": [
    {
     "data": {
      "text/plain": [
       "True"
      ]
     },
     "execution_count": 61,
     "metadata": {},
     "output_type": "execute_result"
    },
    {
     "data": {
      "image/png": "[encoded data removed]",
      "text/plain": [
       "<Figure size 432x288 with 1 Axes>"
      ]
     },
     "metadata": {
      "needs_background": "light"
     },
     "output_type": "display_data"
    }
   ],
   "source": [
    "plt.xlim([0, 10])\n",
    "plt.ylim([0, 10])\n",
    "c1 = Circle(5, 5, 2, color=(1, 0, 0, 0.5))\n",
    "c2 = Circle(6.5, 6.5, 1, color=(0, 1, 0, 0.5))\n",
    "p = Point(6, 6, 'ok')\n",
    "u = Union(c1, c2)\n",
    "u.draw()\n",
    "p.draw()\n",
    "plt.axis('equal')\n",
    "u.is_inside(p)"
   ]
  },
  {
   "cell_type": "code",
   "execution_count": 62,
   "metadata": {},
   "outputs": [],
   "source": [
    "import numpy as np"
   ]
  },
  {
   "cell_type": "code",
   "execution_count": 71,
   "metadata": {},
   "outputs": [
    {
     "data": {
      "text/plain": [
       "(2601, 2)"
      ]
     },
     "execution_count": 71,
     "metadata": {},
     "output_type": "execute_result"
    }
   ],
   "source": [
    "Y, X = np.mgrid[0:10:51j, 0:10:51j]\n",
    "pts = np.column_stack((X.flatten(), Y.flatten()))\n",
    "pts.shape"
   ]
  },
  {
   "cell_type": "code",
   "execution_count": 76,
   "metadata": {},
   "outputs": [
    {
     "data": {
      "text/plain": [
       "(-0.5, 10.5, -0.5, 10.5)"
      ]
     },
     "execution_count": 76,
     "metadata": {},
     "output_type": "execute_result"
    },
    {
     "data": {
      "image/png": "[encoded data removed]",
      "text/plain": [
       "<Figure size 1200x800 with 1 Axes>"
      ]
     },
     "metadata": {
      "needs_background": "light"
     },
     "output_type": "display_data"
    }
   ],
   "source": [
    "plt.figure(dpi=200)\n",
    "u = Union(c1, c2)\n",
    "mask = u.is_inside(pts)\n",
    "nmask = np.logical_not(mask)\n",
    "u.draw()\n",
    "plt.plot(pts[mask, 0], pts[mask, 1], '.k')\n",
    "plt.plot(pts[nmask, 0], pts[nmask, 1], '.k', alpha=0.5, ms=1)\n",
    "plt.axis('equal')"
   ]
  },
  {
   "cell_type": "code",
   "execution_count": 7,
   "metadata": {},
   "outputs": [
    {
     "ename": "NotImplementedError",
     "evalue": "",
     "output_type": "error",
     "traceback": [
      "\u001b[1;31m---------------------------------------------------------------------------\u001b[0m",
      "\u001b[1;31mNotImplementedError\u001b[0m                       Traceback (most recent call last)",
      "\u001b[1;32m~\\AppData\\Local\\Temp/ipykernel_53704/2878599773.py\u001b[0m in \u001b[0;36m<module>\u001b[1;34m\u001b[0m\n\u001b[1;32m----> 1\u001b[1;33m \u001b[0mShape\u001b[0m\u001b[1;33m(\u001b[0m\u001b[1;33m)\u001b[0m\u001b[1;33m.\u001b[0m\u001b[0mis_inside\u001b[0m\u001b[1;33m(\u001b[0m\u001b[0mPoint\u001b[0m\u001b[1;33m(\u001b[0m\u001b[1;33m)\u001b[0m\u001b[1;33m)\u001b[0m\u001b[1;33m\u001b[0m\u001b[1;33m\u001b[0m\u001b[0m\n\u001b[0m",
      "\u001b[1;32m~\\AppData\\Local\\Temp/ipykernel_53704/4096323919.py\u001b[0m in \u001b[0;36mis_inside\u001b[1;34m(self, point)\u001b[0m\n\u001b[0;32m      2\u001b[0m \u001b[1;33m\u001b[0m\u001b[0m\n\u001b[0;32m      3\u001b[0m     \u001b[1;32mdef\u001b[0m \u001b[0mis_inside\u001b[0m\u001b[1;33m(\u001b[0m\u001b[0mself\u001b[0m\u001b[1;33m,\u001b[0m \u001b[0mpoint\u001b[0m\u001b[1;33m:\u001b[0m \u001b[0mPoint\u001b[0m\u001b[1;33m)\u001b[0m\u001b[1;33m:\u001b[0m\u001b[1;33m\u001b[0m\u001b[1;33m\u001b[0m\u001b[0m\n\u001b[1;32m----> 4\u001b[1;33m         \u001b[1;32mraise\u001b[0m \u001b[0mNotImplementedError\u001b[0m\u001b[1;33m(\u001b[0m\u001b[1;33m)\u001b[0m\u001b[1;33m\u001b[0m\u001b[1;33m\u001b[0m\u001b[0m\n\u001b[0m",
      "\u001b[1;31mNotImplementedError\u001b[0m: "
     ]
    }
   ],
   "source": [
    "Shape().is_inside(Point())"
   ]
  },
  {
   "cell_type": "markdown",
   "metadata": {},
   "source": [
    "### Задание 1. Декораторы\n",
    "\n",
    "Исключения в Python бывают разных типов: ValueError, TypeError, RuntimeError и др.\n",
    "Все исключения унаследованы от класса BaseException.\n",
    "\n",
    "Для того, чтобы поймать и корректно обработать исключение, нужно код, который потенциально может его вызвать, поместить в блок try ... except\n",
    "```\n",
    "\n",
    "try:\n",
    "    # do something that should raise exception\n",
    "except тип_исключения as e:\n",
    "    # do something with exception\n",
    "\n",
    "```\n",
    "\n",
    "При возникновении исключения в коде между try и except, когда тип исключения совпадает или является наследником 'тип_исключения', то управление передается в блок except.\n",
    "\n",
    "Требуется:\n",
    "1. написать декоратор, который будет выводить на экран и в файл 'log.txt' в режиме дополнения информацию о возникновении или не возникновении исключений в декорируемой функции.\n",
    "2. протестировать декоратор нарочно вызывая исключения в декорируемой функции при помощи raise. Например:\n",
    "\n",
    "```\n",
    "raise ValueError(\"В функцию передано некорректное значение\")\n",
    "raise TypeError(\"Тип аргумента функции не поддерживается\")\n",
    "и др.\n",
    "```\n"
   ]
  },
  {
   "cell_type": "code",
   "execution_count": 85,
   "metadata": {},
   "outputs": [],
   "source": [
    "def logging(func):\n",
    "    \"\"\"\n",
    "    Декоратор, выводящий информацию о вызове функции в файл\n",
    "    \"\"\"\n",
    "    def logging_wrapper(*args, **kwargs):\n",
    "        with open('log.txt', 'at') as f:\n",
    "            try:\n",
    "                res = func(*args, **kwargs)\n",
    "                f.write('%r %r %r\\n'%(func.__name__, args, kwargs))\n",
    "            except Exception as e:\n",
    "                f.write('EXCEPTION: %r, FUNC: %r %r %r\\n'%(e, func.__name__, args, kwargs))\n",
    "                return None\n",
    "        return res\n",
    "    return logging_wrapper"
   ]
  },
  {
   "cell_type": "code",
   "execution_count": 86,
   "metadata": {},
   "outputs": [],
   "source": [
    "@logging\n",
    "def superfunc(a, b):\n",
    "    return a / b"
   ]
  },
  {
   "cell_type": "code",
   "execution_count": 87,
   "metadata": {},
   "outputs": [],
   "source": [
    "superfunc(1, 0)"
   ]
  },
  {
   "cell_type": "code",
   "execution_count": 88,
   "metadata": {},
   "outputs": [
    {
     "name": "stdout",
     "output_type": "stream",
     "text": [
      "'my_func' (1, 2) {}\n",
      "'my_func' (1, 2) {}\n",
      "'counter_wrapper' (0, 0) {}\n",
      "'counter_wrapper' (1, 2) {}\n",
      "'counter_wrapper' (2, 4) {}\n",
      "'counter_wrapper' (3, 6) {}\n",
      "'counter_wrapper' (4, 8) {}\n",
      "'superfunc' (1, 2) {}\n",
      "EXCEPTION: ZeroDivisionError('division by zero'), FUNC: 'superfunc' (1, 0) {}\n"
     ]
    }
   ],
   "source": [
    "!TYPE log.txt"
   ]
  }
 ],
 "metadata": {
  "kernelspec": {
   "display_name": "Python 3 (ipykernel)",
   "language": "python",
   "name": "python3"
  },
  "language_info": {
   "codemirror_mode": {
    "name": "ipython",
    "version": 3
   },
   "file_extension": ".py",
   "mimetype": "text/x-python",
   "name": "python",
   "nbconvert_exporter": "python",
   "pygments_lexer": "ipython3",
   "version": "3.8.12"
  }
 },
 "nbformat": 4,
 "nbformat_minor": 2
}
