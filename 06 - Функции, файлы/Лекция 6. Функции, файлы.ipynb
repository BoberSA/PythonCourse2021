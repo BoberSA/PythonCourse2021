{
 "cells": [
  {
   "cell_type": "markdown",
   "metadata": {},
   "source": [
    "# Лекция 6. Функции, файлы\n",
    "\n",
    "1. Функции\n",
    "  \n",
    "    1.1. Произвольное число аргументов\n",
    "    \n",
    "    1.2. Лямбда-функции\n",
    "    \n",
    "    1.3. Сортировка при помощи лямбда-функций\n",
    "\n",
    "\n",
    "2. Файлы\n",
    "\n",
    "    2.1. Что такое файл? Текстовые и бинарные файлы\n",
    "    \n",
    "    2.2. Функция `open`. Режимы доступа к файлу\n",
    "    \n",
    "    2.3. Методы файлового потока\n",
    "    \n",
    "    2.4. Менеджер контекста `with ... as`\n",
    "    \n",
    "    2.5. Модуль `pickle`. Сохранение и загрузка объектов `Python`\n",
    "        "
   ]
  },
  {
   "cell_type": "markdown",
   "metadata": {},
   "source": [
    "## Функции\n",
    "\n",
    "Функция - это часть кода программы, которая выполняется только по вызову. Функция получает информацию извне через аргументы и может возвращать результат.\n",
    "\n",
    "Синтаксис объявления функции:\n",
    "\n",
    "```\n",
    "def имя_функции(арг1, арг2, ..., им_арг1=знач1, им_арг2=знач2, ...):\n",
    "    инструкция1\n",
    "    инструкция2\n",
    "    ...\n",
    "    return объект\n",
    "```\n",
    "\n",
    "`арг1, арг2, ...` - позиционные аргументы\n",
    "\n",
    "`им_арг1, им_арг2, ...` - именованные аргументы\n",
    "\n",
    "\n",
    "Синтаксис вызова функции:\n",
    "\n",
    "`имя_функции(знач1, знач2, ..., им_арг1=знач3, им_арг2=знач4, ...)`\n",
    "\n",
    "Примечания:\n",
    "\n",
    "- все позиционные аргументы располагаются перед именованными\n",
    "\n",
    "- вместо именованных аргументов можно передавать позиционные и наоборот*\n",
    "\n",
    "\n",
    "*о четком разграничении между позиционными и именованными аргументами в Python 3.8 см. https://docs.python.org/3/whatsnew/3.8.html"
   ]
  },
  {
   "cell_type": "markdown",
   "metadata": {},
   "source": [
    "## Произвольное число аргументов\n",
    "\n",
    "Синтаксис объявления:\n",
    "\n",
    "```\n",
    "def имя_функции(*кортеж_арг, **словарь_именарг):\n",
    "\tинструкция1\n",
    "\tинструкция2\n",
    "\t…\n",
    "\treturn возвращаемый_объект\n",
    "```\n",
    "\n",
    "Синтаксис вызова:\n",
    "\n",
    "- стандартный:\n",
    "```имя_функции(знач1, знач2, …, именарг1=знач3, именарг2=знач4, …)```\n",
    "\n",
    "- с распаковкой:\n",
    "```имя_функции(*кортеж_значений, **словарь_имен_и_значений)```\n"
   ]
  },
  {
   "cell_type": "code",
   "execution_count": 86,
   "metadata": {},
   "outputs": [],
   "source": [
    "# только позиционные аргументы\n",
    "def func(*args):\n",
    "    print('Кортеж аргументов:', args)"
   ]
  },
  {
   "cell_type": "code",
   "execution_count": 87,
   "metadata": {},
   "outputs": [
    {
     "name": "stdout",
     "output_type": "stream",
     "text": [
      "Кортеж аргументов: (1, 2, 3, 4, 5, 'arg', 'fff', [])\n"
     ]
    }
   ],
   "source": [
    "# стандартный вызов\n",
    "func(1, 2, 3, 4, 5, 'arg', 'fff', [])"
   ]
  },
  {
   "cell_type": "code",
   "execution_count": 88,
   "metadata": {},
   "outputs": [
    {
     "name": "stdout",
     "output_type": "stream",
     "text": [
      "Кортеж аргументов: ('a', 'b', 'c')\n"
     ]
    }
   ],
   "source": [
    "# вызов с распаковкой\n",
    "tpl = ('a', 'b', 'c')\n",
    "func(*tpl)"
   ]
  },
  {
   "cell_type": "code",
   "execution_count": 75,
   "metadata": {},
   "outputs": [],
   "source": [
    "# только именованные аргументы\n",
    "def func_kw(**kwargs):\n",
    "    print('Словарь аргументов:', kwargs)"
   ]
  },
  {
   "cell_type": "code",
   "execution_count": 76,
   "metadata": {},
   "outputs": [
    {
     "name": "stdout",
     "output_type": "stream",
     "text": [
      "Словарь аргументов: {'x': 1, 'y': 2, 'z': 3}\n"
     ]
    }
   ],
   "source": [
    "# стандартный вызов\n",
    "func_kw(x = 1, y = 2, z = 3)"
   ]
  },
  {
   "cell_type": "code",
   "execution_count": 77,
   "metadata": {
    "scrolled": true
   },
   "outputs": [
    {
     "name": "stdout",
     "output_type": "stream",
     "text": [
      "Словарь аргументов: {'x': 1, 'y': 2, 'z': 3}\n"
     ]
    }
   ],
   "source": [
    "# вызов с распаковкой\n",
    "d = {'x':1, 'y':2, 'z':3}\n",
    "func_kw(**d)"
   ]
  },
  {
   "cell_type": "markdown",
   "metadata": {},
   "source": [
    "## Задание\n",
    "\n",
    "Написать функцию norm, позволяющую рассчитывать различные нормы в векторных пространствах произвольной размерности.\n",
    "Позиционные аргументы задают координаты вектора. Именованный аргумент `kind` задает тип нормы:\n",
    "- 1 - $L_1$, манхэттенское расстояние (сумма модулей координат)\n",
    "- 2 - $L_2$, евклидова норма\n",
    "- 3 - $L_\\infty$, максимум модулей координат"
   ]
  },
  {
   "cell_type": "code",
   "execution_count": null,
   "metadata": {},
   "outputs": [],
   "source": []
  },
  {
   "cell_type": "markdown",
   "metadata": {},
   "source": [
    "## Лямбда-функции\n",
    "\n",
    "Лямбда-функция - это короткая безымянная функция.\n",
    "\n",
    "Синтаксис объявления лямбда-функции: `lambda арг1, арг2, ...: выражение`\n",
    "\n",
    "Возвращаемое значение - результат вычисления `выражения`.\n"
   ]
  },
  {
   "cell_type": "code",
   "execution_count": 77,
   "metadata": {},
   "outputs": [
    {
     "data": {
      "text/plain": [
       "1.4142135623730951"
      ]
     },
     "execution_count": 77,
     "metadata": {},
     "output_type": "execute_result"
    }
   ],
   "source": [
    "dist = lambda x, y: (x**2 + y**2)**0.5\n",
    "\n",
    "dist(1, 1)"
   ]
  },
  {
   "cell_type": "code",
   "execution_count": 79,
   "metadata": {},
   "outputs": [
    {
     "data": {
      "text/plain": [
       "[(15, 0, 'а'), (12, 1, 'в'), (9, 4, 'д'), (6, 9, 'а'), (3, 16, 'в')]"
      ]
     },
     "execution_count": 79,
     "metadata": {},
     "output_type": "execute_result"
    }
   ],
   "source": [
    "lst = [(15-3*i, i**2, 'абвгде'[i*2%6]) for i in range(5)]\n",
    "lst"
   ]
  },
  {
   "cell_type": "code",
   "execution_count": 80,
   "metadata": {},
   "outputs": [
    {
     "data": {
      "text/plain": [
       "['ааааааааааааааа', 'вввввввввввв', 'ддддддддд', 'аааааа', 'ввв']"
      ]
     },
     "execution_count": 80,
     "metadata": {},
     "output_type": "execute_result"
    }
   ],
   "source": [
    "get0 = lambda x : x[0]\n",
    "get2 = lambda x : x[2]\n",
    "\n",
    "[get0(x)*get2(x) for x in lst]"
   ]
  },
  {
   "cell_type": "code",
   "execution_count": 7,
   "metadata": {},
   "outputs": [
    {
     "data": {
      "text/plain": [
       "[(3, 16, 'в'), (6, 9, 'а'), (9, 4, 'д'), (12, 1, 'в'), (15, 0, 'а')]"
      ]
     },
     "execution_count": 7,
     "metadata": {},
     "output_type": "execute_result"
    }
   ],
   "source": [
    "# сортировка списка\n",
    "lst.sort() # изменяет список\n",
    "lst"
   ]
  },
  {
   "cell_type": "code",
   "execution_count": 8,
   "metadata": {},
   "outputs": [
    {
     "data": {
      "text/plain": [
       "[(3, 16, 'в'), (6, 9, 'а'), (9, 4, 'д'), (12, 1, 'в'), (15, 0, 'а')]"
      ]
     },
     "execution_count": 8,
     "metadata": {},
     "output_type": "execute_result"
    }
   ],
   "source": [
    "# сортировка с использованием функции\n",
    "lst.sort(key=get0)\n",
    "lst"
   ]
  },
  {
   "cell_type": "code",
   "execution_count": 9,
   "metadata": {},
   "outputs": [
    {
     "data": {
      "text/plain": [
       "[(6, 9, 'а'), (15, 0, 'а'), (3, 16, 'в'), (12, 1, 'в'), (9, 4, 'д')]"
      ]
     },
     "execution_count": 9,
     "metadata": {},
     "output_type": "execute_result"
    }
   ],
   "source": [
    "lst.sort(key=get2)\n",
    "lst"
   ]
  },
  {
   "cell_type": "code",
   "execution_count": 12,
   "metadata": {},
   "outputs": [
    {
     "data": {
      "text/plain": [
       "[(12, 1, 'в'), (6, 9, 'а'), (15, 0, 'а'), (3, 16, 'в'), (9, 4, 'д')]"
      ]
     },
     "execution_count": 12,
     "metadata": {},
     "output_type": "execute_result"
    }
   ],
   "source": [
    "from math import sin, cos\n",
    "\n",
    "# лямбда-функцию можно создавать сразу там, где она требуется\n",
    "lst.sort(key=lambda x: cos(x[0]) + sin(x[1]), reverse=True)\n",
    "lst"
   ]
  },
  {
   "cell_type": "code",
   "execution_count": 14,
   "metadata": {},
   "outputs": [
    {
     "data": {
      "text/plain": [
       "(1.6853249435403885,\n",
       " 1.3722887718921226,\n",
       " -0.7596879128588213,\n",
       " -1.2778958132655107,\n",
       " -1.667932757192605)"
      ]
     },
     "execution_count": 14,
     "metadata": {},
     "output_type": "execute_result"
    }
   ],
   "source": [
    "(*map(lambda x: cos(x[0]) + sin(x[1]), lst),)"
   ]
  },
  {
   "cell_type": "markdown",
   "metadata": {},
   "source": [
    "## Задание\n",
    "\n",
    "Дан список:\n",
    "```\n",
    "[(14, 0.48, 'iczjypun'),\n",
    " (13, 0.06, 'leonbpu'),\n",
    " (7, 0.0, 'inflo'),\n",
    " (1, 0.58, 'tukw'),\n",
    " (15, 0.94, 'hepgtz'),\n",
    " (4, 0.35, 'rfwzdtu'),\n",
    " (16, 0.28, 'vukow'),\n",
    " (19, 0.94, 'uxf'),\n",
    " (10, 0.88, 'kjydu'),\n",
    " (6, 0.61, 'uishdymr'),\n",
    " (5, 0.55, 'amxylfrw'),\n",
    " (11, 0.11, 'fanw'),\n",
    " (1, 0.02, 'yerpnsfhw'),\n",
    " (4, 0.18, 'xdoaq'),\n",
    " (15, 0.06, 'hpzey')]\n",
    "```\n",
    "\n",
    "Отсортировать его по следующим условиям:\n",
    "- по синусу второго элемента, по-возрастанию\n",
    "- сумме второго и косинуса первого элемента, по-убыванию\n",
    "- по сумме синуса первого элемента и косинуса длины строки, по-возрастанию"
   ]
  },
  {
   "cell_type": "code",
   "execution_count": null,
   "metadata": {},
   "outputs": [],
   "source": []
  },
  {
   "cell_type": "markdown",
   "metadata": {},
   "source": [
    "## Файлы\n",
    "\n",
    "Файл - это именованная область памяти на носителе информации.\n",
    "\n",
    "Файлы разделяют на текстовые, с которыми может непосредственно работать человек, и бинарные (двоичные).\n",
    "\n",
    "Имя файла обычно имеет расширение, которое связано с типом файла, например:\n",
    "\n",
    "- `*.txt, *.json, *.py, *.h, *.cpp, *.csv, ...` - текстовые файлы\n",
    "- `*.bin, *.png, *.mp4, *.exe, *.mp3, *.pdf, ...` - бинарные файлы\n",
    "\n",
    "Каждый бинарный файл имеет определенную структуру и считывается/записывается предназначенной для этого файла программой."
   ]
  },
  {
   "cell_type": "code",
   "execution_count": null,
   "metadata": {},
   "outputs": [],
   "source": []
  },
  {
   "cell_type": "markdown",
   "metadata": {},
   "source": [
    "## Функция `open`\n",
    "\n",
    "Позволяет открыть файл для чтения/записи и создать файловый поток.\n",
    "\n",
    "Синтаксис: `f = open(file, mode, ...)`\n",
    "\n",
    "- `f` - файловый поток\n",
    "- `file` - путь к файлу\n",
    "- `mode` - режим доступа к файлу\n"
   ]
  },
  {
   "cell_type": "markdown",
   "metadata": {},
   "source": [
    "## Режимы доступа к файлу\n",
    "\n",
    "Режим доступа `mode` указывается в виде строки из одного или нескольких символов:\n",
    "\n",
    "- `r` – чтение из файла (*read*)\n",
    "- `w` – запись в файл (*write*)\n",
    "- `x` – создать новый файл и открыть на запись\n",
    "- `a` – дозапись в конец файла (*append*)\n",
    "- `+` – открыть файл для обновления (чтения и записи)\n",
    "- `b` – бинарный режим (*binary*)\n",
    "- `t` – текстовый режим (*text*)\n",
    "\n",
    "Режимы можно комбинировать:\n",
    "\n",
    "- `rt` - текстовый файл в режиме чтения\n",
    "- `wb` - бинарный файл в режиме записи"
   ]
  },
  {
   "cell_type": "markdown",
   "metadata": {},
   "source": [
    "## Методы файлового потока\n",
    "\n",
    "- `f.read()` – прочитать файл целиком и вернуть строку или буфер\n",
    "- `f.readline()` – прочитать строку из файла\n",
    "- `f.readlines()` – прочитать все строки из файла и вернуть список строк\n",
    "- `f.write(text/buffer)` – записать текст или содержимое буфера\n",
    "- `f.writelines()` – записать список строк в файл\n",
    "- `f.close()` – закрыть файловый поток\n"
   ]
  },
  {
   "cell_type": "code",
   "execution_count": 50,
   "metadata": {},
   "outputs": [],
   "source": [
    "# открыть файл в текстовом режиме для записи и записать в него строку\n",
    "f = open('notes.txt', 'wt')\n",
    "f.write('''Методы файлового потока\n",
    "f.read() – прочитать файл целиком и вернуть строку или буфер\n",
    "f.readline() – прочитать строку из файла\n",
    "f.readlines() – прочитать все строки из файла и вернуть список строк\n",
    "f.write(text/buffer) – записать текст или содержимое буфера\n",
    "f.writelines() – записать список строк в файл\n",
    "f.close() – закрыть файловый поток\n",
    "''')\n",
    "f.close()"
   ]
  },
  {
   "cell_type": "code",
   "execution_count": 51,
   "metadata": {},
   "outputs": [
    {
     "name": "stdout",
     "output_type": "stream",
     "text": [
      "Методы файлового потока\n",
      "f.read() – прочитать файл целиком и вернуть строку или буфер\n",
      "f.readline() – прочитать строку из файла\n",
      "f.readlines() – прочитать все строки из файла и вернуть список строк\n",
      "f.write(text/buffer) – записать текст или содержимое буфера\n",
      "f.writelines() – записать список строк в файл\n",
      "f.close() – закрыть файловый поток\n",
      "\n"
     ]
    }
   ],
   "source": [
    "# открыть файл в текстовом режиме для чтения, прочитать содержимое и вывести на экран\n",
    "f = open('notes.txt', 'rt')\n",
    "print(f.read())\n",
    "f.close()"
   ]
  },
  {
   "cell_type": "code",
   "execution_count": 54,
   "metadata": {
    "scrolled": true
   },
   "outputs": [
    {
     "name": "stdout",
     "output_type": "stream",
     "text": [
      "Методы файлового потока\n",
      "f.read() – прочитать файл целиком и вернуть строку или буфер\n",
      "f.readline() – прочитать строку из файла\n",
      "f.readlines() – прочитать все строки из файла и вернуть список строк\n",
      "f.write(text/buffer) – записать текст или содержимое буфера\n",
      "f.writelines() – записать список строк в файл\n",
      "f.close() – закрыть файловый поток\n"
     ]
    }
   ],
   "source": [
    "# запустить терминальное приложение, выводящее содержимое файла в стандартный поток\n",
    "# для linux - приложение cat\n",
    "!type notes.txt"
   ]
  },
  {
   "cell_type": "markdown",
   "metadata": {},
   "source": [
    "## Менеджер контекста `with ... as`\n",
    "\n",
    "Менеджер контекста позволяет работать в определенном контексте.\n",
    "При работе с файлам - это контекст открытого файла. Выход из контекста означает автоматическое закрытие файла.\n",
    "\n",
    "Синтаксис: \n",
    "```\n",
    "with open('notes.txt', 'rt') as f:\n",
    "    text = f.read()\n",
    "```\n",
    "\n",
    "После выхода из блока `with` файл `f` будет автоматически закрыт."
   ]
  },
  {
   "cell_type": "code",
   "execution_count": 57,
   "metadata": {},
   "outputs": [],
   "source": [
    "text = '''Менеджер контекста позволяет работать в определенном контексте. \n",
    "При работе с файлам - это контекст открытого файла.\n",
    "Выход из контекста означает автоматическое закрытие файла.'''\n",
    "\n",
    "with open('notes2.txt', 'wt') as f:\n",
    "    f.write(text)"
   ]
  },
  {
   "cell_type": "code",
   "execution_count": 58,
   "metadata": {},
   "outputs": [
    {
     "name": "stdout",
     "output_type": "stream",
     "text": [
      "Менеджер контекста позволяет работать в определенном контексте. \n",
      "При работе с файлам - это контекст открытого файла.\n",
      "Выход из контекста означает автоматическое закрытие файла.\n"
     ]
    }
   ],
   "source": [
    "with open('notes2.txt', 'rt') as f:\n",
    "    print(f.read())"
   ]
  },
  {
   "cell_type": "code",
   "execution_count": 59,
   "metadata": {
    "scrolled": true
   },
   "outputs": [
    {
     "name": "stdout",
     "output_type": "stream",
     "text": [
      "Менеджер контекста позволяет работать в определенном контексте. \n",
      "При работе с файлам - это контекст открытого файла.\n",
      "Выход из контекста означает автоматическое закрытие файла.\n"
     ]
    }
   ],
   "source": [
    "!type notes2.txt"
   ]
  },
  {
   "cell_type": "markdown",
   "metadata": {},
   "source": [
    "## Модуль `pickle`\n",
    "\n",
    "`pickle` позволяет сохранять и загружать практически любые объекты Python в **бинарные** файлы.\n",
    "\n",
    "Основные методы:\n",
    "\n",
    "- `dump(obj, file, ...)` - сохранить объект в файловый поток\n",
    "- `obj = load(file, ...)` - загрузить объект из файлового потока\n"
   ]
  },
  {
   "cell_type": "code",
   "execution_count": 60,
   "metadata": {},
   "outputs": [],
   "source": [
    "import pickle"
   ]
  },
  {
   "cell_type": "code",
   "execution_count": 61,
   "metadata": {},
   "outputs": [],
   "source": [
    "lst = [(14, 0.48, 'iczjypun'),\n",
    " (13, 0.06, 'leonbpu'),\n",
    " (7, 0.0, 'inflo'),\n",
    " (1, 0.58, 'tukw'),\n",
    " (15, 0.94, 'hepgtz'),\n",
    " (4, 0.35, 'rfwzdtu'),\n",
    " (16, 0.28, 'vukow'),\n",
    " (19, 0.94, 'uxf'),\n",
    " (10, 0.88, 'kjydu'),\n",
    " (6, 0.61, 'uishdymr'),\n",
    " (5, 0.55, 'amxylfrw'),\n",
    " (11, 0.11, 'fanw'),\n",
    " (1, 0.02, 'yerpnsfhw'),\n",
    " (4, 0.18, 'xdoaq'),\n",
    " (15, 0.06, 'hpzey')]"
   ]
  },
  {
   "cell_type": "code",
   "execution_count": 62,
   "metadata": {},
   "outputs": [],
   "source": [
    "# сохранить список в бинарный файл\n",
    "with open('binary.pkl', 'wb') as f:\n",
    "    pickle.dump(lst, f)"
   ]
  },
  {
   "cell_type": "code",
   "execution_count": 63,
   "metadata": {
    "scrolled": true
   },
   "outputs": [
    {
     "name": "stdout",
     "output_type": "stream",
     "text": [
      "Ђ\u0004•N\u0001\u0000\u0000\u0000\u0000\u0000\u0000]”(K\u000eG?ЮёQл…\u001e",
      "ёЊ\biczjypun”‡”K\n",
      "G?®ёQл…\u001e",
      "ёЊ\u0007leonbpu”‡”K\u0007G\u0000\u0000\u0000\u0000\u0000\u0000\u0000\u0000Њ\u0005inflo”‡”K\u0001G?вЏ\\(хВЏЊ\u0004tukw”‡”K\u000fG?о\u0014zбG®\u0014Њ\u0006hepgtz”‡”K\u0004G?ЦffffffЊ\u0007rfwzdtu”‡”K\u0010G?Сл…\u001e",
      "ёQмЊ\u0005vukow”‡”K\u0013G?о\u0014zбG®\u0014Њ\u0003uxf”‡”K\n",
      "G?м(хВЏ\\)Њ\u0005kjydu”‡”K\u0006G?г…\u001e",
      "ёQл…Њ\buishdymr”‡”K\u0005G?б™™™™™љЊ\bamxylfrw”‡”K\u000b",
      "G?ј(хВЏ\\)Њ\u0004fanw”‡”K\u0001G?”zбG®\u0014{Њ\tyerpnsfhw”‡”K\u0004G?З\n",
      "=pЈЧ\n",
      "Њ\u0005xdoaq”‡”K\u000fG?®ёQл…\u001e",
      "ёЊ\u0005hpzey”‡”e.\n"
     ]
    }
   ],
   "source": [
    "!type binary.pkl"
   ]
  },
  {
   "cell_type": "code",
   "execution_count": 64,
   "metadata": {},
   "outputs": [
    {
     "data": {
      "text/plain": [
       "[(14, 0.48, 'iczjypun'),\n",
       " (13, 0.06, 'leonbpu'),\n",
       " (7, 0.0, 'inflo'),\n",
       " (1, 0.58, 'tukw'),\n",
       " (15, 0.94, 'hepgtz'),\n",
       " (4, 0.35, 'rfwzdtu'),\n",
       " (16, 0.28, 'vukow'),\n",
       " (19, 0.94, 'uxf'),\n",
       " (10, 0.88, 'kjydu'),\n",
       " (6, 0.61, 'uishdymr'),\n",
       " (5, 0.55, 'amxylfrw'),\n",
       " (11, 0.11, 'fanw'),\n",
       " (1, 0.02, 'yerpnsfhw'),\n",
       " (4, 0.18, 'xdoaq'),\n",
       " (15, 0.06, 'hpzey')]"
      ]
     },
     "execution_count": 64,
     "metadata": {},
     "output_type": "execute_result"
    }
   ],
   "source": [
    "# загрузить объект из файлового потока\n",
    "with open('binary.pkl', 'rb') as f:\n",
    "    obj = pickle.load(f)\n",
    "obj"
   ]
  },
  {
   "cell_type": "code",
   "execution_count": 65,
   "metadata": {},
   "outputs": [
    {
     "data": {
      "text/plain": [
       "True"
      ]
     },
     "execution_count": 65,
     "metadata": {},
     "output_type": "execute_result"
    }
   ],
   "source": [
    "obj == lst"
   ]
  },
  {
   "cell_type": "markdown",
   "metadata": {},
   "source": [
    "## Задание\n",
    "\n",
    "Сгенерировать список списков списков (*трехмерный список*) из целых чисел и:\n",
    "\n",
    "- сохранить его в текстовый файл, загрузить из этого файла текст и отобразить на экране,\n",
    "- сохранить его в бинарный файл, загрузить обратно как объект и сравнить с исходным"
   ]
  },
  {
   "cell_type": "code",
   "execution_count": null,
   "metadata": {},
   "outputs": [],
   "source": []
  }
 ],
 "metadata": {
  "kernelspec": {
   "display_name": "Python 3",
   "language": "python",
   "name": "python3"
  },
  "language_info": {
   "codemirror_mode": {
    "name": "ipython",
    "version": 3
   },
   "file_extension": ".py",
   "mimetype": "text/x-python",
   "name": "python",
   "nbconvert_exporter": "python",
   "pygments_lexer": "ipython3",
   "version": "3.8.10"
  }
 },
 "nbformat": 4,
 "nbformat_minor": 4
}
