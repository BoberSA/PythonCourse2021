{
 "cells": [
  {
   "cell_type": "markdown",
   "metadata": {},
   "source": [
    "## Семинар 7. Numpy\n",
    "\n",
    "\n",
    "1. Многомерный массив\n",
    "\n",
    "    1.1. Что такое массив? Размерность массива\n",
    "    \n",
    "    1.2. Импорт модуля `numpy`\n",
    "    \n",
    "    1.3. Создание массивов\n",
    "    \n",
    "    1.4. Атрибуты массива\n",
    "    \n",
    "    1.5. Типы элементов массива\n",
    "    \n",
    "    1.6. Создание массивов функцями Numpy\n",
    "    \n",
    "    1.7. Случайные распределения\n",
    "\n",
    "\n",
    "2. Операции с массивами\n",
    "\n",
    "    2.1. Операторы\n",
    "    \n",
    "    2.2. Операции между массивами разных размеров (`broadcasting`)\n",
    "    \n",
    "    2.2. Выбор: индексирование, срезы"
   ]
  },
  {
   "cell_type": "markdown",
   "metadata": {},
   "source": [
    "## Массив\n",
    "\n",
    "**Массив** - это структура данных, хранящая набор однотипных значений, идентифицируемых по индексу или набору индексов, принимающих целые значения из некоторого диапазона.\n",
    "\n",
    "**Размерность массива** - это количество индексов, необходимое для однозначной адресации элемента в рамках массива\n",
    "\n",
    "**Преимущества массивов**\n",
    "\n",
    "- константная вычислительная сложность доступа к любому элементу массива;\n",
    "- произвольность доступа.\n"
   ]
  },
  {
   "cell_type": "markdown",
   "metadata": {},
   "source": [
    "## Основной класс - `ndarray`\n",
    "\n",
    "Основной класс в `numpy` - `ndarray`, многомерный массив.\n",
    "\n",
    "`ndarray` имеет все преимущества массива, а также обеспечивает быструю обработку без использования относительно медленных циклов Python.\n",
    "\n",
    "Далее работа будет с объектами этого класса."
   ]
  },
  {
   "cell_type": "markdown",
   "metadata": {},
   "source": [
    "## Импорт `numpy`\n",
    "\n",
    "`import numpy as np`\n",
    "\n",
    "`np` - синоним имени модуля, пространство имен, ссылка для доступа к компонентам модуля\n"
   ]
  },
  {
   "cell_type": "markdown",
   "metadata": {},
   "source": [
    "## Способы создания массива\n",
    "\n",
    "- `np.array(obj, dtype, ...)` - преобразование из списка, кортежа, генератора, другого массива, ...\n",
    "    - `obj` - объект, который нужно преобразовать\n",
    "    - `dtype` - тип элемента массива\n",
    "- функции `numpy`\n",
    "- операции с массивами"
   ]
  },
  {
   "cell_type": "code",
   "execution_count": 3,
   "metadata": {},
   "outputs": [
    {
     "name": "stderr",
     "output_type": "stream",
     "text": [
      "C:\\Users\\stasb\\Anaconda3\\envs\\p38\\lib\\site-packages\\numpy\\_distributor_init.py:30: UserWarning: loaded more than 1 DLL from .libs:\n",
      "C:\\Users\\stasb\\Anaconda3\\envs\\p38\\lib\\site-packages\\numpy\\.libs\\libopenblas.GK7GX5KEQ4F6UYO3P26ULGBQYHGQO7J4.gfortran-win_amd64.dll\n",
      "C:\\Users\\stasb\\Anaconda3\\envs\\p38\\lib\\site-packages\\numpy\\.libs\\libopenblas.NOIJJG62EMASZI6NYURL6JBKM4EVBGM7.gfortran-win_amd64.dll\n",
      "C:\\Users\\stasb\\Anaconda3\\envs\\p38\\lib\\site-packages\\numpy\\.libs\\libopenblas.WCDJNK7YVMPZQ2ME2ZZHJJRJ3JIKNDB7.gfortran-win_amd64.dll\n",
      "  warnings.warn(\"loaded more than 1 DLL from .libs:\"\n"
     ]
    }
   ],
   "source": [
    "import numpy as np"
   ]
  },
  {
   "cell_type": "code",
   "execution_count": 2,
   "metadata": {},
   "outputs": [
    {
     "data": {
      "text/plain": [
       "(array([1, 2, 3]), array([1, 2, 3]))"
      ]
     },
     "execution_count": 2,
     "metadata": {},
     "output_type": "execute_result"
    }
   ],
   "source": [
    "# одномерный массив из списка и кортежа\n",
    "np.array([1, 2, 3]), np.array((1, 2, 3))"
   ]
  },
  {
   "cell_type": "code",
   "execution_count": 3,
   "metadata": {},
   "outputs": [
    {
     "data": {
      "text/plain": [
       "array([ 0,  1,  2,  3,  4,  5,  6,  7,  8,  9, 10, 11, 12])"
      ]
     },
     "execution_count": 3,
     "metadata": {},
     "output_type": "execute_result"
    }
   ],
   "source": [
    "# преобразование из генератора\n",
    "np.array(range(13))"
   ]
  },
  {
   "cell_type": "code",
   "execution_count": 4,
   "metadata": {},
   "outputs": [
    {
     "data": {
      "text/plain": [
       "array([  0,   1,   4,   9,  16,  25,  36,  49,  64,  81, 100, 121, 144])"
      ]
     },
     "execution_count": 4,
     "metadata": {},
     "output_type": "execute_result"
    }
   ],
   "source": [
    "# преобразование из генератора списка\n",
    "np.array([x**2 for x in range(13)])"
   ]
  },
  {
   "cell_type": "code",
   "execution_count": 5,
   "metadata": {},
   "outputs": [
    {
     "data": {
      "text/plain": [
       "array([[1, 2, 3],\n",
       "       [4, 5, 6],\n",
       "       [7, 8, 9]])"
      ]
     },
     "execution_count": 5,
     "metadata": {},
     "output_type": "execute_result"
    }
   ],
   "source": [
    "# двумерный массив из списка списков\n",
    "np.array([[1, 2, 3], [4, 5, 6], [7, 8, 9]])"
   ]
  },
  {
   "cell_type": "code",
   "execution_count": 6,
   "metadata": {},
   "outputs": [
    {
     "data": {
      "text/plain": [
       "array([[[1],\n",
       "        [2],\n",
       "        [3]],\n",
       "\n",
       "       [[4],\n",
       "        [5],\n",
       "        [6]],\n",
       "\n",
       "       [[7],\n",
       "        [8],\n",
       "        [9]]])"
      ]
     },
     "execution_count": 6,
     "metadata": {},
     "output_type": "execute_result"
    }
   ],
   "source": [
    "# трехмерный массив из списка списков списков\n",
    "np.array([\n",
    "    [[1], [2], [3]],\n",
    "    [[4], [5], [6]],\n",
    "    [[7], [8], [9]]\n",
    "])"
   ]
  },
  {
   "cell_type": "markdown",
   "metadata": {},
   "source": [
    "## Атрибуты массива\n",
    "\n",
    "- `arr.shape` - размеры массива = его форма (кортеж)\n",
    "- `arr.dtype` - тип элемента массива\n",
    "- `arr.ndim` - количество измерений массива (целое число > 0)\n",
    "- `arr.strides` - шаги в байтах для перехода к следующему элементу измерения (кортеж)\n",
    "- `arr.nbytes` - размер занимаемой памяти в байтах\n"
   ]
  },
  {
   "cell_type": "code",
   "execution_count": 7,
   "metadata": {},
   "outputs": [
    {
     "data": {
      "text/plain": [
       "array([0, 1, 2, 3, 4, 5])"
      ]
     },
     "execution_count": 7,
     "metadata": {},
     "output_type": "execute_result"
    }
   ],
   "source": [
    "arr = np.array(range(6))\n",
    "arr"
   ]
  },
  {
   "cell_type": "code",
   "execution_count": 8,
   "metadata": {},
   "outputs": [
    {
     "data": {
      "text/plain": [
       "(1, (6,), (4,), 24)"
      ]
     },
     "execution_count": 8,
     "metadata": {},
     "output_type": "execute_result"
    }
   ],
   "source": [
    "arr.ndim, arr.shape, arr.strides, arr.nbytes"
   ]
  },
  {
   "cell_type": "code",
   "execution_count": 9,
   "metadata": {},
   "outputs": [
    {
     "data": {
      "text/plain": [
       "array([[ 0,  6, 12, 18, 24, 30],\n",
       "       [ 1,  7, 13, 19, 25, 31],\n",
       "       [ 2,  8, 14, 20, 26, 32],\n",
       "       [ 3,  9, 15, 21, 27, 33],\n",
       "       [ 4, 10, 16, 22, 28, 34],\n",
       "       [ 5, 11, 17, 23, 29, 35]])"
      ]
     },
     "execution_count": 9,
     "metadata": {},
     "output_type": "execute_result"
    }
   ],
   "source": [
    "arr = np.array([[col*6+row for col in range(6)] for row in range(6)])\n",
    "arr"
   ]
  },
  {
   "cell_type": "code",
   "execution_count": 10,
   "metadata": {},
   "outputs": [
    {
     "data": {
      "text/plain": [
       "(2, (6, 6), (24, 4), 144)"
      ]
     },
     "execution_count": 10,
     "metadata": {},
     "output_type": "execute_result"
    }
   ],
   "source": [
    "arr.ndim, arr.shape, arr.strides, arr.nbytes"
   ]
  },
  {
   "cell_type": "markdown",
   "metadata": {},
   "source": [
    "## Типы элементов массива\n",
    "\n",
    "Встроенные типы `Python`:\n",
    "\n",
    "- `int`, `bool`, `float`, `complex`, `str`, ...\n",
    "\n",
    "Типы `numpy`:\n",
    "\n",
    "- `np.int0`, `np.int8`, `np.int16`, `np.int32`, `np.int64`\n",
    "- `np.float`, `np.float16`, `np.float32`, `np.float64`\n",
    "- `np.complex`, `np.complex64`, `np.complex128`\n",
    "\n",
    "Также можно задать тип, эквивалентный `struct` в языке Си, т.е. упорядоченный набор из разнотипных элементов, занимающих жестко фиксированное количество байт."
   ]
  },
  {
   "cell_type": "code",
   "execution_count": 11,
   "metadata": {},
   "outputs": [
    {
     "name": "stdout",
     "output_type": "stream",
     "text": [
      "array([0, 1, 2, 3])\n",
      "array([0., 1., 2., 3.])\n",
      "array([False,  True,  True,  True])\n"
     ]
    }
   ],
   "source": [
    "# массив с элементами разных типов\n",
    "for dtype in (int, float, bool):\n",
    "    print('%r' % np.array([0, 1, 2, 3], dtype=dtype))"
   ]
  },
  {
   "cell_type": "code",
   "execution_count": 12,
   "metadata": {},
   "outputs": [
    {
     "name": "stdout",
     "output_type": "stream",
     "text": [
      "<class 'numpy.int64'>\n",
      "array([0, 1, 2, 3], dtype=int64)\n",
      "memory size: 32\n",
      "\n",
      "<class 'numpy.int8'>\n",
      "array([0, 1, 2, 3], dtype=int8)\n",
      "memory size: 4\n",
      "\n",
      "<class 'numpy.int16'>\n",
      "array([0, 1, 2, 3], dtype=int16)\n",
      "memory size: 8\n",
      "\n",
      "<class 'numpy.int32'>\n",
      "array([0, 1, 2, 3])\n",
      "memory size: 16\n",
      "\n"
     ]
    }
   ],
   "source": [
    "# массив с элементами разных типов\n",
    "for dtype in (np.int0, np.int8, np.int16, np.int32):\n",
    "    arr = np.array([0, 1, 2, 3], dtype=dtype)\n",
    "    print(dtype)\n",
    "    print('%r' % arr)\n",
    "    print('memory size:', arr.nbytes, end='\\n'*2)"
   ]
  },
  {
   "cell_type": "markdown",
   "metadata": {},
   "source": [
    "## Задание\n",
    "\n",
    "Создать массивы и вывести на экран:\n",
    "- содержимое\n",
    "- форму\n",
    "- размер занимаемой памяти\n",
    "\n",
    "1. одномерный массив, содержащий действительные числа $\\pi, \\frac{\\pi}{2}, \\frac{\\pi}{4}, \\frac{\\pi}{8}, \\frac{\\pi}{16}, ..., \\frac{\\pi}{1024}$\n",
    "2. одномерный массив, содержащий константу `True`, если число делится на 5, иначе - `False` для чисел 10, ..., 100.\n",
    "3. двумерный массив, содержащий комплексные числа $x + iy$, где $x = 1.5k, y=2.5m, k=0,...,10, m=0,...,10$\n"
   ]
  },
  {
   "cell_type": "code",
   "execution_count": 41,
   "metadata": {},
   "outputs": [],
   "source": [
    "import numpy as np"
   ]
  },
  {
   "cell_type": "code",
   "execution_count": 42,
   "metadata": {},
   "outputs": [
    {
     "data": {
      "text/plain": [
       "array([3.14159265e+00, 1.57079633e+00, 7.85398163e-01, 3.92699082e-01,\n",
       "       1.96349541e-01, 9.81747704e-02, 4.90873852e-02, 2.45436926e-02,\n",
       "       1.22718463e-02, 6.13592315e-03, 3.06796158e-03])"
      ]
     },
     "execution_count": 42,
     "metadata": {},
     "output_type": "execute_result"
    }
   ],
   "source": [
    "np.array([np.pi/2**i for i in range(11)])"
   ]
  },
  {
   "cell_type": "code",
   "execution_count": 48,
   "metadata": {},
   "outputs": [
    {
     "data": {
      "text/plain": [
       "array([3.14159265e+00, 1.57079633e+00, 7.85398163e-01, 3.92699082e-01,\n",
       "       1.96349541e-01, 9.81747704e-02, 4.90873852e-02, 2.45436926e-02,\n",
       "       1.22718463e-02, 6.13592315e-03, 3.06796158e-03])"
      ]
     },
     "execution_count": 48,
     "metadata": {},
     "output_type": "execute_result"
    }
   ],
   "source": [
    "np.pi/2**np.arange(11)"
   ]
  },
  {
   "cell_type": "code",
   "execution_count": null,
   "metadata": {},
   "outputs": [],
   "source": []
  },
  {
   "cell_type": "code",
   "execution_count": null,
   "metadata": {},
   "outputs": [],
   "source": []
  },
  {
   "cell_type": "markdown",
   "metadata": {},
   "source": [
    "## Функции `numpy`"
   ]
  },
  {
   "cell_type": "markdown",
   "metadata": {},
   "source": [
    "## Создать массив из одинаковых элементов\n",
    "\n",
    "Создать массив размером `shape` и заполнить его:\n",
    "\n",
    "- `np.zeros(shape, ...)` - нулями\n",
    "- `np.ones(shape, ...)` - единицами\n",
    "- `np.full(shape, fill_value, ...)` - `fill_value`\n",
    "\n",
    "\n",
    "Создать массив такого же размера, как и `array` и заполнить его:\n",
    "\n",
    "- `np.zeros_like(array, ...)` - нулями\n",
    "- `np.ones_like(array, ...)` - единицами\n",
    "- `np.full_like(array, fill_value...)` - `fill_value`\n",
    "\n",
    "Создать незаполненный массив:\n",
    "\n",
    "- `np.empty(shape, ...)` - размера `shape`\n",
    "- `np.empty_like(array, ...)` - размера как и `array`\n",
    "\n"
   ]
  },
  {
   "cell_type": "code",
   "execution_count": 49,
   "metadata": {},
   "outputs": [
    {
     "data": {
      "text/plain": [
       "array([0., 0., 0., 0., 0.])"
      ]
     },
     "execution_count": 49,
     "metadata": {},
     "output_type": "execute_result"
    }
   ],
   "source": [
    "np.zeros(5)"
   ]
  },
  {
   "cell_type": "code",
   "execution_count": 50,
   "metadata": {},
   "outputs": [
    {
     "data": {
      "text/plain": [
       "array([[1., 1., 1.],\n",
       "       [1., 1., 1.],\n",
       "       [1., 1., 1.]])"
      ]
     },
     "execution_count": 50,
     "metadata": {},
     "output_type": "execute_result"
    }
   ],
   "source": [
    "np.ones((3,3))"
   ]
  },
  {
   "cell_type": "code",
   "execution_count": 53,
   "metadata": {},
   "outputs": [
    {
     "data": {
      "text/plain": [
       "dtype('float64')"
      ]
     },
     "execution_count": 53,
     "metadata": {},
     "output_type": "execute_result"
    }
   ],
   "source": [
    "arr2 = np.ones((10, 10))\n",
    "arr2.dtype"
   ]
  },
  {
   "cell_type": "code",
   "execution_count": 52,
   "metadata": {},
   "outputs": [
    {
     "data": {
      "text/plain": [
       "array([[          0,           0,           0,           0,           0,\n",
       "                  0, -1956006704,       32767,          46,           0],\n",
       "       [ 1670138160,         452,  1670138224,         452,  1670138544,\n",
       "                452,  1670147328,         452,  1670138608,         452],\n",
       "       [ 1670147408,         452,  1670147488,         452,  1670138736,\n",
       "                452,  1670147568,         452,  1670138672,         452],\n",
       "       [ 1670138800,         452,  1670147648,         452,  1670138864,\n",
       "                452,  1670147728,         452,  1670147808,         452],\n",
       "       [ 1670138928,         452,  1670138992,         452,  1670147888,\n",
       "                452,  1670139056,         452,  1670147968,         452],\n",
       "       [ 1670139120,         452,  1670139184,         452,  1670139248,\n",
       "                452,  1670139312,         452,  1670139376,         452],\n",
       "       [ 1670152240,         452,  1670139440,         452,  1670139504,\n",
       "                452,  1670139568,         452,  1670139632,         452],\n",
       "       [ 1670139696,         452,  1670139760,         452,  1670139824,\n",
       "                452,  1670137968,         452,  1670152320,         452],\n",
       "       [ 1670152400,         452,  1670152480,         452,  1670137776,\n",
       "                452,  1670152560,         452,  1670138480,         452],\n",
       "       [ 1670138352,         452,  1670131760,         452,  1670131824,\n",
       "                452,  1670131888,         452,  1670132016,         452]])"
      ]
     },
     "execution_count": 52,
     "metadata": {},
     "output_type": "execute_result"
    }
   ],
   "source": [
    "np.empty_like(arr2, dtype=int)"
   ]
  },
  {
   "cell_type": "markdown",
   "metadata": {},
   "source": [
    "## Создать массив из последовательности значений\n",
    "\n",
    "- `np.arange(start, stop, step, ...)` - аналог `range`, но работает и с действительными числами\n",
    "- `np.linspace(start, stop, num, ...)` - распределить равномерно `num` точек на отрезке `[start, stop]`"
   ]
  },
  {
   "cell_type": "code",
   "execution_count": 120,
   "metadata": {},
   "outputs": [
    {
     "data": {
      "text/plain": [
       "array([13.5, 16. , 18.5, 21. , 23.5, 26. , 28.5, 31. , 33.5])"
      ]
     },
     "execution_count": 120,
     "metadata": {},
     "output_type": "execute_result"
    }
   ],
   "source": [
    "np.arange(13.5, 36, 2.5)"
   ]
  },
  {
   "cell_type": "code",
   "execution_count": 17,
   "metadata": {},
   "outputs": [
    {
     "data": {
      "text/plain": [
       "array([ 0.,  1.,  2.,  3.,  4.,  5.,  6.,  7.,  8.,  9., 10.])"
      ]
     },
     "execution_count": 17,
     "metadata": {},
     "output_type": "execute_result"
    }
   ],
   "source": [
    "# 11 равноотстоящих друг от друга значений на отрезке [0, 10]\n",
    "np.linspace(0, 10, 11)"
   ]
  },
  {
   "cell_type": "code",
   "execution_count": 18,
   "metadata": {},
   "outputs": [
    {
     "data": {
      "text/plain": [
       "(array([ 0.  ,  1.25,  2.5 ,  3.75,  5.  ,  6.25,  7.5 ,  8.75, 10.  ]), 1.25)"
      ]
     },
     "execution_count": 18,
     "metadata": {},
     "output_type": "execute_result"
    }
   ],
   "source": [
    "# 9 равноотстоящих друг от друга значений на отрезке [0, 10] и шаг между ними\n",
    "np.linspace(0, 10, 9, retstep=True)"
   ]
  },
  {
   "cell_type": "code",
   "execution_count": 11,
   "metadata": {},
   "outputs": [
    {
     "name": "stdout",
     "output_type": "stream",
     "text": [
      "Name: numpy\n",
      "Version: 1.21.2\n",
      "Summary: NumPy is the fundamental package for array computing with Python.\n",
      "Home-page: https://www.numpy.org\n",
      "Author: Travis E. Oliphant et al.\n",
      "Author-email: None\n",
      "License: BSD\n",
      "Location: c:\\users\\stasb\\anaconda3\\envs\\p38\\lib\\site-packages\n",
      "Requires: \n",
      "Required-by: pandas, numba, matplotlib, visual-statistics, xarray, vispy, tifffile, spiceypy, scipy, scikit-learn, scikit-image, PyWavelets, pyvista, orbipy, ncls, mkl-random, mkl-fft, meshio, ipygany, ipycanvas, imageio, holoviews, datashape, datashader, bokeh, altair\n"
     ]
    }
   ],
   "source": [
    "!pip show numpy"
   ]
  },
  {
   "cell_type": "code",
   "execution_count": null,
   "metadata": {},
   "outputs": [],
   "source": [
    "!pip install -U --user numpy"
   ]
  },
  {
   "cell_type": "markdown",
   "metadata": {},
   "source": [
    "## Создать массив из псевдослучайной последовательности\n",
    "\n",
    "Для этой цели существует подмодуль `random`.\n",
    "\n",
    "Начиная с версии `numpy 1.17.0` принцип работы с генераторами псевдослучайных последовательностей изменился.\n",
    "\n",
    "Простой способ - положиться на генератор по-умолчанию:\n",
    "\n",
    "`rng = np.random.default_rng()`\n",
    "\n",
    "- `rng.uniform(low=0.0, high=1.0, size=None)` - создать массив размера `size` и заполнить случайной последовательностью с равномерным распределением на `[low, high)`\n",
    "\n",
    "\n",
    "- `rng.normal(loc=0.0, scale=1.0, size=None)` - создать массив размера `size` и заполнить случайной последовательностью с нормальным  распределением (среднее = `loc`, стандартное отклонение = `scale`)\n",
    "\n",
    "\n",
    "- `rng.choice(a, size)` - выбрать `size` случайных элементов из `a`\n",
    "\n",
    "..."
   ]
  },
  {
   "cell_type": "code",
   "execution_count": 40,
   "metadata": {},
   "outputs": [
    {
     "data": {
      "text/plain": [
       "Generator(PCG64) at 0x1FD3544A400"
      ]
     },
     "execution_count": 40,
     "metadata": {},
     "output_type": "execute_result"
    }
   ],
   "source": [
    "rng = np.random.default_rng()\n",
    "rng"
   ]
  },
  {
   "cell_type": "code",
   "execution_count": 12,
   "metadata": {},
   "outputs": [
    {
     "name": "stdout",
     "output_type": "stream",
     "text": [
      "beta, binomial, bit_generator, bytes, chisquare, choice, dirichlet, exponential, f, gamma, geometric, gumbel, hypergeometric, integers, laplace, logistic, lognormal, logseries, multinomial, multivariate_hypergeometric, multivariate_normal, negative_binomial, noncentral_chisquare, noncentral_f, normal, pareto, permutation, poisson, power, random, rayleigh, shuffle, standard_cauchy, standard_exponential, standard_gamma, standard_normal, standard_t, triangular, uniform, vonmises, wald, weibull, zipf\n"
     ]
    }
   ],
   "source": [
    "print(*(x for x in dir(rng) if not x.startswith('_')), sep=', ')"
   ]
  },
  {
   "cell_type": "code",
   "execution_count": 13,
   "metadata": {},
   "outputs": [
    {
     "data": {
      "text/plain": [
       "array([[0.7707549 , 0.17339922, 0.95697009, 0.85939692, 0.98772229],\n",
       "       [0.97544208, 0.97788312, 0.3093859 , 0.39944501, 0.47059275],\n",
       "       [0.84791212, 0.00186067, 0.23051179, 0.15228351, 0.87556976],\n",
       "       [0.20530142, 0.30045616, 0.71950776, 0.05056192, 0.36282124],\n",
       "       [0.11989258, 0.83230324, 0.1965859 , 0.60181802, 0.06452978]])"
      ]
     },
     "execution_count": 13,
     "metadata": {},
     "output_type": "execute_result"
    }
   ],
   "source": [
    "rng.uniform(size=(5, 5))"
   ]
  },
  {
   "cell_type": "code",
   "execution_count": 14,
   "metadata": {},
   "outputs": [
    {
     "data": {
      "text/plain": [
       "array([[-1.54792266,  1.23520936,  0.68856416, -0.70504401,  1.28048023],\n",
       "       [ 1.71800268, -0.18401755,  1.11351704,  0.57411286,  0.63208721],\n",
       "       [-1.0412496 , -0.76424584, -0.06311184, -0.05242361, -0.71258606],\n",
       "       [ 0.52647931,  0.89062249,  0.38963756,  0.31075499, -0.58295148],\n",
       "       [-0.07388409, -1.06810164,  0.5392199 , -0.48329302, -0.99729268]])"
      ]
     },
     "execution_count": 14,
     "metadata": {},
     "output_type": "execute_result"
    }
   ],
   "source": [
    "rng.normal(size=(5, 5))"
   ]
  },
  {
   "cell_type": "markdown",
   "metadata": {},
   "source": [
    "## Задание\n",
    "\n",
    "1. Сгенерировать последовательность из 100 элементов: `[1.18, 3.27, ...]`\n",
    "\n",
    "2. Создать двумерный массив из 100 псевдослучайных чисел, равномерно распределенных на полуинтервале $[\\pi, 10\\pi)$\n",
    "\n",
    "3. Преобразовать полученный массив так, чтобы элементы стали целочисленными\n",
    "\n",
    "4. Из массива `[0, 1, ..., 99]` случайным образом выбрать 10 элементов\n"
   ]
  },
  {
   "cell_type": "markdown",
   "metadata": {},
   "source": [
    "$\\alpha \\in [0, 1)$\n",
    "\n",
    "$\\beta \\in [a, b)$\n",
    "\n",
    "$\\beta = \\alpha \\cdot (b - a) + a$\n",
    "\n",
    "$\\beta = (1 - \\alpha) \\cdot a + \\alpha \\cdot b$"
   ]
  },
  {
   "cell_type": "code",
   "execution_count": 57,
   "metadata": {},
   "outputs": [
    {
     "data": {
      "text/plain": [
       "array([[26.54413119, 26.95307596, 16.75031245, 14.37391674, 10.14621658,\n",
       "        12.75124172,  7.43146228,  3.67712223, 19.66691952,  8.07034015,\n",
       "        28.67927728, 21.24239305, 13.99504855, 16.3836623 , 28.12617872,\n",
       "        17.24642998, 18.87804189,  5.91093035, 12.75524163, 10.03725198],\n",
       "       [ 3.83831449, 17.50515789, 18.5980875 ,  4.17744057, 24.46768221,\n",
       "         5.51987195, 17.79927635, 12.00883605, 30.43245388, 10.94958416,\n",
       "        17.84750752,  8.47859645, 10.01684458, 10.32167425, 29.79568914,\n",
       "        29.62680158, 11.55860919, 13.63214408, 14.66984398, 30.69292617],\n",
       "       [10.46580353,  8.31650047, 22.92342408, 14.81704621, 15.91927267,\n",
       "        25.99449953, 27.22934817, 16.10346962, 26.55278753,  3.3877579 ,\n",
       "        22.20772755, 16.01131108, 17.79211729, 15.08775083,  5.27627375,\n",
       "         3.78437443, 20.77292387, 17.22121346, 29.61145392, 14.34314831],\n",
       "       [13.88124648, 30.25514876, 29.40951275, 28.95581629,  7.24930396,\n",
       "         5.01744764, 29.25950238, 14.48218107, 28.82649741, 17.41950794,\n",
       "         9.82089956, 21.1318061 , 10.94388471,  7.87404317, 10.47262674,\n",
       "         5.76981697, 27.11734289, 14.42819268, 15.54294955, 24.06955492],\n",
       "       [10.99619531, 23.0978651 , 18.02031959, 12.4032394 , 12.82207716,\n",
       "         7.9828792 , 24.63636266, 18.45011599,  6.46990197, 26.29907304,\n",
       "        13.12992177,  6.24144259, 27.7409985 ,  3.55293463, 21.11936425,\n",
       "        26.08553941, 27.64318911, 20.78665869, 25.61508923, 14.00350745]])"
      ]
     },
     "execution_count": 57,
     "metadata": {},
     "output_type": "execute_result"
    }
   ],
   "source": [
    "np.random.rand(5, 20) * 9 * np.pi + np.pi"
   ]
  },
  {
   "cell_type": "markdown",
   "metadata": {},
   "source": [
    "## Операторы\n",
    "\n",
    "1. Все операторы, применимые к числам, работают и с массивами `numpy`\n",
    "\n",
    "2. Операторы работают **поэлементно**, за исключением оператора матричного умножения `@`\n"
   ]
  },
  {
   "cell_type": "code",
   "execution_count": 23,
   "metadata": {},
   "outputs": [
    {
     "data": {
      "text/plain": [
       "(array([0, 1, 2, 3, 4, 5, 6, 7, 8, 9]), array([2, 2, 2, 2, 2, 2, 2, 2, 2, 2]))"
      ]
     },
     "execution_count": 23,
     "metadata": {},
     "output_type": "execute_result"
    }
   ],
   "source": [
    "arr1 = np.arange(10)\n",
    "arr2 = np.full(10, 2)\n",
    "arr1, arr2"
   ]
  },
  {
   "cell_type": "code",
   "execution_count": 24,
   "metadata": {},
   "outputs": [
    {
     "data": {
      "text/plain": [
       "array([ 2,  3,  4,  5,  6,  7,  8,  9, 10, 11])"
      ]
     },
     "execution_count": 24,
     "metadata": {},
     "output_type": "execute_result"
    }
   ],
   "source": [
    "arr1 + arr2"
   ]
  },
  {
   "cell_type": "code",
   "execution_count": 25,
   "metadata": {},
   "outputs": [
    {
     "data": {
      "text/plain": [
       "array([0. , 0.5, 1. , 1.5, 2. , 2.5, 3. , 3.5, 4. , 4.5])"
      ]
     },
     "execution_count": 25,
     "metadata": {},
     "output_type": "execute_result"
    }
   ],
   "source": [
    "arr1 / arr2"
   ]
  },
  {
   "cell_type": "code",
   "execution_count": 26,
   "metadata": {},
   "outputs": [
    {
     "data": {
      "text/plain": [
       "array([0, 1, 0, 1, 0, 1, 0, 1, 0, 1], dtype=int32)"
      ]
     },
     "execution_count": 26,
     "metadata": {},
     "output_type": "execute_result"
    }
   ],
   "source": [
    "arr1 % arr2"
   ]
  },
  {
   "cell_type": "code",
   "execution_count": 27,
   "metadata": {},
   "outputs": [
    {
     "data": {
      "text/plain": [
       "array([ 0,  1,  4,  9, 16, 25, 36, 49, 64, 81], dtype=int32)"
      ]
     },
     "execution_count": 27,
     "metadata": {},
     "output_type": "execute_result"
    }
   ],
   "source": [
    "arr1**arr2"
   ]
  },
  {
   "cell_type": "code",
   "execution_count": 129,
   "metadata": {},
   "outputs": [
    {
     "data": {
      "text/plain": [
       "(1, 1, 3)"
      ]
     },
     "execution_count": 129,
     "metadata": {},
     "output_type": "execute_result"
    }
   ],
   "source": [
    "np.array([[[1,2,3]]]).shape"
   ]
  },
  {
   "cell_type": "code",
   "execution_count": null,
   "metadata": {},
   "outputs": [],
   "source": [
    "(3,3) (3,3)"
   ]
  },
  {
   "cell_type": "markdown",
   "metadata": {},
   "source": [
    "## Операции с массивами различных размеров `broadcasting`\n",
    "\n",
    "Все правила броадкастинга приведены в [документации](https://numpy.org/doc/stable/reference/ufuncs.html#broadcasting)\n",
    "\n",
    "Основной смысл: `numpy` пытается *виртуально* дополнить массив меньшего размера до большего, затем выполнить операцию поэлементно.\n",
    "\n",
    "Примеры:\n",
    "\n",
    "`np.arange(5) + 5`\n",
    "![broadcasting_0](broadcasting_0.png)\n",
    "\n",
    "`np.full((3,3),2) + np.arange(10,13)`\n",
    "![broadcasting_1](broadcasting_1.png)\n",
    "\n",
    "`np.array([[1],[2],[3]]) + np.array([10,20,30])`\n",
    "![broadcasting_2](broadcasting_2.png)"
   ]
  },
  {
   "cell_type": "code",
   "execution_count": 130,
   "metadata": {},
   "outputs": [
    {
     "data": {
      "text/plain": [
       "array([5, 6, 7, 8, 9])"
      ]
     },
     "execution_count": 130,
     "metadata": {},
     "output_type": "execute_result"
    }
   ],
   "source": [
    "np.arange(5) + 5"
   ]
  },
  {
   "cell_type": "code",
   "execution_count": 131,
   "metadata": {},
   "outputs": [
    {
     "data": {
      "text/plain": [
       "array([[12, 13, 14],\n",
       "       [12, 13, 14],\n",
       "       [12, 13, 14]])"
      ]
     },
     "execution_count": 131,
     "metadata": {},
     "output_type": "execute_result"
    }
   ],
   "source": [
    "np.full((3,3),2) + np.arange(10,13)"
   ]
  },
  {
   "cell_type": "code",
   "execution_count": 132,
   "metadata": {},
   "outputs": [
    {
     "data": {
      "text/plain": [
       "array([[11, 21, 31],\n",
       "       [12, 22, 32],\n",
       "       [13, 23, 33]])"
      ]
     },
     "execution_count": 132,
     "metadata": {},
     "output_type": "execute_result"
    }
   ],
   "source": [
    "np.array([[1],[2],[3]]) + np.array([10,20,30])"
   ]
  },
  {
   "cell_type": "markdown",
   "metadata": {},
   "source": [
    "## Задание\n",
    "\n",
    "Используя броадкастинг создать двумерный массив:\n",
    "```\n",
    "[[ 5, 10, 15],\n",
    " [ 6, 12, 18],\n",
    " [ 7, 14, 21],\n",
    " [ 8, 16, 24],\n",
    " [ 9, 18, 27]]\n",
    "```"
   ]
  },
  {
   "cell_type": "code",
   "execution_count": 62,
   "metadata": {},
   "outputs": [
    {
     "data": {
      "text/plain": [
       "array([[ 5, 10, 15],\n",
       "       [ 6, 12, 18],\n",
       "       [ 7, 14, 21],\n",
       "       [ 8, 16, 24],\n",
       "       [ 9, 18, 27]])"
      ]
     },
     "execution_count": 62,
     "metadata": {},
     "output_type": "execute_result"
    }
   ],
   "source": [
    "np.arange(5, 10).reshape(-1, 1) * np.arange(1, 4)"
   ]
  },
  {
   "cell_type": "markdown",
   "metadata": {},
   "source": [
    "## Индексирование и срезы `slice`\n",
    "\n",
    "Индексирование и срезы работают аналогично строкам и спискам, за исключением:\n",
    "\n",
    "- у `n`-мерного массива можно указывать от 0 до n индексов или срезов\n",
    "    - пример: `arr[1, 1, 1]` - индексирование трехмерного массива\n",
    "    - пример: `arr[:2, 3:]` - срез по двум измерениям\n",
    "    \n",
    "    \n",
    "- срез не копирует часть массива, а создает новое представление `view`, через которое можно как считывать, так и записывать значения элементов части исходного массива\n"
   ]
  },
  {
   "cell_type": "code",
   "execution_count": 6,
   "metadata": {},
   "outputs": [],
   "source": [
    "import numpy as np"
   ]
  },
  {
   "cell_type": "code",
   "execution_count": 7,
   "metadata": {},
   "outputs": [],
   "source": [
    "# класс selection_plotter позволяет создать новое представление массива\n",
    "from array_selection import selection_plotter as sp, selection_plotter_3d as sp3\n",
    "sp.fontsize = 16"
   ]
  },
  {
   "cell_type": "code",
   "execution_count": 8,
   "metadata": {},
   "outputs": [],
   "source": [
    "arr = np.arange(13).view(type=sp)"
   ]
  },
  {
   "cell_type": "code",
   "execution_count": 9,
   "metadata": {},
   "outputs": [
    {
     "data": {
      "text/plain": [
       "array([ 0,  1,  2,  3,  4,  5,  6,  7,  8,  9, 10, 11, 12])"
      ]
     },
     "execution_count": 9,
     "metadata": {},
     "output_type": "execute_result"
    }
   ],
   "source": [
    "arr"
   ]
  },
  {
   "cell_type": "code",
   "execution_count": 10,
   "metadata": {},
   "outputs": [
    {
     "data": {
      "text/plain": [
       "array([12, 11, 10,  9,  8,  7,  6,  5,  4,  3,  2,  1,  0])"
      ]
     },
     "execution_count": 10,
     "metadata": {},
     "output_type": "execute_result"
    },
    {
     "data": {
      "image/png": "[encoded data removed]",
      "text/plain": [
       "<Figure size 432x288 with 1 Axes>"
      ]
     },
     "metadata": {
      "needs_background": "light"
     },
     "output_type": "display_data"
    }
   ],
   "source": [
    "arr[::-1]"
   ]
  },
  {
   "cell_type": "code",
   "execution_count": 24,
   "metadata": {},
   "outputs": [
    {
     "data": {
      "text/plain": [
       "array([4, 5, 6, 7, 8])"
      ]
     },
     "execution_count": 24,
     "metadata": {},
     "output_type": "execute_result"
    },
    {
     "data": {
      "image/png": "[encoded data removed]",
      "text/plain": [
       "<Figure size 432x288 with 1 Axes>"
      ]
     },
     "metadata": {
      "needs_background": "light"
     },
     "output_type": "display_data"
    }
   ],
   "source": [
    "arr[4:9]"
   ]
  },
  {
   "cell_type": "code",
   "execution_count": 25,
   "metadata": {
    "scrolled": true
   },
   "outputs": [
    {
     "data": {
      "text/plain": [
       "array([ 2,  5,  8, 11])"
      ]
     },
     "execution_count": 25,
     "metadata": {},
     "output_type": "execute_result"
    },
    {
     "data": {
      "image/png": "[encoded data removed]",
      "text/plain": [
       "<Figure size 432x288 with 1 Axes>"
      ]
     },
     "metadata": {
      "needs_background": "light"
     },
     "output_type": "display_data"
    }
   ],
   "source": [
    "arr[2::3]"
   ]
  },
  {
   "cell_type": "code",
   "execution_count": 11,
   "metadata": {},
   "outputs": [],
   "source": [
    "arr = np.arange(16).reshape(-1, 4).view(type=sp)"
   ]
  },
  {
   "cell_type": "code",
   "execution_count": 14,
   "metadata": {},
   "outputs": [
    {
     "data": {
      "text/plain": [
       "array([[ 4,  5,  6,  7],\n",
       "       [ 8,  9, 10, 11]])"
      ]
     },
     "execution_count": 14,
     "metadata": {},
     "output_type": "execute_result"
    },
    {
     "data": {
      "image/png": "[encoded data removed]",
      "text/plain": [
       "<Figure size 432x288 with 1 Axes>"
      ]
     },
     "metadata": {
      "needs_background": "light"
     },
     "output_type": "display_data"
    }
   ],
   "source": [
    "arr[1:3]"
   ]
  },
  {
   "cell_type": "code",
   "execution_count": 28,
   "metadata": {},
   "outputs": [
    {
     "data": {
      "text/plain": [
       "array([[ 1,  3],\n",
       "       [ 5,  7],\n",
       "       [ 9, 11],\n",
       "       [13, 15]])"
      ]
     },
     "execution_count": 28,
     "metadata": {},
     "output_type": "execute_result"
    },
    {
     "data": {
      "image/png": "[encoded data removed]",
      "text/plain": [
       "<Figure size 432x288 with 1 Axes>"
      ]
     },
     "metadata": {
      "needs_background": "light"
     },
     "output_type": "display_data"
    }
   ],
   "source": [
    "arr[:, 1::2]"
   ]
  },
  {
   "cell_type": "code",
   "execution_count": 35,
   "metadata": {},
   "outputs": [
    {
     "data": {
      "text/plain": [
       "array([[ 0,  2],\n",
       "       [ 8, 10]])"
      ]
     },
     "execution_count": 35,
     "metadata": {},
     "output_type": "execute_result"
    },
    {
     "data": {
      "image/png": "[encoded data removed]",
      "text/plain": [
       "<Figure size 432x288 with 1 Axes>"
      ]
     },
     "metadata": {
      "needs_background": "light"
     },
     "output_type": "display_data"
    }
   ],
   "source": [
    "arr[::2, ::2]"
   ]
  },
  {
   "cell_type": "code",
   "execution_count": 15,
   "metadata": {},
   "outputs": [],
   "source": [
    "arr = np.arange(3*4*4).reshape(3,4,4).view(type=sp3)"
   ]
  },
  {
   "cell_type": "code",
   "execution_count": 16,
   "metadata": {},
   "outputs": [
    {
     "data": {
      "text/plain": [
       "array([[[ 0,  1,  2,  3],\n",
       "        [ 8,  9, 10, 11]],\n",
       "\n",
       "       [[32, 33, 34, 35],\n",
       "        [40, 41, 42, 43]]])"
      ]
     },
     "execution_count": 16,
     "metadata": {},
     "output_type": "execute_result"
    },
    {
     "data": {
      "image/png": "[encoded data removed]",
      "text/plain": [
       "<Figure size 432x288 with 3 Axes>"
      ]
     },
     "metadata": {
      "needs_background": "light"
     },
     "output_type": "display_data"
    }
   ],
   "source": [
    "arr[::2, ::2]"
   ]
  },
  {
   "cell_type": "code",
   "execution_count": 17,
   "metadata": {},
   "outputs": [],
   "source": [
    "import matplotlib.pyplot as plt"
   ]
  },
  {
   "cell_type": "code",
   "execution_count": 34,
   "metadata": {},
   "outputs": [
    {
     "data": {
      "image/png": "[encoded data removed]",
      "text/plain": [
       "<Figure size 432x288 with 3 Axes>"
      ]
     },
     "metadata": {
      "needs_background": "light"
     },
     "output_type": "display_data"
    }
   ],
   "source": [
    "arr[:-1, :-2, -3:]\n",
    "plt.savefig('dimension_slice_0.png', bbox_inches='tight')"
   ]
  },
  {
   "cell_type": "markdown",
   "metadata": {},
   "source": [
    "## Задание\n",
    "\n",
    "Сгенерировать массив и выбрать указанные элементы:\n",
    "\n",
    "![slice_task](slice_task.png)"
   ]
  },
  {
   "cell_type": "code",
   "execution_count": 23,
   "metadata": {},
   "outputs": [
    {
     "data": {
      "text/plain": [
       "array([[22, 23],\n",
       "       [12, 13],\n",
       "       [ 2,  3]])"
      ]
     },
     "execution_count": 23,
     "metadata": {},
     "output_type": "execute_result"
    },
    {
     "data": {
      "image/png": "[encoded data removed]",
      "text/plain": [
       "<Figure size 432x288 with 1 Axes>"
      ]
     },
     "metadata": {
      "needs_background": "light"
     },
     "output_type": "display_data"
    }
   ],
   "source": [
    "np.arange(30, 0, -1).reshape(6, 5).view(type=sp)[1::2, 3:1:-1]"
   ]
  }
 ],
 "metadata": {
  "kernelspec": {
   "display_name": "Python 3",
   "language": "python",
   "name": "python3"
  },
  "language_info": {
   "codemirror_mode": {
    "name": "ipython",
    "version": 3
   },
   "file_extension": ".py",
   "mimetype": "text/x-python",
   "name": "python",
   "nbconvert_exporter": "python",
   "pygments_lexer": "ipython3",
   "version": "3.8.10"
  }
 },
 "nbformat": 4,
 "nbformat_minor": 4
}
