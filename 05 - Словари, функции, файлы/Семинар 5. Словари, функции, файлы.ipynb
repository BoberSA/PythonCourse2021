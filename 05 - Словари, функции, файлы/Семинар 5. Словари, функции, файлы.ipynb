{
 "cells": [
  {
   "cell_type": "markdown",
   "metadata": {},
   "source": [
    "# Семинар 5. Словари, функции, файлы\n",
    "\n",
    "1. Словарь\n",
    "\n",
    "    1.1. Что такое словарь?\n",
    "    \n",
    "    1.2. Операции со словарем\n",
    "    \n",
    "        1.2.1. Операторы\n",
    "        \n",
    "        1.2.2. Индексирование\n",
    "        \n",
    "        1.2.3. Методы\n",
    "\n",
    "2. Функции\n",
    "\n",
    "    2.1. Что такое функция? Объявление функции.\n",
    "    \n",
    "    2.2. Аргументы функции, вызов функции\n",
    "    \n",
    "    2.3. Документирование функции\n",
    "    \n",
    "    2.4. Произвольное число аргументов\n",
    "    \n",
    "    2.5. Лямбда-функции\n",
    "    \n",
    "    2.6. Сортировка при помощи лямбда-функций\n",
    "\n",
    "\n",
    "3. Файлы\n",
    "\n",
    "    3.1. Что такое файл? Текстовые и бинарные файлы\n",
    "    \n",
    "    3.2. Функция `open`. Режимы доступа к файлу\n",
    "    \n",
    "    3.3. Методы файлового потока\n",
    "    \n",
    "    3.4. Менеджер контекста `with ... as`\n",
    "    \n",
    "    3.5. Модуль `pickle`. Сохранение и загрузка объектов `Python`\n",
    "        "
   ]
  },
  {
   "cell_type": "markdown",
   "metadata": {},
   "source": [
    "## Словарь `dict`\n",
    "\n",
    "Словарь - это изменяемая последовательность пар ключ-значение, организованный для быстрого доступа по ключу.\n",
    "\n",
    "Ключи должны быть константами, значения могут быть любыми объектами.\n",
    "\n",
    "Синтаксис: \n",
    "\n",
    "- `{ключ1:значение1, ключ2:значение2, ...}`\n",
    "\n",
    "\n",
    "- `dict(ключ1 = значение1, ключ2 = значение2, ...)`\n",
    "\n",
    "\n",
    "- `dict([(ключ1, значение1), (ключ2, значение2), ...])`\n",
    "\n"
   ]
  },
  {
   "cell_type": "code",
   "execution_count": 1,
   "metadata": {},
   "outputs": [
    {
     "data": {
      "text/plain": [
       "{'key': 1, 2: 'value', (5, 6): [0, 1, 4, 9, 16]}"
      ]
     },
     "execution_count": 1,
     "metadata": {},
     "output_type": "execute_result"
    }
   ],
   "source": [
    "# создание словаря, 1 вариант\n",
    "{'key':1, 2:'value', (5,6):[i**2 for i in range(5)]}"
   ]
  },
  {
   "cell_type": "code",
   "execution_count": 2,
   "metadata": {},
   "outputs": [
    {
     "data": {
      "text/plain": [
       "{'x': 5, 'y': 6, 'z': 7, 's': 'string'}"
      ]
     },
     "execution_count": 2,
     "metadata": {},
     "output_type": "execute_result"
    }
   ],
   "source": [
    "# создание словаря, 2 вариант\n",
    "# ключами могут быть только синтаксически корректные имена\n",
    "dict(x = 5, y = 6, z = 7, s = 'string')"
   ]
  },
  {
   "cell_type": "code",
   "execution_count": 3,
   "metadata": {},
   "outputs": [
    {
     "data": {
      "text/plain": [
       "{'key': 1, 2: 'value', (5, 6): [0, 1, 4, 9, 16]}"
      ]
     },
     "execution_count": 3,
     "metadata": {},
     "output_type": "execute_result"
    }
   ],
   "source": [
    "# создание словаря, 3 вариант\n",
    "# словарь как в 1 варианте\n",
    "dict((('key',1), \n",
    "      (2,'value'), \n",
    "      ((5,6),[i**2 for i in range(5)])\n",
    "     ))"
   ]
  },
  {
   "cell_type": "markdown",
   "metadata": {},
   "source": [
    "## Операторы\n",
    "\n",
    "`in, not in` - содержит/не содержит ключ\n"
   ]
  },
  {
   "cell_type": "code",
   "execution_count": 4,
   "metadata": {},
   "outputs": [],
   "source": [
    "d = {'a':1, 'b':2, 'c':3}"
   ]
  },
  {
   "cell_type": "code",
   "execution_count": 5,
   "metadata": {},
   "outputs": [
    {
     "data": {
      "text/plain": [
       "True"
      ]
     },
     "execution_count": 5,
     "metadata": {},
     "output_type": "execute_result"
    }
   ],
   "source": [
    "# оператор in осуществляет поиск совпадающего ключа\n",
    "'a' in d"
   ]
  },
  {
   "cell_type": "code",
   "execution_count": 6,
   "metadata": {},
   "outputs": [
    {
     "data": {
      "text/plain": [
       "True"
      ]
     },
     "execution_count": 6,
     "metadata": {},
     "output_type": "execute_result"
    }
   ],
   "source": [
    "'d' not in d"
   ]
  },
  {
   "cell_type": "markdown",
   "metadata": {},
   "source": [
    "## Индексирование\n",
    "\n",
    "Получение значения по ключу.\n",
    "\n",
    "Синтаксис: `d[key]`"
   ]
  },
  {
   "cell_type": "code",
   "execution_count": 7,
   "metadata": {},
   "outputs": [
    {
     "data": {
      "text/plain": [
       "1"
      ]
     },
     "execution_count": 7,
     "metadata": {},
     "output_type": "execute_result"
    }
   ],
   "source": [
    "d['a']"
   ]
  },
  {
   "cell_type": "code",
   "execution_count": 9,
   "metadata": {},
   "outputs": [
    {
     "ename": "KeyError",
     "evalue": "'d'",
     "output_type": "error",
     "traceback": [
      "\u001b[1;31m---------------------------------------------------------------------------\u001b[0m",
      "\u001b[1;31mKeyError\u001b[0m                                  Traceback (most recent call last)",
      "\u001b[1;32m<ipython-input-9-0d700facf69e>\u001b[0m in \u001b[0;36m<module>\u001b[1;34m\u001b[0m\n\u001b[1;32m----> 1\u001b[1;33m \u001b[0md\u001b[0m\u001b[1;33m[\u001b[0m\u001b[1;34m'd'\u001b[0m\u001b[1;33m]\u001b[0m\u001b[1;33m\u001b[0m\u001b[1;33m\u001b[0m\u001b[0m\n\u001b[0m",
      "\u001b[1;31mKeyError\u001b[0m: 'd'"
     ]
    }
   ],
   "source": [
    "d['d']"
   ]
  },
  {
   "cell_type": "code",
   "execution_count": 11,
   "metadata": {},
   "outputs": [
    {
     "data": {
      "text/plain": [
       "{'a': 1, 'b': 2, 'c': 3, 'f': 5}"
      ]
     },
     "execution_count": 11,
     "metadata": {},
     "output_type": "execute_result"
    }
   ],
   "source": [
    "# добавить пару ключ:значение\n",
    "d['f'] = 5\n",
    "d"
   ]
  },
  {
   "cell_type": "markdown",
   "metadata": {},
   "source": [
    "## Методы\n",
    "\n",
    "`d.get(key, default)` – получить значение по ключу `key`; если такого ключа нет, вернуть `default`\n",
    "\n",
    "`d.items()` – получить список кортежей (ключ, значение)\n",
    "\n",
    "`d.keys()` – получить список ключей\n",
    "\n",
    "`d.values()` – получить список значений\n",
    "\n",
    "`d.update(d2)` – обновить словарь, используя другой словарь\n",
    "\n",
    "`d.pop(key, default)` – достать пару (key, value) из словаря; если такого ключа нет, вернуть `default`"
   ]
  },
  {
   "cell_type": "code",
   "execution_count": 2,
   "metadata": {},
   "outputs": [
    {
     "data": {
      "text/plain": [
       "['clear',\n",
       " 'copy',\n",
       " 'fromkeys',\n",
       " 'get',\n",
       " 'items',\n",
       " 'keys',\n",
       " 'pop',\n",
       " 'popitem',\n",
       " 'setdefault',\n",
       " 'update',\n",
       " 'values']"
      ]
     },
     "execution_count": 2,
     "metadata": {},
     "output_type": "execute_result"
    }
   ],
   "source": [
    "[x for x in dir(dict) if not x.startswith('__')]"
   ]
  },
  {
   "cell_type": "code",
   "execution_count": 1,
   "metadata": {},
   "outputs": [],
   "source": [
    "# два словаря\n",
    "pos = {'x':1.0, 'y':0.0, 'z':0.5}\n",
    "vel = {'vx':0.0, 'vy':0.2, 'vz':0.1}"
   ]
  },
  {
   "cell_type": "code",
   "execution_count": 2,
   "metadata": {},
   "outputs": [
    {
     "data": {
      "text/plain": [
       "(1.0, 1.0)"
      ]
     },
     "execution_count": 2,
     "metadata": {},
     "output_type": "execute_result"
    }
   ],
   "source": [
    "# получить значение по ключу\n",
    "pos['x'], pos.get('x')"
   ]
  },
  {
   "cell_type": "code",
   "execution_count": 3,
   "metadata": {},
   "outputs": [
    {
     "data": {
      "text/plain": [
       "(None, 0.3)"
      ]
     },
     "execution_count": 3,
     "metadata": {},
     "output_type": "execute_result"
    }
   ],
   "source": [
    "# значение по-умолчанию позволит избежать None\n",
    "pos.get('w'), pos.get('w', 0.3)"
   ]
  },
  {
   "cell_type": "code",
   "execution_count": 54,
   "metadata": {},
   "outputs": [
    {
     "data": {
      "text/plain": [
       "['x', 'y', 'z']"
      ]
     },
     "execution_count": 54,
     "metadata": {},
     "output_type": "execute_result"
    }
   ],
   "source": [
    "list(pos.keys())"
   ]
  },
  {
   "cell_type": "code",
   "execution_count": 55,
   "metadata": {},
   "outputs": [
    {
     "name": "stdout",
     "output_type": "stream",
     "text": [
      "x 1.0\n",
      "y 0.0\n",
      "z 0.5\n"
     ]
    }
   ],
   "source": [
    "# получить все ключи\n",
    "for k, v in pos.items():\n",
    "    print(k, v)"
   ]
  },
  {
   "cell_type": "code",
   "execution_count": 11,
   "metadata": {},
   "outputs": [
    {
     "data": {
      "text/plain": [
       "dict_values([1.0, 0.0, 0.5])"
      ]
     },
     "execution_count": 11,
     "metadata": {},
     "output_type": "execute_result"
    }
   ],
   "source": [
    "# получить все значения\n",
    "pos.values()"
   ]
  },
  {
   "cell_type": "code",
   "execution_count": 10,
   "metadata": {},
   "outputs": [
    {
     "data": {
      "text/plain": [
       "dict_items([('x', 1.0), ('y', 0.0), ('z', 0.5)])"
      ]
     },
     "execution_count": 10,
     "metadata": {},
     "output_type": "execute_result"
    }
   ],
   "source": [
    "# получить все пары ключ-значение\n",
    "pos.items()"
   ]
  },
  {
   "cell_type": "code",
   "execution_count": 18,
   "metadata": {},
   "outputs": [
    {
     "data": {
      "text/plain": [
       "{'x': 1.0, 'y': 0.0, 'z': 0.5, 'vx': 0.0, 'vy': 0.2, 'vz': 0.1}"
      ]
     },
     "execution_count": 18,
     "metadata": {},
     "output_type": "execute_result"
    }
   ],
   "source": [
    "# обновить словарь другим словарем (ключи различны)\n",
    "pos.update(vel)\n",
    "pos"
   ]
  },
  {
   "cell_type": "code",
   "execution_count": 19,
   "metadata": {},
   "outputs": [
    {
     "data": {
      "text/plain": [
       "{'x': 1.0, 'y': 0.2, 'z': 0.5, 'vx': 0.0, 'vy': 0.2, 'vz': 0.1}"
      ]
     },
     "execution_count": 19,
     "metadata": {},
     "output_type": "execute_result"
    }
   ],
   "source": [
    "# обновить другим словарем с таким же ключом\n",
    "pos.update({'y':0.2})\n",
    "pos"
   ]
  },
  {
   "cell_type": "code",
   "execution_count": 20,
   "metadata": {},
   "outputs": [
    {
     "data": {
      "text/plain": [
       "(1.0, {'y': 0.2, 'z': 0.5, 'vx': 0.0, 'vy': 0.2, 'vz': 0.1})"
      ]
     },
     "execution_count": 20,
     "metadata": {},
     "output_type": "execute_result"
    }
   ],
   "source": [
    "# достать элемент из словаря\n",
    "pos.pop('x'), pos"
   ]
  },
  {
   "cell_type": "code",
   "execution_count": 21,
   "metadata": {
    "scrolled": true
   },
   "outputs": [
    {
     "ename": "KeyError",
     "evalue": "'x'",
     "output_type": "error",
     "traceback": [
      "\u001b[1;31m---------------------------------------------------------------------------\u001b[0m",
      "\u001b[1;31mKeyError\u001b[0m                                  Traceback (most recent call last)",
      "\u001b[1;32m<ipython-input-21-a1a051c18208>\u001b[0m in \u001b[0;36m<module>\u001b[1;34m\u001b[0m\n\u001b[1;32m----> 1\u001b[1;33m \u001b[0mpos\u001b[0m\u001b[1;33m.\u001b[0m\u001b[0mpop\u001b[0m\u001b[1;33m(\u001b[0m\u001b[1;34m'x'\u001b[0m\u001b[1;33m)\u001b[0m\u001b[1;33m\u001b[0m\u001b[1;33m\u001b[0m\u001b[0m\n\u001b[0m",
      "\u001b[1;31mKeyError\u001b[0m: 'x'"
     ]
    }
   ],
   "source": [
    "pos.pop('x')"
   ]
  },
  {
   "cell_type": "code",
   "execution_count": 22,
   "metadata": {},
   "outputs": [
    {
     "data": {
      "text/plain": [
       "0.0"
      ]
     },
     "execution_count": 22,
     "metadata": {},
     "output_type": "execute_result"
    }
   ],
   "source": [
    "pos.pop('x', 0.0)"
   ]
  },
  {
   "cell_type": "markdown",
   "metadata": {},
   "source": [
    "## Задание\n",
    "\n",
    "\n",
    "Вывести на экран 10 наиболее часто встречающихся слов в любой из глав рассказа [Маленький принц](http://www.lib.ru/EKZUPERY/mprinc.txt):\n",
    "- Составить словарь {'слово':кол-во в тексте}\n",
    "- Преобразовать в список [(‘слово’:кол-во в тексте)]\n",
    "- Поменять местами элементы в кортежах и отсортировать список\n",
    "- Взять 10 первых (последних) элементов\n"
   ]
  },
  {
   "cell_type": "code",
   "execution_count": null,
   "metadata": {},
   "outputs": [],
   "source": []
  },
  {
   "cell_type": "code",
   "execution_count": null,
   "metadata": {},
   "outputs": [],
   "source": []
  },
  {
   "cell_type": "markdown",
   "metadata": {},
   "source": [
    "## Функции\n",
    "\n",
    "Функция - это часть кода программы, которая выполняется только по вызову. Функция получает информацию извне через аргументы и может возвращать результат.\n",
    "\n",
    "Синтаксис объявления функции:\n",
    "\n",
    "```\n",
    "def имя_функции(арг1, арг2, ..., им_арг1=знач1, им_арг2=знач2, ...):\n",
    "    инструкция1\n",
    "    инструкция2\n",
    "    ...\n",
    "    return объект\n",
    "```\n",
    "\n",
    "`арг1, арг2, ...` - позиционные аргументы\n",
    "\n",
    "`им_арг1, им_арг2, ...` - именованные аргументы\n",
    "\n",
    "\n",
    "Синтаксис вызова функции:\n",
    "\n",
    "`имя_функции(знач1, знач2, ..., им_арг1=знач3, им_арг2=знач4, ...)`\n",
    "\n",
    "Примечания:\n",
    "\n",
    "- все позиционные аргументы располагаются перед именованными\n",
    "\n",
    "- вместо именованных аргументов можно передавать позиционные и наоборот*\n",
    "\n",
    "\n",
    "*о четком разграничении между позиционными и именованными аргументами в Python 3.8 см. https://docs.python.org/3/whatsnew/3.8.html"
   ]
  },
  {
   "cell_type": "markdown",
   "metadata": {},
   "source": [
    "## Примеры"
   ]
  },
  {
   "cell_type": "code",
   "execution_count": 65,
   "metadata": {},
   "outputs": [],
   "source": [
    "# объявление функции без аргументов\n",
    "def func():\n",
    "    print('Hello, World!')"
   ]
  },
  {
   "cell_type": "code",
   "execution_count": 67,
   "metadata": {},
   "outputs": [
    {
     "name": "stdout",
     "output_type": "stream",
     "text": [
      "Hello, World!\n"
     ]
    }
   ],
   "source": [
    "# вызов функции без аргументов\n",
    "func()"
   ]
  },
  {
   "cell_type": "code",
   "execution_count": 68,
   "metadata": {},
   "outputs": [],
   "source": [
    "# объявление функции с позиционными аргументами\n",
    "def poly2(x, a, b, c):\n",
    "    return a+b*x+c*x*x"
   ]
  },
  {
   "cell_type": "code",
   "execution_count": 71,
   "metadata": {},
   "outputs": [
    {
     "data": {
      "text/plain": [
       "1"
      ]
     },
     "execution_count": 71,
     "metadata": {},
     "output_type": "execute_result"
    }
   ],
   "source": [
    "# вызов функции с позиционными аргументами\n",
    "poly2(1, 2, -3, 2)"
   ]
  },
  {
   "cell_type": "code",
   "execution_count": 72,
   "metadata": {},
   "outputs": [],
   "source": [
    "# объявление функции с позиционными и именованными аргументами\n",
    "def poly2kw(x, a=2, b=-3, c=2):\n",
    "    return a+b*x+c*x*x"
   ]
  },
  {
   "cell_type": "code",
   "execution_count": 73,
   "metadata": {},
   "outputs": [
    {
     "data": {
      "text/plain": [
       "1"
      ]
     },
     "execution_count": 73,
     "metadata": {},
     "output_type": "execute_result"
    }
   ],
   "source": [
    "# вызов функции с позиционными и именованными аргументами\n",
    "# достаточно указать только позиционные аргументы\n",
    "poly2kw(1)"
   ]
  },
  {
   "cell_type": "code",
   "execution_count": 74,
   "metadata": {},
   "outputs": [
    {
     "data": {
      "text/plain": [
       "9"
      ]
     },
     "execution_count": 74,
     "metadata": {},
     "output_type": "execute_result"
    }
   ],
   "source": [
    "# именованные аргументы можно указывать в любом порядке (но после позиционных)\n",
    "poly2kw(1, b=4, a=3)"
   ]
  },
  {
   "cell_type": "code",
   "execution_count": 47,
   "metadata": {},
   "outputs": [
    {
     "data": {
      "text/plain": [
       "9"
      ]
     },
     "execution_count": 47,
     "metadata": {},
     "output_type": "execute_result"
    }
   ],
   "source": [
    "# вместо именованных аргументов можно передавать позиционные\n",
    "# здесь переданы значения аргументов a, b (согласно порядку в объявлении функции)\n",
    "poly2kw(1, 3, 4)"
   ]
  },
  {
   "cell_type": "code",
   "execution_count": 75,
   "metadata": {
    "scrolled": true
   },
   "outputs": [
    {
     "data": {
      "text/plain": [
       "9"
      ]
     },
     "execution_count": 75,
     "metadata": {},
     "output_type": "execute_result"
    }
   ],
   "source": [
    "# вместо позиционных можно передавать именованные\n",
    "poly2kw(x=1, a=3, b=4)"
   ]
  },
  {
   "cell_type": "code",
   "execution_count": 76,
   "metadata": {},
   "outputs": [],
   "source": [
    "# пример рекурсивной функции\n",
    "def fact(n):\n",
    "    if n > 1:\n",
    "        return n * fact(n - 1)\n",
    "    return 1"
   ]
  },
  {
   "cell_type": "code",
   "execution_count": 77,
   "metadata": {},
   "outputs": [
    {
     "data": {
      "text/plain": [
       "120"
      ]
     },
     "execution_count": 77,
     "metadata": {},
     "output_type": "execute_result"
    }
   ],
   "source": [
    "fact(5)"
   ]
  },
  {
   "cell_type": "markdown",
   "metadata": {},
   "source": [
    "## Документирование функции `docstring`\n",
    "\n",
    "Синтаксис: `в начале тела функции объявить строку`\n",
    "\n",
    "Пример - функция solve из [numpy.linalg](https://github.com/numpy/numpy/blob/master/numpy/linalg/linalg.py)\n",
    "\n",
    "```\n",
    "def solve(a, b):\n",
    "    \"\"\"\n",
    "    Solve a linear matrix equation, or system of linear scalar equations.\n",
    "\n",
    "    Computes the \"exact\" solution, `x`, of the well-determined, i.e., full\n",
    "    rank, linear matrix equation `ax = b`.\n",
    "\n",
    "    Parameters\n",
    "    ----------\n",
    "    a : (..., M, M) array_like\n",
    "        Coefficient matrix.\n",
    "    b : {(..., M,), (..., M, K)}, array_like\n",
    "        Ordinate or \"dependent variable\" values.\n",
    "\n",
    "    Returns\n",
    "    -------\n",
    "    x : {(..., M,), (..., M, K)} ndarray\n",
    "        Solution to the system a x = b.  Returned shape is identical to `b`.\n",
    "\n",
    "    Raises\n",
    "    ------\n",
    "    LinAlgError\n",
    "        If `a` is singular or not square.\n",
    "\n",
    "    See Also\n",
    "    --------\n",
    "    scipy.linalg.solve : Similar function in SciPy.\n",
    "\n",
    "    Notes\n",
    "    -----\n",
    "\n",
    "    .. versionadded:: 1.8.0\n",
    "\n",
    "    Broadcasting rules apply, see the `numpy.linalg` documentation for\n",
    "    details.\n",
    "\n",
    "    The solutions are computed using LAPACK routine ``_gesv``.\n",
    "\n",
    "    `a` must be square and of full-rank, i.e., all rows (or, equivalently,\n",
    "    columns) must be linearly independent; if either is not true, use\n",
    "    `lstsq` for the least-squares best \"solution\" of the\n",
    "    system/equation.\n",
    "\n",
    "    References\n",
    "    ----------\n",
    "    .. [1] G. Strang, *Linear Algebra and Its Applications*, 2nd Ed., Orlando,\n",
    "           FL, Academic Press, Inc., 1980, pg. 22.\n",
    "\n",
    "    Examples\n",
    "    --------\n",
    "    Solve the system of equations ``3 * x0 + x1 = 9`` and ``x0 + 2 * x1 = 8``:\n",
    "\n",
    "    >>> a = np.array([[3,1], [1,2]])\n",
    "    >>> b = np.array([9,8])\n",
    "    >>> x = np.linalg.solve(a, b)\n",
    "    >>> x\n",
    "    array([2.,  3.])\n",
    "\n",
    "    Check that the solution is correct:\n",
    "\n",
    "    >>> np.allclose(np.dot(a, x), b)\n",
    "    True\n",
    "\n",
    "    \"\"\"\n",
    "```"
   ]
  },
  {
   "cell_type": "code",
   "execution_count": 38,
   "metadata": {},
   "outputs": [],
   "source": [
    "from numpy.linalg import solve\n",
    "# Shift+Tab на следующей строке\n",
    "#solve()"
   ]
  },
  {
   "cell_type": "code",
   "execution_count": 85,
   "metadata": {},
   "outputs": [
    {
     "name": "stdout",
     "output_type": "stream",
     "text": [
      "1 -> True\n",
      "2 -> True\n",
      "3 -> True\n",
      "4 -> False\n",
      "5 -> True\n",
      "6 -> False\n",
      "7 -> True\n",
      "8 -> False\n",
      "9 -> False\n",
      "10 -> False\n",
      "11 -> True\n",
      "12 -> False\n",
      "13 -> True\n",
      "14 -> False\n",
      "15 -> False\n"
     ]
    }
   ],
   "source": [
    "from math import sqrt\n",
    " \n",
    "def check(a):\n",
    "    \"\"\"\n",
    "    Check if given number is prime.\n",
    " \n",
    "    Parameters\n",
    "    ----------\n",
    "    a : given number.\n",
    " \n",
    "    Returns\n",
    "    -------\n",
    "    x : True if the nubber is prime\n",
    "        False if it is not\n",
    "    \"\"\"\n",
    "\n",
    "    d = 2\n",
    "    while d <= sqrt(a):\n",
    "        if (a % d) == 0:\n",
    "            return (False)\n",
    "        else:\n",
    "            d += 1\n",
    "    return True\n",
    " \n",
    "\n",
    "for i in range (1, 16):\n",
    "    print (i, \"->\", check(i))"
   ]
  },
  {
   "cell_type": "code",
   "execution_count": 78,
   "metadata": {},
   "outputs": [],
   "source": [
    "# простой пример\n",
    "def add(a, b):\n",
    "    '''\n",
    "    Вычисляет сумму аргументов c = a + b\n",
    "    \n",
    "    Parameters\n",
    "    ----------\n",
    "    \n",
    "    a: число, строка, список\n",
    "        Первый аргумент\n",
    "        \n",
    "    b: число, строка, список\n",
    "        Второй аргумент\n",
    "        \n",
    "    Returns\n",
    "    -------\n",
    "    c : тип соответствует типам a и b\n",
    "        Сумма аргументов: a + b\n",
    "    \n",
    "    '''\n",
    "    return a + b"
   ]
  },
  {
   "cell_type": "code",
   "execution_count": 79,
   "metadata": {},
   "outputs": [
    {
     "data": {
      "text/plain": [
       "3"
      ]
     },
     "execution_count": 79,
     "metadata": {},
     "output_type": "execute_result"
    }
   ],
   "source": [
    "# посмотреть документацию Shift+Tab\n",
    "add(1, 2)"
   ]
  },
  {
   "cell_type": "markdown",
   "metadata": {},
   "source": [
    "## Задание\n",
    "\n",
    "Написать функцию, которая возвращает `True`, если аргумент является простым числом и `False` в противном случае. Задокументировать функцию при помощи `docstring`."
   ]
  },
  {
   "cell_type": "code",
   "execution_count": null,
   "metadata": {},
   "outputs": [],
   "source": []
  },
  {
   "cell_type": "markdown",
   "metadata": {},
   "source": [
    "## Произвольное число аргументов\n",
    "\n",
    "Синтаксис объявления:\n",
    "\n",
    "```\n",
    "def имя_функции(*кортеж_арг, **словарь_именарг):\n",
    "\tинструкция1\n",
    "\tинструкция2\n",
    "\t…\n",
    "\treturn возвращаемый_объект\n",
    "```\n",
    "\n",
    "Синтаксис вызова:\n",
    "\n",
    "- стандартный:\n",
    "```имя_функции(знач1, знач2, …, именарг1=знач3, именарг2=знач4, …)```\n",
    "\n",
    "- с распаковкой:\n",
    "```имя_функции(*кортеж_значений, **словарь_имен_и_значений)```\n"
   ]
  },
  {
   "cell_type": "code",
   "execution_count": 86,
   "metadata": {},
   "outputs": [],
   "source": [
    "# только позиционные аргументы\n",
    "def func(*args):\n",
    "    print('Кортеж аргументов:', args)"
   ]
  },
  {
   "cell_type": "code",
   "execution_count": 87,
   "metadata": {},
   "outputs": [
    {
     "name": "stdout",
     "output_type": "stream",
     "text": [
      "Кортеж аргументов: (1, 2, 3, 4, 5, 'arg', 'fff', [])\n"
     ]
    }
   ],
   "source": [
    "# стандартный вызов\n",
    "func(1, 2, 3, 4, 5, 'arg', 'fff', [])"
   ]
  },
  {
   "cell_type": "code",
   "execution_count": 88,
   "metadata": {},
   "outputs": [
    {
     "name": "stdout",
     "output_type": "stream",
     "text": [
      "Кортеж аргументов: ('a', 'b', 'c')\n"
     ]
    }
   ],
   "source": [
    "# вызов с распаковкой\n",
    "tpl = ('a', 'b', 'c')\n",
    "func(*tpl)"
   ]
  },
  {
   "cell_type": "code",
   "execution_count": 75,
   "metadata": {},
   "outputs": [],
   "source": [
    "# только именованные аргументы\n",
    "def func_kw(**kwargs):\n",
    "    print('Словарь аргументов:', kwargs)"
   ]
  },
  {
   "cell_type": "code",
   "execution_count": 76,
   "metadata": {},
   "outputs": [
    {
     "name": "stdout",
     "output_type": "stream",
     "text": [
      "Словарь аргументов: {'x': 1, 'y': 2, 'z': 3}\n"
     ]
    }
   ],
   "source": [
    "# стандартный вызов\n",
    "func_kw(x = 1, y = 2, z = 3)"
   ]
  },
  {
   "cell_type": "code",
   "execution_count": 77,
   "metadata": {
    "scrolled": true
   },
   "outputs": [
    {
     "name": "stdout",
     "output_type": "stream",
     "text": [
      "Словарь аргументов: {'x': 1, 'y': 2, 'z': 3}\n"
     ]
    }
   ],
   "source": [
    "# вызов с распаковкой\n",
    "d = {'x':1, 'y':2, 'z':3}\n",
    "func_kw(**d)"
   ]
  },
  {
   "cell_type": "markdown",
   "metadata": {},
   "source": [
    "## Задание\n",
    "\n",
    "Написать функцию norm, позволяющую рассчитывать различные нормы в векторных пространствах произвольной размерности.\n",
    "Позиционные аргументы задают координаты вектора. Именованный аргумент `kind` задает тип нормы:\n",
    "- 1 - $L_1$, манхэттенское расстояние\n",
    "- 2 - $L_2$, евклидова норма\n",
    "- 3 - $L_\\infty$, максимум модулей координат"
   ]
  },
  {
   "cell_type": "code",
   "execution_count": null,
   "metadata": {},
   "outputs": [],
   "source": []
  },
  {
   "cell_type": "markdown",
   "metadata": {},
   "source": [
    "## Лямбда-функции\n",
    "\n",
    "Лямбда-функция - это короткая безымянная функция.\n",
    "\n",
    "Синтаксис объявления лямбда-функции: `lambda арг1, арг2, ...: выражение`\n",
    "\n",
    "Возвращаемое значение - результат вычисления `выражения`.\n"
   ]
  },
  {
   "cell_type": "code",
   "execution_count": 77,
   "metadata": {},
   "outputs": [
    {
     "data": {
      "text/plain": [
       "1.4142135623730951"
      ]
     },
     "execution_count": 77,
     "metadata": {},
     "output_type": "execute_result"
    }
   ],
   "source": [
    "dist = lambda x, y: (x**2 + y**2)**0.5\n",
    "\n",
    "dist(1, 1)"
   ]
  },
  {
   "cell_type": "code",
   "execution_count": 79,
   "metadata": {},
   "outputs": [
    {
     "data": {
      "text/plain": [
       "[(15, 0, 'а'), (12, 1, 'в'), (9, 4, 'д'), (6, 9, 'а'), (3, 16, 'в')]"
      ]
     },
     "execution_count": 79,
     "metadata": {},
     "output_type": "execute_result"
    }
   ],
   "source": [
    "lst = [(15-3*i, i**2, 'абвгде'[i*2%6]) for i in range(5)]\n",
    "lst"
   ]
  },
  {
   "cell_type": "code",
   "execution_count": 80,
   "metadata": {},
   "outputs": [
    {
     "data": {
      "text/plain": [
       "['ааааааааааааааа', 'вввввввввввв', 'ддддддддд', 'аааааа', 'ввв']"
      ]
     },
     "execution_count": 80,
     "metadata": {},
     "output_type": "execute_result"
    }
   ],
   "source": [
    "get0 = lambda x : x[0]\n",
    "get2 = lambda x : x[2]\n",
    "\n",
    "[get0(x)*get2(x) for x in lst]"
   ]
  },
  {
   "cell_type": "code",
   "execution_count": 7,
   "metadata": {},
   "outputs": [
    {
     "data": {
      "text/plain": [
       "[(3, 16, 'в'), (6, 9, 'а'), (9, 4, 'д'), (12, 1, 'в'), (15, 0, 'а')]"
      ]
     },
     "execution_count": 7,
     "metadata": {},
     "output_type": "execute_result"
    }
   ],
   "source": [
    "# сортировка списка\n",
    "lst.sort() # изменяет список\n",
    "lst"
   ]
  },
  {
   "cell_type": "code",
   "execution_count": 8,
   "metadata": {},
   "outputs": [
    {
     "data": {
      "text/plain": [
       "[(3, 16, 'в'), (6, 9, 'а'), (9, 4, 'д'), (12, 1, 'в'), (15, 0, 'а')]"
      ]
     },
     "execution_count": 8,
     "metadata": {},
     "output_type": "execute_result"
    }
   ],
   "source": [
    "# сортировка с использованием функции\n",
    "lst.sort(key=get0)\n",
    "lst"
   ]
  },
  {
   "cell_type": "code",
   "execution_count": 9,
   "metadata": {},
   "outputs": [
    {
     "data": {
      "text/plain": [
       "[(6, 9, 'а'), (15, 0, 'а'), (3, 16, 'в'), (12, 1, 'в'), (9, 4, 'д')]"
      ]
     },
     "execution_count": 9,
     "metadata": {},
     "output_type": "execute_result"
    }
   ],
   "source": [
    "lst.sort(key=get2)\n",
    "lst"
   ]
  },
  {
   "cell_type": "code",
   "execution_count": 12,
   "metadata": {},
   "outputs": [
    {
     "data": {
      "text/plain": [
       "[(12, 1, 'в'), (6, 9, 'а'), (15, 0, 'а'), (3, 16, 'в'), (9, 4, 'д')]"
      ]
     },
     "execution_count": 12,
     "metadata": {},
     "output_type": "execute_result"
    }
   ],
   "source": [
    "from math import sin, cos\n",
    "\n",
    "# лямбда-функцию можно создавать сразу там, где она требуется\n",
    "lst.sort(key=lambda x: cos(x[0]) + sin(x[1]), reverse=True)\n",
    "lst"
   ]
  },
  {
   "cell_type": "code",
   "execution_count": 14,
   "metadata": {},
   "outputs": [
    {
     "data": {
      "text/plain": [
       "(1.6853249435403885,\n",
       " 1.3722887718921226,\n",
       " -0.7596879128588213,\n",
       " -1.2778958132655107,\n",
       " -1.667932757192605)"
      ]
     },
     "execution_count": 14,
     "metadata": {},
     "output_type": "execute_result"
    }
   ],
   "source": [
    "(*map(lambda x: cos(x[0]) + sin(x[1]), lst),)"
   ]
  },
  {
   "cell_type": "markdown",
   "metadata": {},
   "source": [
    "## Задание\n",
    "\n",
    "Дан список:\n",
    "```\n",
    "[(14, 0.48, 'iczjypun'),\n",
    " (13, 0.06, 'leonbpu'),\n",
    " (7, 0.0, 'inflo'),\n",
    " (1, 0.58, 'tukw'),\n",
    " (15, 0.94, 'hepgtz'),\n",
    " (4, 0.35, 'rfwzdtu'),\n",
    " (16, 0.28, 'vukow'),\n",
    " (19, 0.94, 'uxf'),\n",
    " (10, 0.88, 'kjydu'),\n",
    " (6, 0.61, 'uishdymr'),\n",
    " (5, 0.55, 'amxylfrw'),\n",
    " (11, 0.11, 'fanw'),\n",
    " (1, 0.02, 'yerpnsfhw'),\n",
    " (4, 0.18, 'xdoaq'),\n",
    " (15, 0.06, 'hpzey')]\n",
    "```\n",
    "\n",
    "Отсортировать его по следующим условиям:\n",
    "- по синусу второго элемента, по-возрастанию\n",
    "- сумме второго и косинуса первого элемента, по-убыванию\n",
    "- по сумме синуса первого элемента и косинуса длины строки, по-возрастанию"
   ]
  },
  {
   "cell_type": "code",
   "execution_count": null,
   "metadata": {},
   "outputs": [],
   "source": []
  },
  {
   "cell_type": "markdown",
   "metadata": {},
   "source": [
    "## Файлы\n",
    "\n",
    "Файл - это именованная область памяти на носителе информации.\n",
    "\n",
    "Файлы разделяют на текстовые, с которыми может непосредственно работать человек, и бинарные (двоичные).\n",
    "\n",
    "Имя файла обычно имеет расширение, которое связано с типом файла, например:\n",
    "\n",
    "- `*.txt, *.json, *.py, *.h, *.cpp, *.csv, ...` - текстовые файлы\n",
    "- `*.bin, *.png, *.mp4, *.exe, *.mp3, *.pdf, ...` - бинарные файлы\n",
    "\n",
    "Каждый бинарный файл имеет определенную структуру и считывается/записывается предназначенной для этого файла программой."
   ]
  },
  {
   "cell_type": "code",
   "execution_count": null,
   "metadata": {},
   "outputs": [],
   "source": []
  },
  {
   "cell_type": "markdown",
   "metadata": {},
   "source": [
    "## Функция `open`\n",
    "\n",
    "Позволяет открыть файл для чтения/записи и создать файловый поток.\n",
    "\n",
    "Синтаксис: `f = open(file, mode, ...)`\n",
    "\n",
    "- `f` - файловый поток\n",
    "- `file` - путь к файлу\n",
    "- `mode` - режим доступа к файлу\n"
   ]
  },
  {
   "cell_type": "markdown",
   "metadata": {},
   "source": [
    "## Режимы доступа к файлу\n",
    "\n",
    "Режим доступа `mode` указывается в виде строки из одного или нескольких символов:\n",
    "\n",
    "- `r` – чтение из файла (*read*)\n",
    "- `w` – запись в файл (*write*)\n",
    "- `x` – создать новый файл и открыть на запись\n",
    "- `a` – дозапись в конец файла (*append*)\n",
    "- `+` – открыть файл для обновления (чтения и записи)\n",
    "- `b` – бинарный режим (*binary*)\n",
    "- `t` – текстовый режим (*text*)\n",
    "\n",
    "Режимы можно комбинировать:\n",
    "\n",
    "- `rt` - текстовый файл в режиме чтения\n",
    "- `wb` - бинарный файл в режиме записи"
   ]
  },
  {
   "cell_type": "markdown",
   "metadata": {},
   "source": [
    "## Методы файлового потока\n",
    "\n",
    "- `f.read()` – прочитать файл целиком и вернуть строку или буфер\n",
    "- `f.readline()` – прочитать строку из файла\n",
    "- `f.readlines()` – прочитать все строки из файла и вернуть список строк\n",
    "- `f.write(text/buffer)` – записать текст или содержимое буфера\n",
    "- `f.writelines()` – записать список строк в файл\n",
    "- `f.close()` – закрыть файловый поток\n"
   ]
  },
  {
   "cell_type": "code",
   "execution_count": 50,
   "metadata": {},
   "outputs": [],
   "source": [
    "# открыть файл в текстовом режиме для записи и записать в него строку\n",
    "f = open('notes.txt', 'wt')\n",
    "f.write('''Методы файлового потока\n",
    "f.read() – прочитать файл целиком и вернуть строку или буфер\n",
    "f.readline() – прочитать строку из файла\n",
    "f.readlines() – прочитать все строки из файла и вернуть список строк\n",
    "f.write(text/buffer) – записать текст или содержимое буфера\n",
    "f.writelines() – записать список строк в файл\n",
    "f.close() – закрыть файловый поток\n",
    "''')\n",
    "f.close()"
   ]
  },
  {
   "cell_type": "code",
   "execution_count": 51,
   "metadata": {},
   "outputs": [
    {
     "name": "stdout",
     "output_type": "stream",
     "text": [
      "Методы файлового потока\n",
      "f.read() – прочитать файл целиком и вернуть строку или буфер\n",
      "f.readline() – прочитать строку из файла\n",
      "f.readlines() – прочитать все строки из файла и вернуть список строк\n",
      "f.write(text/buffer) – записать текст или содержимое буфера\n",
      "f.writelines() – записать список строк в файл\n",
      "f.close() – закрыть файловый поток\n",
      "\n"
     ]
    }
   ],
   "source": [
    "# открыть файл в текстовом режиме для чтения, прочитать содержимое и вывести на экран\n",
    "f = open('notes.txt', 'rt')\n",
    "print(f.read())\n",
    "f.close()"
   ]
  },
  {
   "cell_type": "code",
   "execution_count": 54,
   "metadata": {
    "scrolled": true
   },
   "outputs": [
    {
     "name": "stdout",
     "output_type": "stream",
     "text": [
      "Методы файлового потока\n",
      "f.read() – прочитать файл целиком и вернуть строку или буфер\n",
      "f.readline() – прочитать строку из файла\n",
      "f.readlines() – прочитать все строки из файла и вернуть список строк\n",
      "f.write(text/buffer) – записать текст или содержимое буфера\n",
      "f.writelines() – записать список строк в файл\n",
      "f.close() – закрыть файловый поток\n"
     ]
    }
   ],
   "source": [
    "# запустить терминальное приложение, выводящее содержимое файла в стандартный поток\n",
    "# для linux - приложение cat\n",
    "!type notes.txt"
   ]
  },
  {
   "cell_type": "markdown",
   "metadata": {},
   "source": [
    "## Менеджер контекста `with ... as`\n",
    "\n",
    "Менеджер контекста позволяет работать в определенном контексте.\n",
    "При работе с файлам - это контекст открытого файла. Выход из контекста означает автоматическое закрытие файла.\n",
    "\n",
    "Синтаксис: \n",
    "```\n",
    "with open('notes.txt', 'rt') as f:\n",
    "    text = f.read()\n",
    "```\n",
    "\n",
    "После выхода из блока `with` файл `f` будет автоматически закрыт."
   ]
  },
  {
   "cell_type": "code",
   "execution_count": 57,
   "metadata": {},
   "outputs": [],
   "source": [
    "text = '''Менеджер контекста позволяет работать в определенном контексте. \n",
    "При работе с файлам - это контекст открытого файла.\n",
    "Выход из контекста означает автоматическое закрытие файла.'''\n",
    "\n",
    "with open('notes2.txt', 'wt') as f:\n",
    "    f.write(text)"
   ]
  },
  {
   "cell_type": "code",
   "execution_count": 58,
   "metadata": {},
   "outputs": [
    {
     "name": "stdout",
     "output_type": "stream",
     "text": [
      "Менеджер контекста позволяет работать в определенном контексте. \n",
      "При работе с файлам - это контекст открытого файла.\n",
      "Выход из контекста означает автоматическое закрытие файла.\n"
     ]
    }
   ],
   "source": [
    "with open('notes2.txt', 'rt') as f:\n",
    "    print(f.read())"
   ]
  },
  {
   "cell_type": "code",
   "execution_count": 59,
   "metadata": {
    "scrolled": true
   },
   "outputs": [
    {
     "name": "stdout",
     "output_type": "stream",
     "text": [
      "Менеджер контекста позволяет работать в определенном контексте. \n",
      "При работе с файлам - это контекст открытого файла.\n",
      "Выход из контекста означает автоматическое закрытие файла.\n"
     ]
    }
   ],
   "source": [
    "!type notes2.txt"
   ]
  },
  {
   "cell_type": "markdown",
   "metadata": {},
   "source": [
    "## Модуль `pickle`\n",
    "\n",
    "`pickle` позволяет сохранять и загружать практически любые объекты Python в **бинарные** файлы.\n",
    "\n",
    "Основные методы:\n",
    "\n",
    "- `dump(obj, file, ...)` - сохранить объект в файловый поток\n",
    "- `obj = load(file, ...)` - загрузить объект из файлового потока\n"
   ]
  },
  {
   "cell_type": "code",
   "execution_count": 60,
   "metadata": {},
   "outputs": [],
   "source": [
    "import pickle"
   ]
  },
  {
   "cell_type": "code",
   "execution_count": 61,
   "metadata": {},
   "outputs": [],
   "source": [
    "lst = [(14, 0.48, 'iczjypun'),\n",
    " (13, 0.06, 'leonbpu'),\n",
    " (7, 0.0, 'inflo'),\n",
    " (1, 0.58, 'tukw'),\n",
    " (15, 0.94, 'hepgtz'),\n",
    " (4, 0.35, 'rfwzdtu'),\n",
    " (16, 0.28, 'vukow'),\n",
    " (19, 0.94, 'uxf'),\n",
    " (10, 0.88, 'kjydu'),\n",
    " (6, 0.61, 'uishdymr'),\n",
    " (5, 0.55, 'amxylfrw'),\n",
    " (11, 0.11, 'fanw'),\n",
    " (1, 0.02, 'yerpnsfhw'),\n",
    " (4, 0.18, 'xdoaq'),\n",
    " (15, 0.06, 'hpzey')]"
   ]
  },
  {
   "cell_type": "code",
   "execution_count": 62,
   "metadata": {},
   "outputs": [],
   "source": [
    "# сохранить список в бинарный файл\n",
    "with open('binary.pkl', 'wb') as f:\n",
    "    pickle.dump(lst, f)"
   ]
  },
  {
   "cell_type": "code",
   "execution_count": 63,
   "metadata": {
    "scrolled": true
   },
   "outputs": [
    {
     "name": "stdout",
     "output_type": "stream",
     "text": [
      "Ђ\u0004•N\u0001\u0000\u0000\u0000\u0000\u0000\u0000]”(K\u000eG?ЮёQл…\u001e",
      "ёЊ\biczjypun”‡”K\n",
      "G?®ёQл…\u001e",
      "ёЊ\u0007leonbpu”‡”K\u0007G\u0000\u0000\u0000\u0000\u0000\u0000\u0000\u0000Њ\u0005inflo”‡”K\u0001G?вЏ\\(хВЏЊ\u0004tukw”‡”K\u000fG?о\u0014zбG®\u0014Њ\u0006hepgtz”‡”K\u0004G?ЦffffffЊ\u0007rfwzdtu”‡”K\u0010G?Сл…\u001e",
      "ёQмЊ\u0005vukow”‡”K\u0013G?о\u0014zбG®\u0014Њ\u0003uxf”‡”K\n",
      "G?м(хВЏ\\)Њ\u0005kjydu”‡”K\u0006G?г…\u001e",
      "ёQл…Њ\buishdymr”‡”K\u0005G?б™™™™™љЊ\bamxylfrw”‡”K\u000b",
      "G?ј(хВЏ\\)Њ\u0004fanw”‡”K\u0001G?”zбG®\u0014{Њ\tyerpnsfhw”‡”K\u0004G?З\n",
      "=pЈЧ\n",
      "Њ\u0005xdoaq”‡”K\u000fG?®ёQл…\u001e",
      "ёЊ\u0005hpzey”‡”e.\n"
     ]
    }
   ],
   "source": [
    "!type binary.pkl"
   ]
  },
  {
   "cell_type": "code",
   "execution_count": 64,
   "metadata": {},
   "outputs": [
    {
     "data": {
      "text/plain": [
       "[(14, 0.48, 'iczjypun'),\n",
       " (13, 0.06, 'leonbpu'),\n",
       " (7, 0.0, 'inflo'),\n",
       " (1, 0.58, 'tukw'),\n",
       " (15, 0.94, 'hepgtz'),\n",
       " (4, 0.35, 'rfwzdtu'),\n",
       " (16, 0.28, 'vukow'),\n",
       " (19, 0.94, 'uxf'),\n",
       " (10, 0.88, 'kjydu'),\n",
       " (6, 0.61, 'uishdymr'),\n",
       " (5, 0.55, 'amxylfrw'),\n",
       " (11, 0.11, 'fanw'),\n",
       " (1, 0.02, 'yerpnsfhw'),\n",
       " (4, 0.18, 'xdoaq'),\n",
       " (15, 0.06, 'hpzey')]"
      ]
     },
     "execution_count": 64,
     "metadata": {},
     "output_type": "execute_result"
    }
   ],
   "source": [
    "# загрузить объект из файлового потока\n",
    "with open('binary.pkl', 'rb') as f:\n",
    "    obj = pickle.load(f)\n",
    "obj"
   ]
  },
  {
   "cell_type": "code",
   "execution_count": 65,
   "metadata": {},
   "outputs": [
    {
     "data": {
      "text/plain": [
       "True"
      ]
     },
     "execution_count": 65,
     "metadata": {},
     "output_type": "execute_result"
    }
   ],
   "source": [
    "obj == lst"
   ]
  },
  {
   "cell_type": "markdown",
   "metadata": {},
   "source": [
    "## Задание\n",
    "\n",
    "Сгенерировать список списков списков (*трехмерный список*) из целых чисел и:\n",
    "\n",
    "- сохранить его в текстовый файл, загрузить из этого файла текст и отобразить на экране,\n",
    "- сохранить его в бинарный файл, загрузить обратно как объект и сравнить с исходным"
   ]
  },
  {
   "cell_type": "code",
   "execution_count": null,
   "metadata": {},
   "outputs": [],
   "source": []
  }
 ],
 "metadata": {
  "kernelspec": {
   "display_name": "Python 3",
   "language": "python",
   "name": "python3"
  },
  "language_info": {
   "codemirror_mode": {
    "name": "ipython",
    "version": 3
   },
   "file_extension": ".py",
   "mimetype": "text/x-python",
   "name": "python",
   "nbconvert_exporter": "python",
   "pygments_lexer": "ipython3",
   "version": "3.8.10"
  }
 },
 "nbformat": 4,
 "nbformat_minor": 4
}
