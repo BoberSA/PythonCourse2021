{
 "cells": [
  {
   "cell_type": "markdown",
   "metadata": {},
   "source": [
    "# Семинар 3. Ветвления, циклы, строки\n",
    "\n",
    "1. Ветвления\n",
    "\n",
    "    1.1. Логические операции\n",
    "    \n",
    "    1.2. Оператор ветвления `if`\n",
    "    \n",
    "    1.3. Тернарный (трехместный) оператор\n",
    "\n",
    "\n",
    "2. Циклы\n",
    "\n",
    "    2.1. Диапазон `range`\n",
    "    \n",
    "    2.2. Цикл `for`\n",
    "    \n",
    "    2.3. Цикл `while`\n",
    "\n",
    "\n",
    "3. Строки\n",
    "\n",
    "    3.1. Способы записи строк\n",
    "\n",
    "    3.2. Форматирование строк\n",
    "    \n",
    "        3.2.1. Форматирование в стиле Си\n",
    "        \n",
    "        3.2.2. Форматирование `f-string`\n",
    "    \n",
    "    3.3. Операции со строками\n",
    "    \n",
    "        3.3.1. Операторы\n",
    "        \n",
    "        3.3.2. Индексирование\n",
    "        \n",
    "        3.3.3. Срезы\n",
    "        \n",
    "        3.3.4. Методы (на следующем занятии)\n",
    "        "
   ]
  },
  {
   "cell_type": "markdown",
   "metadata": {},
   "source": [
    "## Логические операции\n",
    "\n",
    "В Python реализована поддержка булевой алгебры:\n",
    "1. Логический тип `bool`\n",
    "2. Константы `True`, `False`\n",
    "3. Логические операции\n",
    "    - `and` (И)\n",
    "    - `or` (ИЛИ)\n",
    "    - `not` (НЕ)\n",
    "    - `is`, `is not` (является, не является)\n",
    "    - `in`, `not in` (содержится в, не содержится в)\n",
    "4. Операторы сравнения\n",
    "    - больше `>`\n",
    "    - больше либо равно `>=`\n",
    "    - меньше `<`\n",
    "    - меньше либо равно `<=`\n",
    "    - равно `==`\n",
    "    - не равно `!=`"
   ]
  },
  {
   "cell_type": "markdown",
   "metadata": {},
   "source": [
    "## Примеры"
   ]
  },
  {
   "cell_type": "code",
   "execution_count": 47,
   "metadata": {},
   "outputs": [
    {
     "data": {
      "text/plain": [
       "False"
      ]
     },
     "execution_count": 47,
     "metadata": {},
     "output_type": "execute_result"
    }
   ],
   "source": [
    "# логическая операция с константами True и False\n",
    "True and False"
   ]
  },
  {
   "cell_type": "code",
   "execution_count": 2,
   "metadata": {},
   "outputs": [
    {
     "data": {
      "text/plain": [
       "True"
      ]
     },
     "execution_count": 2,
     "metadata": {},
     "output_type": "execute_result"
    }
   ],
   "source": [
    "# логическая операция со ссылками на булевы константы\n",
    "a = True\n",
    "b = False\n",
    "a or b"
   ]
  },
  {
   "cell_type": "code",
   "execution_count": 3,
   "metadata": {},
   "outputs": [
    {
     "data": {
      "text/plain": [
       "bool"
      ]
     },
     "execution_count": 3,
     "metadata": {},
     "output_type": "execute_result"
    }
   ],
   "source": [
    "# проверить тип объекта на который ссылается a\n",
    "type(a)"
   ]
  },
  {
   "cell_type": "code",
   "execution_count": 4,
   "metadata": {},
   "outputs": [
    {
     "data": {
      "text/plain": [
       "True"
      ]
     },
     "execution_count": 4,
     "metadata": {},
     "output_type": "execute_result"
    }
   ],
   "source": [
    "# операция is not\n",
    "a = 1\n",
    "a is not None"
   ]
  },
  {
   "cell_type": "code",
   "execution_count": 5,
   "metadata": {},
   "outputs": [
    {
     "data": {
      "text/plain": [
       "False"
      ]
     },
     "execution_count": 5,
     "metadata": {},
     "output_type": "execute_result"
    }
   ],
   "source": [
    "# оператор сравнения\n",
    "1 > 2"
   ]
  },
  {
   "cell_type": "code",
   "execution_count": 2,
   "metadata": {},
   "outputs": [
    {
     "data": {
      "text/plain": [
       "False"
      ]
     },
     "execution_count": 2,
     "metadata": {},
     "output_type": "execute_result"
    }
   ],
   "source": [
    "# содержится в\n",
    "'ba' in 'abcdef'"
   ]
  },
  {
   "cell_type": "markdown",
   "metadata": {},
   "source": [
    "## Оператор ветвления `if`\n",
    "\n",
    "Синтаксис оператора if в общем виде:\n",
    "\n",
    "```\n",
    "if условие1:\n",
    "\tинструкция1\n",
    "\tинструкция2\n",
    "\t…\n",
    "elif условие2:\n",
    "\tинструкция3\n",
    "\tинструкция4\n",
    "\t…\n",
    "…\n",
    "else:\n",
    "\tинструкция5\n",
    "\t…\n",
    "```\n",
    "Обратите внимание на:\n",
    "- `:` в конце строк, начинающихся на `if`, `elif`, `else`\n",
    "- отступы в 4 пробела (1 табуляцию) для всех строк, являющихся телом оператора"
   ]
  },
  {
   "cell_type": "markdown",
   "metadata": {},
   "source": [
    "## Примеры"
   ]
  },
  {
   "cell_type": "code",
   "execution_count": 7,
   "metadata": {},
   "outputs": [
    {
     "name": "stdout",
     "output_type": "stream",
     "text": [
      "Логично!\n"
     ]
    }
   ],
   "source": [
    "if 7 >= 8:\n",
    "    print('Что-то пошло не так!')\n",
    "else:\n",
    "    print('Логично!')"
   ]
  },
  {
   "cell_type": "code",
   "execution_count": 8,
   "metadata": {},
   "outputs": [
    {
     "name": "stdout",
     "output_type": "stream",
     "text": [
      "Повезло!\n"
     ]
    }
   ],
   "source": [
    "from math import pi, sqrt\n",
    "\n",
    "if sqrt(40) > 2*pi:\n",
    "    print('Повезло!')"
   ]
  },
  {
   "cell_type": "code",
   "execution_count": 9,
   "metadata": {},
   "outputs": [
    {
     "name": "stdout",
     "output_type": "stream",
     "text": [
      "Номер лотерейного билета: 37\n",
      "Победа! Первый приз Ваш!\n"
     ]
    }
   ],
   "source": [
    "num = int(input('Номер лотерейного билета: '))\n",
    "if num == 37:\n",
    "    print('Победа! Первый приз Ваш!')\n",
    "elif num == 73:\n",
    "    print('')\n",
    "elif num == 3:\n",
    "    print('Неплохо, третье место!')\n",
    "else:\n",
    "    print('Повезет в другой раз!')"
   ]
  },
  {
   "cell_type": "markdown",
   "metadata": {},
   "source": [
    "## Тернарный оператор\n",
    "\n",
    "Синтаксис: `a` if `условие` else `b`\n",
    "\n",
    "Возвращает `a`, если выполнено `условие`, иначе возвращает `b`"
   ]
  },
  {
   "cell_type": "markdown",
   "metadata": {},
   "source": [
    "`условие`?`a`:`b`"
   ]
  },
  {
   "cell_type": "code",
   "execution_count": 3,
   "metadata": {},
   "outputs": [
    {
     "data": {
      "text/plain": [
       "'Обычный день'"
      ]
     },
     "execution_count": 3,
     "metadata": {},
     "output_type": "execute_result"
    }
   ],
   "source": [
    "month = 1\n",
    "day = 2\n",
    "'Новый год!' if month == 1 and day == 1 else 'Обычный день'"
   ]
  },
  {
   "cell_type": "markdown",
   "metadata": {},
   "source": [
    "## Задание\n",
    "\n",
    "Написать программу, которая по величине эксцентриситета (введенной пользователем) выведет на экран тип околоземной орбиты.\n",
    "\n",
    "Связь величины эксцентриситета $e$ с типом орбиты:\n",
    "- $e = 0$ - круговая орбита\n",
    "- $0 < e < 1$ - эллиптическая орбита\n",
    "- $e = 1$ - параболическая орбита\n",
    "- $1 < e < \\infty$ - гиперболическая орбита\n",
    "- $e = \\infty$ - прямая\n",
    "\n",
    "Константа, соответствующая $\\infty$ есть в модуле `math` и называется `inf`"
   ]
  },
  {
   "cell_type": "code",
   "execution_count": null,
   "metadata": {},
   "outputs": [],
   "source": []
  },
  {
   "cell_type": "markdown",
   "metadata": {},
   "source": [
    "## Диапазон `range`\n",
    "\n",
    "`range` - это генератор целых чисел на заданном полуинтервале\n",
    "\n",
    "`range(start, stop, step)` позволяет сгенерировать последовательность целых чисел от `start` до `stop` (не включая) с шагом `step`\n",
    "\n",
    "Варианты использования:\n",
    "- `range(stop)`\n",
    "- `range(start,stop)`\n",
    "- `range(start,stop,step)`"
   ]
  },
  {
   "cell_type": "markdown",
   "metadata": {},
   "source": [
    "## Примеры"
   ]
  },
  {
   "cell_type": "code",
   "execution_count": 11,
   "metadata": {},
   "outputs": [
    {
     "data": {
      "text/plain": [
       "range(0, 5)"
      ]
     },
     "execution_count": 11,
     "metadata": {},
     "output_type": "execute_result"
    }
   ],
   "source": [
    "# диапазон создает объект-генератор\n",
    "range(5)"
   ]
  },
  {
   "cell_type": "code",
   "execution_count": 76,
   "metadata": {},
   "outputs": [
    {
     "name": "stdout",
     "output_type": "stream",
     "text": [
      "0:1:2:3:4\n"
     ]
    }
   ],
   "source": [
    "# оператор распаковки позволяет получить все элементы последовательности\n",
    "print(*range(5), sep=':')"
   ]
  },
  {
   "cell_type": "code",
   "execution_count": 13,
   "metadata": {},
   "outputs": [
    {
     "name": "stdout",
     "output_type": "stream",
     "text": [
      "5 6 7 8 9\n"
     ]
    }
   ],
   "source": [
    "print(*range(5, 10))"
   ]
  },
  {
   "cell_type": "code",
   "execution_count": 77,
   "metadata": {},
   "outputs": [
    {
     "name": "stdout",
     "output_type": "stream",
     "text": [
      "3 5 7 9\n"
     ]
    }
   ],
   "source": [
    "print(*range(3, 11, 2))"
   ]
  },
  {
   "cell_type": "markdown",
   "metadata": {},
   "source": [
    "## Цикл `for`\n",
    "\n",
    "Синтаксис оператора `for` в общем виде:\n",
    "\n",
    "```\n",
    "for счетчик in последовательность:\n",
    "\tинструкция\n",
    "\tеще инструкция\n",
    "\t…\n",
    "else:\n",
    "\tдругая инструкция\n",
    "    …\n",
    "```\n",
    "\n",
    "В качестве последовательности могут выступать:\n",
    "- диапазон `range` или другие генераторы последовательностей\n",
    "- строки, списки, словари и другие итерируемые объекты\n",
    "\n",
    "Для досрочного прерывания цикла или принудительного перехода на следующую итерацию используются ключевые слова `break` и `continue`."
   ]
  },
  {
   "cell_type": "markdown",
   "metadata": {},
   "source": [
    "## Примеры"
   ]
  },
  {
   "cell_type": "code",
   "execution_count": 80,
   "metadata": {},
   "outputs": [
    {
     "name": "stdout",
     "output_type": "stream",
     "text": [
      "0 1 2 3 4 5 6 7 8 9 10 11 12 13 14 15 16 17 18 19 20 21 22 23 24 25 26 27 28 29 30 31 32 33 34 35 36 37 38 39 40 41 42 43 44 45 46 47 48 49 50 51 52 53 54 55 56 57 58 59 60 61 62 63 64 65 66 67 68 69 70 71 72 73 74 75 76 77 78 79 80 81 82 83 84 85 86 87 88 89 90 91 92 93 94 95 96 97 98 99 100 101 102 103 104 105 106 107 108 109 110 111 112 113 114 115 116 117 118 119 120 121 122 123 124 125 126 127 128 129 130 131 132 133 134 135 136 137 138 139 140 141 142 143 144 145 146 147 148 149 150 151 152 153 154 155 156 157 158 159 160 161 162 163 164 165 166 167 168 169 "
     ]
    }
   ],
   "source": [
    "# цикл по элементам генерируемой range последовательности\n",
    "\n",
    "for i in range(170):\n",
    "    # здесь должны быть сложные вычисления\n",
    "    print(i, end=' ') # вывести номер итерации"
   ]
  },
  {
   "cell_type": "code",
   "execution_count": 16,
   "metadata": {},
   "outputs": [
    {
     "name": "stdout",
     "output_type": "stream",
     "text": [
      "т-а-к-а-я- -с-т-р-о-к-а-"
     ]
    }
   ],
   "source": [
    "# цикл по элементам строки\n",
    "\n",
    "for c in 'такая строка':\n",
    "    print(c, end='-')"
   ]
  },
  {
   "cell_type": "code",
   "execution_count": 4,
   "metadata": {},
   "outputs": [
    {
     "data": {
      "text/plain": [
       "(1, 2)"
      ]
     },
     "execution_count": 4,
     "metadata": {},
     "output_type": "execute_result"
    }
   ],
   "source": [
    "a, b = 1, 2\n",
    "a, b"
   ]
  },
  {
   "cell_type": "code",
   "execution_count": 17,
   "metadata": {},
   "outputs": [
    {
     "name": "stdout",
     "output_type": "stream",
     "text": [
      "[0] -> т\n",
      "[1] -> а\n",
      "[2] -> к\n",
      "[3] -> а\n",
      "[4] -> я\n",
      "[5] ->  \n",
      "[6] -> с\n",
      "[7] -> т\n",
      "[8] -> р\n",
      "[9] -> о\n",
      "[10] -> к\n",
      "[11] -> а\n"
     ]
    }
   ],
   "source": [
    "# цикл по элементам строки в случае, если нужен индекс символа\n",
    "# enumerate создает генератор последовательности из пар (индекс, элемент)\n",
    "\n",
    "for i, c in enumerate('такая строка'):\n",
    "    print('[',i,'] -> ', c, sep='')"
   ]
  },
  {
   "cell_type": "code",
   "execution_count": 11,
   "metadata": {},
   "outputs": [
    {
     "data": {
      "text/plain": [
       "355687428096000"
      ]
     },
     "execution_count": 11,
     "metadata": {},
     "output_type": "execute_result"
    }
   ],
   "source": [
    "# посчитать факториал числа n\n",
    "\n",
    "n = 17\n",
    "f = 1\n",
    "for i in range(1, n):\n",
    "    f *= i + 1\n",
    "f"
   ]
  },
  {
   "cell_type": "markdown",
   "metadata": {},
   "source": [
    "## Задание\n",
    "\n",
    "Проверить равенство $\\sum\\limits_{k=0}^{\\infty}\\frac{1}{k!} = e$, посчитав частичную сумму ряда."
   ]
  },
  {
   "cell_type": "code",
   "execution_count": null,
   "metadata": {},
   "outputs": [],
   "source": [
    "print"
   ]
  },
  {
   "cell_type": "markdown",
   "metadata": {},
   "source": [
    "## Цикл `while`\n",
    "\n",
    "Синтаксис оператора `while` в общем виде:\n",
    "\n",
    "```\n",
    "while условие:\n",
    "\tинструкция\n",
    "\tеще инструкция\n",
    "\t…\n",
    "else:\n",
    "\tдругая инструкция\n",
    "    …\n",
    "```\n",
    "\n",
    "Условие - выражение, результат которого можно привести к булевым константам `True` или `False`.\n",
    "\n",
    "Для досрочного прерывания цикла или принудительного перехода на следующую итерацию используются ключевые слова `break` и `continue`."
   ]
  },
  {
   "cell_type": "code",
   "execution_count": 1,
   "metadata": {},
   "outputs": [
    {
     "data": {
      "text/plain": [
       "10000000"
      ]
     },
     "execution_count": 1,
     "metadata": {},
     "output_type": "execute_result"
    }
   ],
   "source": [
    "# пример бесполезного цикла, который делает 10 миллионов итераций\n",
    "i = 0\n",
    "while i < 1e7:\n",
    "    i += 1\n",
    "i"
   ]
  },
  {
   "cell_type": "code",
   "execution_count": 14,
   "metadata": {},
   "outputs": [
    {
     "name": "stdout",
     "output_type": "stream",
     "text": [
      "Введите неотрицательно целое число:-2\n",
      "Введите неотрицательно целое число:-4\n",
      "Введите неотрицательно целое число:0\n",
      "Вы ввели число: 0\n"
     ]
    }
   ],
   "source": [
    "# цикл c ограничениями на ввод пользователя\n",
    "a = -1\n",
    "while a < 0:\n",
    "    a = int(input('Введите неотрицательно целое число:'))\n",
    "print('Вы ввели число:', a)"
   ]
  },
  {
   "cell_type": "markdown",
   "metadata": {},
   "source": [
    "## Новый оператор присвоения `:=`\n",
    "\n",
    "Появился в Python 3.8.\n",
    "В отличие от оператора `=`, выражение `a := 5` возвращает значение 5, в то время как `a = 5` не возвращает.\n",
    "\n",
    "https://docs.python.org/3/whatsnew/3.8.html"
   ]
  },
  {
   "cell_type": "code",
   "execution_count": 15,
   "metadata": {},
   "outputs": [],
   "source": [
    "a = 5"
   ]
  },
  {
   "cell_type": "code",
   "execution_count": 90,
   "metadata": {},
   "outputs": [
    {
     "data": {
      "text/plain": [
       "5"
      ]
     },
     "execution_count": 90,
     "metadata": {},
     "output_type": "execute_result"
    }
   ],
   "source": [
    "(a := 5)"
   ]
  },
  {
   "cell_type": "code",
   "execution_count": 17,
   "metadata": {},
   "outputs": [
    {
     "name": "stdout",
     "output_type": "stream",
     "text": [
      "Введите неотрицательно целове число:-2\n",
      "Введите неотрицательно целове число:1\n",
      "Вы ввели число: 1\n"
     ]
    }
   ],
   "source": [
    "# аналогично с оператором := (walrus operator, Python>=3.8)\n",
    "\n",
    "while (a := int(input('Введите неотрицательно целове число:'))) < 0:\n",
    "    pass\n",
    "print('Вы ввели число:', a)"
   ]
  },
  {
   "cell_type": "code",
   "execution_count": 93,
   "metadata": {},
   "outputs": [
    {
     "name": "stdout",
     "output_type": "stream",
     "text": [
      "Python 3.8.5\n"
     ]
    }
   ],
   "source": [
    "!python --version"
   ]
  },
  {
   "cell_type": "markdown",
   "metadata": {},
   "source": [
    "## Задание\n",
    "\n",
    "Рассчитать количество `n` членов ряда, при котором равенство $\\sum\\limits_{k=1}^{n}\\frac{(-1)^{k+1}}{k^2} \\approx \\frac{\\pi^2}{12}$ достигается с точностью $10^{-10}$.\n",
    "\n",
    "Модуль числа возвращает функция `abs`."
   ]
  },
  {
   "cell_type": "code",
   "execution_count": null,
   "metadata": {},
   "outputs": [],
   "source": []
  },
  {
   "cell_type": "markdown",
   "metadata": {},
   "source": [
    "## Строка - тип `str`\n",
    "\n",
    "Строка в Python - константная последовательность символов.\n",
    "\n",
    "Для записи строк используются кавычки:\n",
    "- `'` - одинарные,\n",
    "- `\"` - двойные,\n",
    "- `'''` - тройные (три одинарных).\n"
   ]
  },
  {
   "cell_type": "markdown",
   "metadata": {},
   "source": [
    "## Примеры"
   ]
  },
  {
   "cell_type": "code",
   "execution_count": 94,
   "metadata": {},
   "outputs": [
    {
     "name": "stdout",
     "output_type": "stream",
     "text": [
      "Строка в одинарных кавычках\n",
      "Строка в двойных кавычках\n",
      "Одинарные \"снаружи\" с двойными \"внутри\"\n",
      "Двойные 'снаружи' с одинарными 'внутри'\n",
      "Одинарные кавычки \\снаружи и 'внутри'\n"
     ]
    }
   ],
   "source": [
    "print('Строка в одинарных кавычках')\n",
    "print(\"Строка в двойных кавычках\")\n",
    "print('Одинарные \"снаружи\" с двойными \"внутри\"')\n",
    "print(\"Двойные 'снаружи' с одинарными 'внутри'\")\n",
    "print('Одинарные кавычки \\\\снаружи и \\'внутри\\'')"
   ]
  },
  {
   "cell_type": "code",
   "execution_count": 24,
   "metadata": {},
   "outputs": [
    {
     "name": "stdout",
     "output_type": "stream",
     "text": [
      "Многострочный\n",
      "текст\n",
      "в тройных\n",
      "кавычках\n"
     ]
    },
    {
     "data": {
      "text/plain": [
       "'Многострочный\\nтекст\\nв тройных\\nкавычках'"
      ]
     },
     "execution_count": 24,
     "metadata": {},
     "output_type": "execute_result"
    }
   ],
   "source": [
    "s = '''Многострочный\n",
    "текст\n",
    "в тройных\n",
    "кавычках'''\n",
    "print(s)\n",
    "s"
   ]
  },
  {
   "cell_type": "code",
   "execution_count": 69,
   "metadata": {},
   "outputs": [
    {
     "data": {
      "text/plain": [
       "True"
      ]
     },
     "execution_count": 69,
     "metadata": {},
     "output_type": "execute_result"
    }
   ],
   "source": [
    "x = 1\n",
    "y = 1\n",
    "x is y"
   ]
  },
  {
   "cell_type": "code",
   "execution_count": 70,
   "metadata": {},
   "outputs": [
    {
     "data": {
      "text/plain": [
       "(False, True, False)"
      ]
     },
     "execution_count": 70,
     "metadata": {},
     "output_type": "execute_result"
    }
   ],
   "source": [
    "a = '''a\n",
    "'''\n",
    "b = 'a\\n'\n",
    "d = 'a\\n'\n",
    "c = b\n",
    "a is b, c is b, d is b"
   ]
  },
  {
   "cell_type": "code",
   "execution_count": 71,
   "metadata": {},
   "outputs": [
    {
     "data": {
      "text/plain": [
       "True"
      ]
     },
     "execution_count": 71,
     "metadata": {},
     "output_type": "execute_result"
    }
   ],
   "source": [
    "a == b"
   ]
  },
  {
   "cell_type": "code",
   "execution_count": 66,
   "metadata": {},
   "outputs": [
    {
     "data": {
      "text/plain": [
       "'a\\n'"
      ]
     },
     "execution_count": 66,
     "metadata": {},
     "output_type": "execute_result"
    }
   ],
   "source": [
    "a"
   ]
  },
  {
   "cell_type": "code",
   "execution_count": 26,
   "metadata": {},
   "outputs": [],
   "source": [
    "'''\n",
    "Тройные кавычки можно использовать для написания многострочных комментариев.\n",
    "Так делается для создания docstring - описания функций, которые вы видите,\n",
    "нажимая `Shift+Tab`\n",
    "'''\n",
    "pass # код, который ничего не делает"
   ]
  },
  {
   "cell_type": "markdown",
   "metadata": {},
   "source": [
    "## Форматирование в стиле Си\n",
    "\n",
    "В языке Си функция `printf` в качестве первого аргумента принимает строку, задающую формат вывода остальных аргументов.\n",
    "Способ задания формата в форматной строке поддерживается и в Python.\n",
    "\n",
    "Синтаксис:\n",
    "`'форматная строка' % (арг0, арг1, ...)`\n",
    "\n",
    "Например, необходимо вывести целое число `n`, число с плавающей точкой `x`.\n",
    "\n",
    "```\n",
    "- на языке Си:     printf(\"n=%d, x=%f\", n, x)\n",
    "- на языке Python:  print(\"n=%d, x=%f\" % (n, x))\n",
    "```\n",
    "\n",
    "Управляющие последовательности, задающие формат:\n",
    "\n",
    "- `%d` – целое число\n",
    "- `%f` – действительное число\n",
    "- `%s` – строка\n",
    "\n",
    "Расширенное форматирование:\n",
    "\n",
    "- `%05d` означает целое число, вписанное в поле шириной 5 с заполнением пустых мест `0`\n",
    "- `%5.3f` означает действительное число с тремя знаками после запятой, вписанное в поле шириной 5\n"
   ]
  },
  {
   "cell_type": "markdown",
   "metadata": {},
   "source": [
    "## Примеры"
   ]
  },
  {
   "cell_type": "code",
   "execution_count": 27,
   "metadata": {},
   "outputs": [
    {
     "data": {
      "text/plain": [
       "'00003'"
      ]
     },
     "execution_count": 27,
     "metadata": {},
     "output_type": "execute_result"
    }
   ],
   "source": [
    "'%05d' % 3"
   ]
  },
  {
   "cell_type": "code",
   "execution_count": 28,
   "metadata": {},
   "outputs": [
    {
     "data": {
      "text/plain": [
       "'1.710'"
      ]
     },
     "execution_count": 28,
     "metadata": {},
     "output_type": "execute_result"
    }
   ],
   "source": [
    "'%5.3f' % 1.71"
   ]
  },
  {
   "cell_type": "code",
   "execution_count": 29,
   "metadata": {},
   "outputs": [
    {
     "name": "stdout",
     "output_type": "stream",
     "text": [
      "       0       1       2\n",
      "       3       4       5\n"
     ]
    }
   ],
   "source": [
    "# вывести таблицу\n",
    "print('%8d%8d%8d\\n%8d%8d%8d' % (0, 1, 2, 3, 4, 5))"
   ]
  },
  {
   "cell_type": "code",
   "execution_count": 30,
   "metadata": {},
   "outputs": [
    {
     "name": "stdout",
     "output_type": "stream",
     "text": [
      "Число pi до 6 знака\n",
      "3.141593\n",
      "совпадает с дробью 355/113\n",
      "3.141593\n"
     ]
    }
   ],
   "source": [
    "from math import pi\n",
    "print('Число pi до 6 знака\\n%.6f\\nсовпадает с дробью 355/113\\n%.6f' % (pi, 355/113))"
   ]
  },
  {
   "cell_type": "code",
   "execution_count": 31,
   "metadata": {},
   "outputs": [
    {
     "data": {
      "text/plain": [
       "'report_005.txt'"
      ]
     },
     "execution_count": 31,
     "metadata": {},
     "output_type": "execute_result"
    }
   ],
   "source": [
    "n = 5\n",
    "'report_%03d.txt' % n"
   ]
  },
  {
   "cell_type": "markdown",
   "metadata": {},
   "source": [
    "## Форматирование `f-string`\n",
    "\n",
    "Позволяет форматировать строку in-place, т.е. указывать имена переменных или выражения внутри строки.\n",
    "\n",
    "Синтаксис:\n",
    "`f'Число e = {e}'`\n",
    "\n",
    "- перед строкой указывается символ `f`,\n",
    "- внутри строки в фигурных скобках указываются сущестующие имена или выражения.\n",
    "\n",
    "Для уточнения формата в фигурных скобках при помощи `:` разделяется имя переменной (выражение) и настройки формата.\n",
    "Настройки формата - такие же, как при Си-форматировании.\n",
    "\n",
    "Например:\n",
    "- `f'{3:05}'` эквивалентно `'%05d' % 3`\n",
    "- `f'{e:.6f}'` эквивалентно `'%.6f' % e`\n",
    "\n"
   ]
  },
  {
   "cell_type": "code",
   "execution_count": 32,
   "metadata": {},
   "outputs": [
    {
     "data": {
      "text/plain": [
       "'Прототип SN6 совершил прыжок на 150 метров 3 сентября'"
      ]
     },
     "execution_count": 32,
     "metadata": {},
     "output_type": "execute_result"
    }
   ],
   "source": [
    "sc, day, month = 'SN6', 3, 'сентября'\n",
    "f'Прототип {sc} совершил прыжок на 150 метров {day} {month}'"
   ]
  },
  {
   "cell_type": "code",
   "execution_count": 33,
   "metadata": {},
   "outputs": [
    {
     "data": {
      "text/plain": [
       "('00003', '00003')"
      ]
     },
     "execution_count": 33,
     "metadata": {},
     "output_type": "execute_result"
    }
   ],
   "source": [
    "f'{3:05}', '%05d' % 3"
   ]
  },
  {
   "cell_type": "code",
   "execution_count": 34,
   "metadata": {},
   "outputs": [
    {
     "data": {
      "text/plain": [
       "('2.718282', '2.718282')"
      ]
     },
     "execution_count": 34,
     "metadata": {},
     "output_type": "execute_result"
    }
   ],
   "source": [
    "from math import e\n",
    "f'{e:.6f}', '%.6f' % e"
   ]
  },
  {
   "cell_type": "code",
   "execution_count": 35,
   "metadata": {},
   "outputs": [
    {
     "data": {
      "text/plain": [
       "'report_n005.txt'"
      ]
     },
     "execution_count": 35,
     "metadata": {},
     "output_type": "execute_result"
    }
   ],
   "source": [
    "n = 5\n",
    "f'report_n{n:03}.txt'"
   ]
  },
  {
   "cell_type": "markdown",
   "metadata": {},
   "source": [
    "## Задание\n",
    "\n",
    "Вывести на экран названия всех файлов, в которые должны быть записаны результаты расчетов.\n",
    "Расчеты определяются параметрами:\n",
    "- `n` - целое число в полуинтервале [0, 20) с шагом 5\n",
    "- `z` - действительное число на отрезке [0.0, 100.0] с шагом в 10.0\n",
    "\n",
    "Шаблон имени файла:\n",
    "`'results_n00_z000.bin'`"
   ]
  },
  {
   "cell_type": "code",
   "execution_count": 3,
   "metadata": {},
   "outputs": [
    {
     "data": {
      "text/plain": [
       "('x=4', 'x=4')"
      ]
     },
     "execution_count": 3,
     "metadata": {},
     "output_type": "execute_result"
    }
   ],
   "source": [
    "x = 4\n",
    "f'{x=}', f'x={x}'"
   ]
  },
  {
   "cell_type": "markdown",
   "metadata": {},
   "source": [
    "## Операции со строками\n",
    "\n",
    "- операторы `+`, `*`\n",
    "- индексирование `[i]` и срезы `[start:stop:step]` \n",
    "- методы класса `str`"
   ]
  },
  {
   "cell_type": "markdown",
   "metadata": {},
   "source": [
    "### Операторы"
   ]
  },
  {
   "cell_type": "code",
   "execution_count": 36,
   "metadata": {},
   "outputs": [
    {
     "data": {
      "text/plain": [
       "'Tesla Model 3'"
      ]
     },
     "execution_count": 36,
     "metadata": {},
     "output_type": "execute_result"
    }
   ],
   "source": [
    "'Tesla' + ' ' + 'Model' + ' ' + '3'"
   ]
  },
  {
   "cell_type": "code",
   "execution_count": 29,
   "metadata": {},
   "outputs": [
    {
     "data": {
      "text/plain": [
       "'#*#*#*#*#*#*#*#*#*#*#*#*#*#*#*#*'"
      ]
     },
     "execution_count": 29,
     "metadata": {},
     "output_type": "execute_result"
    }
   ],
   "source": [
    "'#*'*16"
   ]
  },
  {
   "cell_type": "markdown",
   "metadata": {},
   "source": [
    "### Индексирование\n",
    "\n",
    "Синтаксис аналогичен индексированию массивов в языках C, C++: `строка[индекс]`\n",
    "\n",
    "Python поддерживает отрицательную индексацию, при этом последний элемент строки имеет индекс -1.\n",
    "\n",
    "|                      |   |   |   |   |   |   |\n",
    "|----------------------|---|---|---|---|---|---|\n",
    "| положительные индексы| 0 | 1 | 2 | 3 | 4 | 5 |\n",
    "| строка               | a | b | c | d | e | f |\n",
    "| отрицательные индексы|-6 |-5 |-4 |-3 |-2 |-1 |\n"
   ]
  },
  {
   "cell_type": "code",
   "execution_count": 38,
   "metadata": {},
   "outputs": [
    {
     "data": {
      "text/plain": [
       "'c'"
      ]
     },
     "execution_count": 38,
     "metadata": {},
     "output_type": "execute_result"
    }
   ],
   "source": [
    "'abcdef'[2]"
   ]
  },
  {
   "cell_type": "code",
   "execution_count": 39,
   "metadata": {},
   "outputs": [
    {
     "data": {
      "text/plain": [
       "'рок'"
      ]
     },
     "execution_count": 39,
     "metadata": {},
     "output_type": "execute_result"
    }
   ],
   "source": [
    "s = 'Строка'\n",
    "s[2] + s[3] + s[4]"
   ]
  },
  {
   "cell_type": "code",
   "execution_count": 40,
   "metadata": {
    "scrolled": true
   },
   "outputs": [
    {
     "data": {
      "text/plain": [
       "'кот'"
      ]
     },
     "execution_count": 40,
     "metadata": {},
     "output_type": "execute_result"
    }
   ],
   "source": [
    "s[-2] + s[3] + s[-5]"
   ]
  },
  {
   "cell_type": "markdown",
   "metadata": {},
   "source": [
    "### Срез `slice`\n",
    "\n",
    "Срез - это взятие подпоследовательности.\n",
    "Это общий подход, который работает для большинства последовательностей:\n",
    "- строк,\n",
    "- списков,\n",
    "- кортежей,\n",
    "- массивов,\n",
    "- таблиц,\n",
    "- и др.\n",
    "\n",
    "Синтаксис: `строка[start:stop:step]`. Берется подпоследовательность с индексами от `start` до `stop` (не включая) с шагом `step`.\n",
    "\n",
    "От индексации отличается наличием хотя бы одного `:`.\n",
    "Все три параметра `start`, `stop` и `step` можно опускать.\n",
    "\n",
    "Варианты использования:\n",
    "\n",
    "- `s[:]`, `s[::]`\n",
    "- `s[start:]`\n",
    "- `s[:stop]`\n",
    "- `s[start::step]`\n",
    "- `s[:stop:step]`\n",
    "- `s[::step]`\n",
    "\n"
   ]
  },
  {
   "cell_type": "markdown",
   "metadata": {},
   "source": [
    "| | | | | | | | | | | | | | | | | | | | | | | | | | | | | | | | | | | | | | | | | | | | | | | | | | | | | | | | |\n",
    "|-|-|-|-|-|-|-|-|-|-|-|-|-|-|-|-|-|-|-|-|-|-|-|-|-|-|-|-|-|-|-|-|-|-|-|-|-|-|-|-|-|-|-|-|-|-|-|-|-|-|-|-|-|-|-|-|\n",
    "|0|1|2|3|4|5|6|7|8|9|10|11|12|13|14|15|16|17|18|19|20|21|22|23|24|25|26|27|28|29|30|31|32|33|34|35|36|37|38|39|40|41|42|43|44|45|46|47|48|49|50|51|52|53|54|55|\n",
    "|С|ъ|е|ш|ь| |е|щ|ё| |э|т|и|х| |м|я|г|к|и|х| |ф|р|а|н|ц|у|з|с|к|и|х| |б|у|л|о|к|,| |д|а| |в|ы|п|е|й| |ж|е| |ч|а|ю|\n",
    "|-56|-55|-54|-53|-52|-51|-50|-49|-48|-47|-46|-45|-44|-43|-42|-41|-40|-39|-38|-37|-36|-35|-34|-33|-32|-31|-30|-29|-28|-27|-26|-25|-24|-23|-22|-21|-20|-19|-18|-17|-16|-15|-14|-13|-12|-11|-10|-9|-8|-7|-6|-5|-4|-3|-2|-1|"
   ]
  },
  {
   "cell_type": "markdown",
   "metadata": {},
   "source": [
    "| | | | | | | | | | | | | | | | | | | | | | | | | | | | | | | | | | | | | | | | | | | | | | | | | | | | | | | | |\n",
    "|-|-|-|-|-|-|-|-|-|-|-|-|-|-|-|-|-|-|-|-|-|-|-|-|-|-|-|-|-|-|-|-|-|-|-|-|-|-|-|-|-|-|-|-|-|-|-|-|-|-|-|-|-|-|-|-|\n",
    "|0|1|2|3|4|5|6|7|8|9|10|11|12|13|14|15|16|17|18|19|20|21|22|23|24|25|26|27|28|29|30|31|32|33|34|35|36|37|38|39|40|41|42|43|44|45|46|47|48|49|50|51|52|53|54|55|\n",
    "|С|ъ|е|ш|ь| |е|щ|ё| |э|т|и|х| |м|я|г|к|и|х| |ф|р|а|н|ц|у|з|с|к|и|х| |б|у|л|о|к|,| |д|а| |в|ы|п|е|й| |ж|е| |ч|а|ю|\n",
    "|-56|-55|-54|-53|-52|-51|-50|-49|-48|-47|-46|-45|-44|-43|-42|-41|-40|-39|-38|-37|-36|-35|-34|-33|-32|-31|-30|-29|-28|-27|-26|-25|-24|-23|-22|-21|-20|-19|-18|-17|-16|-15|-14|-13|-12|-11|-10|-9|-8|-7|-6|-5|-4|-3|-2|-1|"
   ]
  },
  {
   "cell_type": "code",
   "execution_count": 4,
   "metadata": {},
   "outputs": [],
   "source": [
    "s = 'Съешь ещё этих мягких французских булок, да выпей же чаю'"
   ]
  },
  {
   "cell_type": "code",
   "execution_count": 21,
   "metadata": {},
   "outputs": [
    {
     "data": {
      "text/plain": [
       "('Съешь ещё этих мягких французских булок, да выпей же чаю',\n",
       " 'Съешь ещё этих мягких французских булок, да выпей же чаю')"
      ]
     },
     "execution_count": 21,
     "metadata": {},
     "output_type": "execute_result"
    }
   ],
   "source": [
    "s[:], s[::]"
   ]
  },
  {
   "cell_type": "code",
   "execution_count": 22,
   "metadata": {},
   "outputs": [
    {
     "data": {
      "text/plain": [
       "('Съешь', 'ещё этих мягких французских булок, да выпей же чаю')"
      ]
     },
     "execution_count": 22,
     "metadata": {},
     "output_type": "execute_result"
    }
   ],
   "source": [
    "s[:5], s[6:]"
   ]
  },
  {
   "cell_type": "code",
   "execution_count": 31,
   "metadata": {},
   "outputs": [
    {
     "data": {
      "text/plain": [
       "'ъьщэхяифнзибо  п  ю'"
      ]
     },
     "execution_count": 31,
     "metadata": {},
     "output_type": "execute_result"
    }
   ],
   "source": [
    "s[1::3]"
   ]
  },
  {
   "cell_type": "code",
   "execution_count": 26,
   "metadata": {},
   "outputs": [
    {
     "data": {
      "text/plain": [
       "'Съешь'"
      ]
     },
     "execution_count": 26,
     "metadata": {},
     "output_type": "execute_result"
    }
   ],
   "source": [
    "s[-56:-51]"
   ]
  },
  {
   "cell_type": "code",
   "execution_count": 46,
   "metadata": {
    "scrolled": true
   },
   "outputs": [
    {
     "data": {
      "text/plain": [
       "'юач еж йепыв ад ,колуб хиксзуцнарф хикгям хитэ ёще ьшеъС'"
      ]
     },
     "execution_count": 46,
     "metadata": {},
     "output_type": "execute_result"
    }
   ],
   "source": [
    "s[::-1]"
   ]
  },
  {
   "cell_type": "markdown",
   "metadata": {},
   "source": [
    "## Задание\n",
    "\n",
    "Из строки `Съешь ещё этих мягких французских булок, да выпей же чаю` при помощи индексации и срезов собрать строку `французский еж Съел чулок`."
   ]
  },
  {
   "cell_type": "code",
   "execution_count": null,
   "metadata": {},
   "outputs": [],
   "source": []
  }
 ],
 "metadata": {
  "celltoolbar": "Необработанный формат ячейки",
  "kernelspec": {
   "display_name": "Python 3",
   "language": "python",
   "name": "python3"
  },
  "language_info": {
   "codemirror_mode": {
    "name": "ipython",
    "version": 3
   },
   "file_extension": ".py",
   "mimetype": "text/x-python",
   "name": "python",
   "nbconvert_exporter": "python",
   "pygments_lexer": "ipython3",
   "version": "3.8.10"
  }
 },
 "nbformat": 4,
 "nbformat_minor": 4
}
