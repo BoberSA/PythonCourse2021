{
 "cells": [
  {
   "cell_type": "markdown",
   "metadata": {},
   "source": [
    "# Семинар 4. Строки, списки, кортежи\n",
    "\n",
    "1. Строка\n",
    "\n",
    "    1.1. Методы строк\n",
    "   \n",
    "   \n",
    "2. Список и кортеж\n",
    "\n",
    "    2.1. Что такое список?\n",
    "    \n",
    "    2.2. Что такое кортеж?\n",
    "    \n",
    "    2.3. Генератор списка\n",
    "    \n",
    "    2.4. Операции со списками\n",
    "    \n",
    "        2.4.1. Операторы\n",
    "        \n",
    "        2.4.2. Индексирование\n",
    "        \n",
    "        2.4.3. Срезы\n",
    "        \n",
    "        2.4.4. Методы\n",
    "    "
   ]
  },
  {
   "cell_type": "markdown",
   "metadata": {},
   "source": [
    "## Методы строк\n",
    "\n",
    "У класса `str` имеется множество методов для обработки строк.\n",
    "\n",
    "Некоторые часто используемые методы:\n",
    "\n",
    "`len(s)` – вычислить длину строки\n",
    "\n",
    "`s.split(sep)` – разделить строку на части по разделителю `sep`\n",
    "\n",
    "`s.join(lst)` – объединить список строк через разделитель `s`\n",
    "\n",
    "`s.find(s2, start, end)` – найти подстроку в строке (от индекса `start` до `end`)\n",
    "\n",
    "`s.startswith(s2)` – начинается ли s со строки `s2`\n",
    "\n",
    "`s.endswith(s2)` – оканчивается ли s на строку `s2`\n",
    "\n",
    "`s.lower()` – перевести строку в нижний регистр\n",
    "\n",
    "`s.upper()` – перевести строку в верхний регистр\n",
    "\n",
    "`s.replace(s1, s2)` – заменить все вхождения подстроки `s1` в строке `s` на строку `s2`\n",
    "\n"
   ]
  },
  {
   "cell_type": "code",
   "execution_count": 11,
   "metadata": {},
   "outputs": [
    {
     "name": "stdout",
     "output_type": "stream",
     "text": [
      "__add__, __class__, __contains__, __delattr__, __dir__, __doc__, __eq__, __format__, __ge__, __getattribute__, __getitem__, __getnewargs__, __gt__, __hash__, __init__, __init_subclass__, __iter__, __le__, __len__, __lt__, __mod__, __mul__, __ne__, __new__, __reduce__, __reduce_ex__, __repr__, __rmod__, __rmul__, __setattr__, __sizeof__, __str__, __subclasshook__, capitalize, casefold, center, count, encode, endswith, expandtabs, find, format, format_map, index, isalnum, isalpha, isascii, isdecimal, isdigit, isidentifier, islower, isnumeric, isprintable, isspace, istitle, isupper, join, ljust, lower, lstrip, maketrans, partition, replace, rfind, rindex, rjust, rpartition, rsplit, rstrip, split, splitlines, startswith, strip, swapcase, title, translate, upper, zfill\n"
     ]
    }
   ],
   "source": [
    "# список всех методов\n",
    "print(*dir(str), sep=', ')"
   ]
  },
  {
   "cell_type": "code",
   "execution_count": 40,
   "metadata": {},
   "outputs": [],
   "source": [
    "s = \"Широкая электрификация южных губерний даст мощный толчок подъёму сельского хозяйства\""
   ]
  },
  {
   "cell_type": "code",
   "execution_count": 41,
   "metadata": {},
   "outputs": [
    {
     "data": {
      "text/plain": [
       "(84, 84)"
      ]
     },
     "execution_count": 41,
     "metadata": {},
     "output_type": "execute_result"
    }
   ],
   "source": [
    "# длина строки\n",
    "len(s), s.__len__()"
   ]
  },
  {
   "cell_type": "code",
   "execution_count": 4,
   "metadata": {},
   "outputs": [
    {
     "data": {
      "text/plain": [
       "['Широкая',\n",
       " 'электрификация',\n",
       " 'южных',\n",
       " 'губерний',\n",
       " 'даст',\n",
       " 'мощный',\n",
       " 'толчок',\n",
       " 'подъёму',\n",
       " 'сельского',\n",
       " 'хозяйства']"
      ]
     },
     "execution_count": 4,
     "metadata": {},
     "output_type": "execute_result"
    }
   ],
   "source": [
    "# разбить строку на части по разделителю\n",
    "# метод split возвращает список\n",
    "s.split()"
   ]
  },
  {
   "cell_type": "code",
   "execution_count": 5,
   "metadata": {},
   "outputs": [
    {
     "data": {
      "text/plain": [
       "'Широкая-электрификация-южных-губерний-даст-мощный-толчок-подъёму-сельского-хозяйства'"
      ]
     },
     "execution_count": 5,
     "metadata": {},
     "output_type": "execute_result"
    }
   ],
   "source": [
    "# объединить элементы списка в одну строку через разделитель\n",
    "'-'.join(s.split())"
   ]
  },
  {
   "cell_type": "code",
   "execution_count": 6,
   "metadata": {},
   "outputs": [
    {
     "data": {
      "text/plain": [
       "'широкая электрификация южных губерний даст мощный толчок подъёму сельского хозяйства'"
      ]
     },
     "execution_count": 6,
     "metadata": {},
     "output_type": "execute_result"
    }
   ],
   "source": [
    "s.lower()"
   ]
  },
  {
   "cell_type": "code",
   "execution_count": 7,
   "metadata": {},
   "outputs": [
    {
     "data": {
      "text/plain": [
       "(True, True)"
      ]
     },
     "execution_count": 7,
     "metadata": {},
     "output_type": "execute_result"
    }
   ],
   "source": [
    "fname = 'report_001.txt'\n",
    "fname.startswith('report'), fname.endswith('.txt')"
   ]
  },
  {
   "cell_type": "code",
   "execution_count": null,
   "metadata": {},
   "outputs": [],
   "source": []
  },
  {
   "cell_type": "markdown",
   "metadata": {},
   "source": [
    "## Задание\n",
    "\n",
    "Дана строка:\n",
    "\n",
    "```\n",
    "'results_n00_z000.bin\\nresults_n00_z010.bin\\nresults_n00_z020.bin\\nresults_n00_z030.bin\\nresults_n00_z040.bin\\nresults_n00_z050.bin\\nresults_n00_z060.bin\\nresults_n00_z070.bin\\nresults_n00_z080.bin\\nresults_n00_z090.bin\\nresults_n00_z100.bin\\nresults_n05_z000.bin\\nresults_n05_z010.bin\\nresults_n05_z020.bin\\nresults_n05_z030.bin\\nresults_n05_z040.bin\\nresults_n05_z050.bin\\nresults_n05_z060.bin\\nresults_n05_z070.bin\\nresults_n05_z080.bin\\nresults_n05_z090.bin\\nresults_n05_z100.bin\\nresults_n10_z000.bin\\nresults_n10_z010.bin\\nresults_n10_z020.bin\\nresults_n10_z030.bin\\nresults_n10_z040.bin\\nresults_n10_z050.bin\\nresults_n10_z060.bin\\nresults_n10_z070.bin\\nresults_n10_z080.bin\\nresults_n10_z090.bin\\nresults_n10_z100.bin\\nresults_n15_z000.bin\\nresults_n15_z010.bin\\nresults_n15_z020.bin\\nresults_n15_z030.bin\\nresults_n15_z040.bin\\nresults_n15_z050.bin\\nresults_n15_z060.bin\\nresults_n15_z070.bin\\nresults_n15_z080.bin\\nresults_n15_z090.bin\\nresults_n15_z100.bin\\n'\n",
    "```\n",
    "\n",
    "Строка содержит имена файлов, созданных по шаблону: `results_n00_z000.bin`, где после символов `n` и `z` расположены их значения.\n",
    "\n",
    "Необходимо вывести на экран все пары (n, z)."
   ]
  },
  {
   "cell_type": "code",
   "execution_count": null,
   "metadata": {},
   "outputs": [],
   "source": []
  },
  {
   "cell_type": "markdown",
   "metadata": {},
   "source": [
    "## Список `list`\n",
    "\n",
    "Список в Python - это изменяемая последовательность ссылок на объекты.\n",
    "\n",
    "Синтаксис объявления списка: `[ссылка1, выражение2, ...]`.\n",
    "\n",
    "Например:\n",
    "\n",
    "```\n",
    " int       str                        list\n",
    "[37, 1.71, 'abcdef', ['g', 'h', 'i'], [[1, 2], [3, 4], [5, 6]]]\n",
    "     float           list                      list\n",
    "```"
   ]
  },
  {
   "cell_type": "code",
   "execution_count": 8,
   "metadata": {
    "scrolled": true
   },
   "outputs": [
    {
     "data": {
      "text/plain": [
       "([], [])"
      ]
     },
     "execution_count": 8,
     "metadata": {},
     "output_type": "execute_result"
    }
   ],
   "source": [
    "# пустой список\n",
    "[], list()"
   ]
  },
  {
   "cell_type": "code",
   "execution_count": 39,
   "metadata": {
    "scrolled": true
   },
   "outputs": [
    {
     "data": {
      "text/plain": [
       "(list, [37, 1.71, 'abcdef', ['g', 'h', 'i'], [[1, 2], [3, 4], [5, 6]]])"
      ]
     },
     "execution_count": 39,
     "metadata": {},
     "output_type": "execute_result"
    }
   ],
   "source": [
    "# список\n",
    "lst = [37, 1.71, \n",
    "       'abcdef', \n",
    "       ['g', 'h', 'i'], \n",
    "       [[1, 2], [3, 4], [5, 6]]]\n",
    "type(lst), lst"
   ]
  },
  {
   "cell_type": "markdown",
   "metadata": {},
   "source": [
    "## Кортеж `tuple`\n",
    "\n",
    "Кортеж в Python - это константная последовательность ссылок на объекты.\n",
    "Константность кортежа означает, что сам кортеж изменить невозможно, но изменяемые объекты, ссылки на которые расположены в кортеже изменить, естественно, можно.\n",
    "\n",
    "Синтаксис объявления кортежа: `(ссылка1, выражение2, ...)`.\n",
    "\n",
    "Например:\n",
    "\n",
    "```\n",
    " int       str                        list\n",
    "(37, 1.71, 'abcdef', ['g', 'h', 'i'], [[1, 2], [3, 4], [5, 6]])\n",
    "     float           list                      list\n",
    "```\n",
    "\n",
    "Примечание:\n",
    "- `(5)` - просто число 5 в круглых скобках\n",
    "- `(5,)` - кортеж из одного элемента, числа 5\n"
   ]
  },
  {
   "cell_type": "code",
   "execution_count": 10,
   "metadata": {},
   "outputs": [
    {
     "data": {
      "text/plain": [
       "((), ())"
      ]
     },
     "execution_count": 10,
     "metadata": {},
     "output_type": "execute_result"
    }
   ],
   "source": [
    "# пустой кортеж\n",
    "(), tuple()"
   ]
  },
  {
   "cell_type": "code",
   "execution_count": 11,
   "metadata": {},
   "outputs": [
    {
     "data": {
      "text/plain": [
       "(5, (5,))"
      ]
     },
     "execution_count": 11,
     "metadata": {},
     "output_type": "execute_result"
    }
   ],
   "source": [
    "# не кортеж и кортеж\n",
    "(5), (5,)"
   ]
  },
  {
   "cell_type": "code",
   "execution_count": 12,
   "metadata": {},
   "outputs": [
    {
     "data": {
      "text/plain": [
       "(tuple, (37, 1.71, 'abcdef', ['g', 'h', 'i'], [[1, 2], [3, 4], [5, 6]]))"
      ]
     },
     "execution_count": 12,
     "metadata": {},
     "output_type": "execute_result"
    }
   ],
   "source": [
    "# кортеж\n",
    "tpl = (37, 1.71, 'abcdef', ['g', 'h', 'i'], [[1, 2], [3, 4], [5, 6]])\n",
    "type(tpl), tpl"
   ]
  },
  {
   "cell_type": "code",
   "execution_count": 13,
   "metadata": {},
   "outputs": [
    {
     "data": {
      "text/plain": [
       "([1, 2, 3], 'abc')"
      ]
     },
     "execution_count": 13,
     "metadata": {},
     "output_type": "execute_result"
    }
   ],
   "source": [
    "# кортеж из списка и строки\n",
    "lst = [1, 2, 3]\n",
    "s = 'abc'\n",
    "tpl = (lst, s)\n",
    "tpl"
   ]
  },
  {
   "cell_type": "code",
   "execution_count": 14,
   "metadata": {},
   "outputs": [
    {
     "data": {
      "text/plain": [
       "([1, 2, 3, 4], 'abc')"
      ]
     },
     "execution_count": 14,
     "metadata": {},
     "output_type": "execute_result"
    }
   ],
   "source": [
    "# изменение списка, ссылка на который содержится в кортеже\n",
    "# запуская ячейку несколько раз можно наблюдать как растет список!\n",
    "lst += [4]\n",
    "tpl"
   ]
  },
  {
   "cell_type": "markdown",
   "metadata": {},
   "source": [
    "## Генератор списка `list comprehension`\n",
    "\n",
    "Синтаксис: \n",
    "\n",
    "- `[выражение(x) for x in последовательность]` - сгенерировать список\n",
    "- `(выражение(x) for x in последовательность)` - создать генератор\n",
    "\n",
    "Вложенные генераторы:\n",
    "\n",
    "- `[[выражение(row, col) for col in последовательность1] for row in последовательность2]`\n",
    "- `((выражение(row, col) for col in последовательность1) for row in последовательность2)`\n"
   ]
  },
  {
   "cell_type": "code",
   "execution_count": 15,
   "metadata": {},
   "outputs": [
    {
     "data": {
      "text/plain": [
       "[0, 1, 4, 9, 16, 25, 36, 49, 64, 81]"
      ]
     },
     "execution_count": 15,
     "metadata": {},
     "output_type": "execute_result"
    }
   ],
   "source": [
    "[x**2 for x in range(10)]"
   ]
  },
  {
   "cell_type": "code",
   "execution_count": 16,
   "metadata": {},
   "outputs": [
    {
     "data": {
      "text/plain": [
       "<generator object <genexpr> at 0x00000225A5F8F120>"
      ]
     },
     "execution_count": 16,
     "metadata": {},
     "output_type": "execute_result"
    }
   ],
   "source": [
    "(x**2 for x in range(10))"
   ]
  },
  {
   "cell_type": "code",
   "execution_count": 17,
   "metadata": {},
   "outputs": [
    {
     "data": {
      "text/plain": [
       "(0, 1, 4, 9, 16, 25, 36, 49, 64, 81)"
      ]
     },
     "execution_count": 17,
     "metadata": {},
     "output_type": "execute_result"
    }
   ],
   "source": [
    "tuple(x**2 for x in range(10))"
   ]
  },
  {
   "cell_type": "code",
   "execution_count": 6,
   "metadata": {},
   "outputs": [
    {
     "data": {
      "text/plain": [
       "(1, 2, 3, 4, 5, 6, 7, 8, 9, 10)"
      ]
     },
     "execution_count": 6,
     "metadata": {},
     "output_type": "execute_result"
    }
   ],
   "source": [
    "k = 0\n",
    "tuple((k:=k+1) for x in range(10))"
   ]
  },
  {
   "cell_type": "code",
   "execution_count": 18,
   "metadata": {},
   "outputs": [
    {
     "data": {
      "text/plain": [
       "[1.0,\n",
       " 0.8660254037844387,\n",
       " 0.5000000000000001,\n",
       " 6.123233995736766e-17,\n",
       " -0.4999999999999998,\n",
       " -0.8660254037844387,\n",
       " -1.0,\n",
       " -0.8660254037844388,\n",
       " -0.5000000000000004,\n",
       " -1.8369701987210297e-16,\n",
       " 0.5000000000000001,\n",
       " 0.8660254037844384]"
      ]
     },
     "execution_count": 18,
     "metadata": {},
     "output_type": "execute_result"
    }
   ],
   "source": [
    "from math import cos, pi\n",
    "[cos(pi*i/6) for i in range(12)]"
   ]
  },
  {
   "cell_type": "code",
   "execution_count": 19,
   "metadata": {},
   "outputs": [
    {
     "name": "stdout",
     "output_type": "stream",
     "text": [
      "P\n",
      " y\n",
      "  t\n",
      "   h\n",
      "    o\n",
      "     n\n"
     ]
    }
   ],
   "source": [
    "# вывод слова Python лесенкой\n",
    "print(*(' '*i + c for i, c in enumerate('Python')), sep='\\n')"
   ]
  },
  {
   "cell_type": "markdown",
   "metadata": {},
   "source": [
    "## Операторы\n",
    "\n",
    "Синтаксис: \n",
    "\n",
    "- `L1 + L2` - склеивание списков\n",
    "- `L * i` - размножение списка (аналогично строкам)\n",
    "- `L1 += L2` - изменение списка L1 путем приклеивания к нему L2\n",
    "- `in, not in` - операторы проверки на содержание элемента в списке"
   ]
  },
  {
   "cell_type": "code",
   "execution_count": 20,
   "metadata": {},
   "outputs": [
    {
     "data": {
      "text/plain": [
       "['a', 1, 2, 3, 4, 'b']"
      ]
     },
     "execution_count": 20,
     "metadata": {},
     "output_type": "execute_result"
    }
   ],
   "source": [
    "# склеивание списков\n",
    "['a', 1, 2] + [3, 4, 'b']"
   ]
  },
  {
   "cell_type": "code",
   "execution_count": 21,
   "metadata": {},
   "outputs": [
    {
     "data": {
      "text/plain": [
       "[5, 6, 5, 6, 5, 6]"
      ]
     },
     "execution_count": 21,
     "metadata": {},
     "output_type": "execute_result"
    }
   ],
   "source": [
    "# размножение списка\n",
    "[5, 6] * 3 "
   ]
  },
  {
   "cell_type": "code",
   "execution_count": 22,
   "metadata": {},
   "outputs": [
    {
     "data": {
      "text/plain": [
       "['a', 'b', 'c', 'd', 'e']"
      ]
     },
     "execution_count": 22,
     "metadata": {},
     "output_type": "execute_result"
    }
   ],
   "source": [
    "# список - изменяемый объект\n",
    "lst = ['a', 'b', 'c']\n",
    "lst += ['d', 'e']\n",
    "lst"
   ]
  },
  {
   "cell_type": "markdown",
   "metadata": {},
   "source": [
    "## Индексирование\n",
    "\n",
    "Получение элемента списка/кортежа по целочисленному индексу.\n",
    "\n",
    "Синтаксис: `L[i]`, где `i` - индекс (может быть отрицательным)"
   ]
  },
  {
   "cell_type": "code",
   "execution_count": 23,
   "metadata": {},
   "outputs": [],
   "source": [
    "lst = [37, 38., 'pi', ('t', 'u')]"
   ]
  },
  {
   "cell_type": "code",
   "execution_count": 24,
   "metadata": {
    "scrolled": true
   },
   "outputs": [
    {
     "data": {
      "text/plain": [
       "(38.0, ('t', 'u'))"
      ]
     },
     "execution_count": 24,
     "metadata": {},
     "output_type": "execute_result"
    }
   ],
   "source": [
    "lst[1], lst[-1]"
   ]
  },
  {
   "cell_type": "code",
   "execution_count": 25,
   "metadata": {},
   "outputs": [
    {
     "data": {
      "text/plain": [
       "[37, 38.0, 'pie', ('t', 'u')]"
      ]
     },
     "execution_count": 25,
     "metadata": {},
     "output_type": "execute_result"
    }
   ],
   "source": [
    "# изменение списка\n",
    "lst[2] = 'pie'\n",
    "lst"
   ]
  },
  {
   "cell_type": "code",
   "execution_count": 26,
   "metadata": {},
   "outputs": [
    {
     "data": {
      "text/plain": [
       "'t'"
      ]
     },
     "execution_count": 26,
     "metadata": {},
     "output_type": "execute_result"
    }
   ],
   "source": [
    "# элемент кортежа, расположенного в списке\n",
    "lst[-1][0]"
   ]
  },
  {
   "cell_type": "markdown",
   "metadata": {},
   "source": [
    "## Срез `slice`\n",
    "\n",
    "Срез - это взятие подпоследовательности.\n",
    "Срез списка работает аналогично срезу строк для получения подпоследовательности, но также позволяет изменять часть списка, определенную срезом.\n",
    "\n",
    "Синтаксис: `список[start:stop:step]`. Берется подпоследовательность с индексами от `start` до `stop` (не включая) с шагом `step`."
   ]
  },
  {
   "cell_type": "code",
   "execution_count": 42,
   "metadata": {},
   "outputs": [
    {
     "data": {
      "text/plain": [
       "([0, 1, 2, 3, 4, 5, 6], (0, 1, 2, 3, 4, 5, 6))"
      ]
     },
     "execution_count": 42,
     "metadata": {},
     "output_type": "execute_result"
    }
   ],
   "source": [
    "lst = list(range(7))\n",
    "tpl = tuple(lst)\n",
    "lst, tpl"
   ]
  },
  {
   "cell_type": "code",
   "execution_count": 43,
   "metadata": {},
   "outputs": [
    {
     "data": {
      "text/plain": [
       "([2, 3, 4], (2, 3, 4))"
      ]
     },
     "execution_count": 43,
     "metadata": {},
     "output_type": "execute_result"
    }
   ],
   "source": [
    "lst[2:5], tpl[2:5]"
   ]
  },
  {
   "cell_type": "code",
   "execution_count": 44,
   "metadata": {},
   "outputs": [
    {
     "data": {
      "text/plain": [
       "([2, 3, 4], (2, 3, 4))"
      ]
     },
     "execution_count": 44,
     "metadata": {},
     "output_type": "execute_result"
    }
   ],
   "source": [
    "lst[-5:-2], tpl[-5:-2]"
   ]
  },
  {
   "cell_type": "code",
   "execution_count": 49,
   "metadata": {},
   "outputs": [
    {
     "data": {
      "text/plain": [
       "[0, 1, 0, 3, 0, 5, 0]"
      ]
     },
     "execution_count": 49,
     "metadata": {},
     "output_type": "execute_result"
    }
   ],
   "source": [
    "# изменение списка при помощи среза\n",
    "lst[::2] = [0]*4\n",
    "lst"
   ]
  },
  {
   "cell_type": "markdown",
   "metadata": {},
   "source": [
    "## Методы списка\n",
    "\n",
    "`L.append(obj)` – добавить в список объект\n",
    "\n",
    "`L.extend(L1)` – расширить список элементами другого списка\n",
    "\n",
    "`L.insert(i, obj)` – вставить объект в список на позицию `i`\n",
    "\n",
    "`L.remove(obj)` – удалить первый встретившийся объект `obj` из списка\n",
    "\n",
    "`L.pop(i)` – достать `i`-й объект из списка\n",
    "\n",
    "`L.index(obj, start, end)` – найти индекс объекта в списка (между `start` и `end`)\n",
    "\n",
    "`L.count(obj)` – подсчитать количество указанных объектов в списке\n",
    "\n",
    "`L.sort(key, reverse)` – отсортировать список\n",
    "\n",
    "`L.copy()` – скопировать список\n"
   ]
  },
  {
   "cell_type": "code",
   "execution_count": 31,
   "metadata": {
    "scrolled": true
   },
   "outputs": [
    {
     "data": {
      "text/plain": [
       "['1', '2', '3', '4', '5', '6', '7']"
      ]
     },
     "execution_count": 31,
     "metadata": {},
     "output_type": "execute_result"
    }
   ],
   "source": [
    "(lst := list('1234567'))"
   ]
  },
  {
   "cell_type": "code",
   "execution_count": 32,
   "metadata": {},
   "outputs": [
    {
     "data": {
      "text/plain": [
       "['1', '2', '3', '4', '5', '6', '7', '8']"
      ]
     },
     "execution_count": 32,
     "metadata": {},
     "output_type": "execute_result"
    }
   ],
   "source": [
    "# добавить строку в конец списка\n",
    "lst.append('8')\n",
    "lst"
   ]
  },
  {
   "cell_type": "code",
   "execution_count": 33,
   "metadata": {},
   "outputs": [
    {
     "data": {
      "text/plain": [
       "['1', '2', '3', '4', '5', '6', '7', '8', ('9', '10')]"
      ]
     },
     "execution_count": 33,
     "metadata": {},
     "output_type": "execute_result"
    }
   ],
   "source": [
    "# добавить кортеж в конец списка\n",
    "lst.append(('9', '10'))\n",
    "lst"
   ]
  },
  {
   "cell_type": "code",
   "execution_count": 34,
   "metadata": {},
   "outputs": [
    {
     "data": {
      "text/plain": [
       "['1', '2', '3', '4', '5', '6', '7', '8', ('9', '10'), 11, 12]"
      ]
     },
     "execution_count": 34,
     "metadata": {},
     "output_type": "execute_result"
    }
   ],
   "source": [
    "# приклеить к списку другой список\n",
    "lst.extend([11, 12])\n",
    "lst"
   ]
  },
  {
   "cell_type": "code",
   "execution_count": 35,
   "metadata": {},
   "outputs": [
    {
     "data": {
      "text/plain": [
       "['1', '2', '3', '4', '5', '5', '6', '7', '8', ('9', '10'), 11, 12]"
      ]
     },
     "execution_count": 35,
     "metadata": {},
     "output_type": "execute_result"
    }
   ],
   "source": [
    "# вставить в список на место с индексом 4 элемент '5'\n",
    "lst.insert(4, '5')\n",
    "lst"
   ]
  },
  {
   "cell_type": "code",
   "execution_count": 36,
   "metadata": {},
   "outputs": [
    {
     "data": {
      "text/plain": [
       "['1', '2', '3', '4', '5', '6', '7', '8', ('9', '10'), 11, 12]"
      ]
     },
     "execution_count": 36,
     "metadata": {},
     "output_type": "execute_result"
    }
   ],
   "source": [
    "# удалить из списка первый элемент '5'\n",
    "lst.remove('5')\n",
    "lst"
   ]
  },
  {
   "cell_type": "code",
   "execution_count": 37,
   "metadata": {},
   "outputs": [
    {
     "data": {
      "text/plain": [
       "'2'"
      ]
     },
     "execution_count": 37,
     "metadata": {},
     "output_type": "execute_result"
    }
   ],
   "source": [
    "# достать элемент с индексом 1\n",
    "lst.pop(1)"
   ]
  },
  {
   "cell_type": "code",
   "execution_count": 38,
   "metadata": {},
   "outputs": [
    {
     "data": {
      "text/plain": [
       "['1', '3', '4', '5', '6', '7', '8', ('9', '10'), 11, 12]"
      ]
     },
     "execution_count": 38,
     "metadata": {},
     "output_type": "execute_result"
    }
   ],
   "source": [
    "lst"
   ]
  },
  {
   "cell_type": "markdown",
   "metadata": {},
   "source": [
    "## Задание\n",
    "\n",
    "Для [текста](http://www.benjamin.ru/humour/ivanov/0020.html) cоздать список из кортежей и вывести его на экран.\n",
    "\n",
    "Формат кортежа:\n",
    "`(слово, длина слова, количество гласных букв)`\n",
    "\n"
   ]
  },
  {
   "cell_type": "code",
   "execution_count": null,
   "metadata": {},
   "outputs": [],
   "source": []
  }
 ],
 "metadata": {
  "kernelspec": {
   "display_name": "Python 3",
   "language": "python",
   "name": "python3"
  },
  "language_info": {
   "codemirror_mode": {
    "name": "ipython",
    "version": 3
   },
   "file_extension": ".py",
   "mimetype": "text/x-python",
   "name": "python",
   "nbconvert_exporter": "python",
   "pygments_lexer": "ipython3",
   "version": "3.8.10"
  }
 },
 "nbformat": 4,
 "nbformat_minor": 4
}
