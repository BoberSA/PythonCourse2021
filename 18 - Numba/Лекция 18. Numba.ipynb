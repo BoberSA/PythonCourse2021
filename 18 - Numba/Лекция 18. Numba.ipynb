{
 "cells": [
  {
   "cell_type": "markdown",
   "id": "b4a823a1",
   "metadata": {},
   "source": [
    "# Лекция 18. Numba"
   ]
  },
  {
   "cell_type": "markdown",
   "id": "4a96aa7e",
   "metadata": {},
   "source": [
    "## [Numba](http://numba.pydata.org/)\n",
    "\n",
    "`Numba` is an open source JIT compiler that translates a subset of `Python` and `NumPy` code into fast machine code\n",
    "\n",
    "`Numba` - это:\n",
    "- компиляция во время выполнения, just-in-time compilation (JIT)\n",
    "- компиляция для CPU и GPU\n",
    "- автоматическое распараллеливание [OpenMP](https://en.wikipedia.org/wiki/OpenMP) and [SIMD](https://en.wikipedia.org/wiki/SIMD)\n",
    "- кросс-платформенность\n",
    "- кэширование компилированного кода\n",
    "- компиляция заранее, ahead-of-time compilation (AOT)"
   ]
  },
  {
   "cell_type": "markdown",
   "id": "1284b709",
   "metadata": {},
   "source": [
    "### Как работает `Numba`:\n",
    "\n",
    "функция `Python` $\\rightarrow$ первый вызов функции $\\rightarrow$ подстановка типов аргументов при первом вызове $\\rightarrow$ промежуточное представление (IR) $\\rightarrow$ компилятор [LLVM](https://llvm.org/) или компилятор [NVCC](https://en.wikipedia.org/wiki/Nvidia_CUDA_Compiler) $\\rightarrow$ компилированная функция (машинный код CPU/GPU)"
   ]
  },
  {
   "cell_type": "markdown",
   "id": "b60d06cf",
   "metadata": {},
   "source": [
    "### Что мы будем использовать из модуля `Numba`:\n",
    "\n",
    "- `@jit, @njit` - для компиляции основных функций\n",
    "- `prange` - для распараллеливания"
   ]
  },
  {
   "cell_type": "markdown",
   "id": "7463acc1",
   "metadata": {},
   "source": [
    "### Использование декоратора `@jit`\n",
    "\n",
    "\n",
    "Замечание:\n",
    "\n",
    "`njit` $\\equiv$ `jit(nopython=True)`\n",
    "\n",
    "Декоратор без параметров\n",
    "```\n",
    "@jit\n",
    "def my_func():\n",
    "    # тело функции\n",
    "```\n",
    "\n",
    "Декоратор с параметрами\n",
    "```\n",
    "@jit(signature, nopython=True, cache=True, fastmath=True, boundscheck=False, ...)\n",
    "def my_func():\n",
    "    # тело функции\n",
    "```\n",
    "\n",
    "- `signature` - сигнатура или объявление функции, которое содержит тип возращаемого значения и типы всех аргументов\n",
    "\n",
    "- `nopython = True` - компилировать в режиме nopython (этот режим мы будем использовать)\n",
    "\n",
    "- `cache = True` - кэшировать компилированный код (работает только для функций, код которых записан в `*.py` файле)\n",
    "\n",
    "- `fastmath = True` - оптимизировать некоторые математические операции; может ускорить вычисления, но некоторые операции могут выполняться с повышенной погрешностью\n",
    "\n",
    "- `boundscheck = False` - отключить проверку выхода за границы массива (можно применять, если грамотно написаны циклы, либо использованы операции `Numpy`)\n"
   ]
  },
  {
   "cell_type": "markdown",
   "id": "9de2f86e",
   "metadata": {},
   "source": [
    "### Как писать код, чтобы получить быструю функцию с применением `jit`?\n",
    "\n",
    "Простые правила, т.е. так сработает. Можно и по-другому, но это сложнее.\n",
    "\n",
    "- Параметры `jit`\n",
    " - `nopython = True`, либо использование `njit`\n",
    "\n",
    "\n",
    "- Типы аргументов:\n",
    "    - числовые константы, True/False, None\n",
    "    - массивы `Numpy`\n",
    "    - именованные аргументы со значением по-умолчанию \n",
    "    - callback-функции (на данный момент `Numba` поддерживает только в экспериментальном режиме)\n",
    "    \n",
    "    \n",
    "- Возвращаемое значение:\n",
    "    - числовые константы, True/False\n",
    "    - массивы `Numpy`\n",
    "    - кортежи\n",
    "    \n",
    "    \n",
    "- Тело функции:\n",
    "    - арифметические выражения\n",
    "    - ветвления\n",
    "    - циклы `Python`\n",
    "    - поддерживаемые функции и выражения `Numpy`\n",
    "    - вызовы других `jit`-функций"
   ]
  },
  {
   "cell_type": "code",
   "execution_count": 1,
   "id": "59ba1739",
   "metadata": {},
   "outputs": [
    {
     "name": "stdout",
     "output_type": "stream",
     "text": [
      "Requirement already satisfied: numpy in c:\\users\\stasb\\anaconda3\\envs\\p38\\lib\\site-packages (1.20.2)\n",
      "Requirement already satisfied: matplotlib in c:\\users\\stasb\\appdata\\roaming\\python\\python38\\site-packages (3.4.1)\n",
      "Requirement already satisfied: numba in c:\\users\\stasb\\appdata\\roaming\\python\\python38\\site-packages (0.53.1)\n",
      "Requirement already satisfied: cycler>=0.10 in c:\\users\\stasb\\appdata\\roaming\\python\\python38\\site-packages\\cycler-0.10.0-py3.8.egg (from matplotlib) (0.10.0)\n",
      "Requirement already satisfied: kiwisolver>=1.0.1 in c:\\users\\stasb\\appdata\\roaming\\python\\python38\\site-packages\\kiwisolver-1.3.1-py3.8-win-amd64.egg (from matplotlib) (1.3.1)\n",
      "Requirement already satisfied: python-dateutil>=2.7 in c:\\users\\stasb\\appdata\\roaming\\python\\python38\\site-packages\\python_dateutil-2.8.1-py3.8.egg (from matplotlib) (2.8.1)\n",
      "Requirement already satisfied: pillow>=6.2.0 in c:\\users\\stasb\\appdata\\roaming\\python\\python38\\site-packages\\pillow-8.0.1-py3.8-win-amd64.egg (from matplotlib) (8.0.1)\n",
      "Requirement already satisfied: pyparsing>=2.2.1 in c:\\users\\stasb\\appdata\\roaming\\python\\python38\\site-packages\\pyparsing-3.0.0b1-py3.8.egg (from matplotlib) (3.0.0b1)\n",
      "Requirement already satisfied: six in c:\\users\\stasb\\appdata\\roaming\\python\\python38\\site-packages\\six-1.15.0-py3.8.egg (from cycler>=0.10->matplotlib) (1.15.0)\n",
      "Requirement already satisfied: setuptools in c:\\users\\stasb\\anaconda3\\envs\\p38\\lib\\site-packages (from numba) (52.0.0.post20210125)\n",
      "Requirement already satisfied: llvmlite<0.37,>=0.36.0rc1 in c:\\users\\stasb\\anaconda3\\envs\\p38\\lib\\site-packages (from numba) (0.36.0)\n"
     ]
    }
   ],
   "source": [
    "!pip install numpy matplotlib numba"
   ]
  },
  {
   "cell_type": "code",
   "execution_count": 2,
   "id": "82ae4a6f",
   "metadata": {},
   "outputs": [],
   "source": [
    "from timeit import timeit\n",
    "import numpy as np\n",
    "import matplotlib.pyplot as plt\n",
    "from numba import jit, njit, prange"
   ]
  },
  {
   "cell_type": "markdown",
   "id": "71b7fa65",
   "metadata": {},
   "source": [
    "### Построение изображения [множества Мандельброта](https://ru.wikipedia.org/wiki/Множество_Мандельброта)\n",
    "\n",
    "Множество Мандельброта - множество точек $c$ комплексной плоскости, для которых рекуррентное соотношение $z_{n+1} = z_n^2 + c$ при $z_0 = 0$ задает ограниченную последовательность.\n",
    "\n",
    "Цель расчета: построить изображение $16000 x 8000$ пикселей при максимальном количестве итераций рекуррентной формулы в $1000$"
   ]
  },
  {
   "cell_type": "code",
   "execution_count": null,
   "id": "866642c9",
   "metadata": {},
   "outputs": [],
   "source": []
  },
  {
   "cell_type": "markdown",
   "id": "834c73b1",
   "metadata": {},
   "source": [
    "### Прототип"
   ]
  },
  {
   "cell_type": "code",
   "execution_count": null,
   "id": "6457f25f",
   "metadata": {},
   "outputs": [],
   "source": []
  },
  {
   "cell_type": "markdown",
   "id": "5e218dc0",
   "metadata": {},
   "source": [
    "### Компиляция кода для одного ядра\n",
    "\n",
    "- Использовать декоратор `@jit(nopython = True)` или `@njit`\n",
    "\n",
    "- Переписать код для работы с массивами вместо списков"
   ]
  },
  {
   "cell_type": "code",
   "execution_count": null,
   "id": "8bf1c408",
   "metadata": {},
   "outputs": [],
   "source": []
  },
  {
   "cell_type": "markdown",
   "id": "63dfa003",
   "metadata": {},
   "source": [
    "### Распараллеливание в Numba\n",
    "\n",
    "- Декоратор `jit`/`njit` должен быть снабжен аргументом `parallel = True`\n",
    "\n",
    "- Во внешнем цикле вместо `range` необходимо использовать `prange`"
   ]
  },
  {
   "cell_type": "code",
   "execution_count": null,
   "id": "fde8f641",
   "metadata": {},
   "outputs": [],
   "source": []
  },
  {
   "cell_type": "code",
   "execution_count": null,
   "id": "bae954bc",
   "metadata": {},
   "outputs": [],
   "source": []
  }
 ],
 "metadata": {
  "kernelspec": {
   "display_name": "Python 3",
   "language": "python",
   "name": "python3"
  },
  "language_info": {
   "codemirror_mode": {
    "name": "ipython",
    "version": 3
   },
   "file_extension": ".py",
   "mimetype": "text/x-python",
   "name": "python",
   "nbconvert_exporter": "python",
   "pygments_lexer": "ipython3",
   "version": "3.8.10"
  }
 },
 "nbformat": 4,
 "nbformat_minor": 5
}
