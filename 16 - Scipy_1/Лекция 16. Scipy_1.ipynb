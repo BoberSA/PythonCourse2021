{
 "cells": [
  {
   "cell_type": "markdown",
   "metadata": {},
   "source": [
    "# Лекция 16. Scipy_1\n",
    "\n",
    "1. **`scipy.integrate`**\n",
    "    - интегрирование скалярных функций\n",
    "    - **интегрирование ОДУ**\n",
    "2. `scipy.interpolate`\n",
    "3. `scipy.optimize`\n",
    "4. ...\n",
    "\n",
    "https://docs.scipy.org/doc/scipy/reference/"
   ]
  },
  {
   "cell_type": "code",
   "execution_count": 1,
   "metadata": {},
   "outputs": [
    {
     "name": "stdout",
     "output_type": "stream",
     "text": [
      "Requirement already satisfied: scipy in c:\\users\\stasb\\anaconda3\\envs\\p38\\lib\\site-packages (1.5.2)\n",
      "Requirement already satisfied: numpy>=1.14.5 in c:\\users\\stasb\\appdata\\roaming\\python\\python38\\site-packages (from scipy) (1.20.2)\n"
     ]
    }
   ],
   "source": [
    "!pip install scipy"
   ]
  },
  {
   "cell_type": "code",
   "execution_count": 2,
   "metadata": {},
   "outputs": [],
   "source": [
    "import numpy as np\n",
    "import matplotlib.pyplot as plt"
   ]
  },
  {
   "cell_type": "markdown",
   "metadata": {},
   "source": [
    "## Интегрирование ОДУ"
   ]
  },
  {
   "cell_type": "code",
   "execution_count": 3,
   "metadata": {},
   "outputs": [],
   "source": [
    "from scipy.integrate import ode, solve_ivp"
   ]
  },
  {
   "cell_type": "markdown",
   "metadata": {},
   "source": [
    "## [Математический маятник](https://ru.wikipedia.org/wiki/Математический_маятник)\n",
    "\n",
    "Уравнение движения:\n",
    "\n",
    "$\\ddot \\theta + \\frac{g}{L}\\sin(\\theta) = 0$\n",
    "\n",
    "Без ограничения общности можно рассмотреть безразмерное уравнение:\n",
    "\n",
    "$\\ddot \\theta + \\sin(\\theta) = 0$\n",
    "\n",
    "ОДУ порядка 2 и более можно свести к системе ОДУ первого порядка:\n",
    "\n",
    "$\\dot \\theta = \\omega$\n",
    "\n",
    "$\\dot \\omega = - \\sin(\\theta)$\n",
    "\n",
    "Слева расположены первые производные, а справа - содержимое модели движения. Такое представление является стандартным, поэтому для анализа модели реализуют **правую часть** системы ОДУ как функцию."
   ]
  },
  {
   "cell_type": "code",
   "execution_count": 4,
   "metadata": {},
   "outputs": [],
   "source": [
    "from math import sin\n",
    "\n",
    "def eq(t, s):\n",
    "    '''\n",
    "    Уравнения движения математического маятника\n",
    "    \n",
    "    Parameters\n",
    "    ----------\n",
    "    \n",
    "    t: scalar\n",
    "        time\n",
    "        \n",
    "    s: np.array\n",
    "        вектор состояния [theta, omega]\n",
    "        \n",
    "    Return\n",
    "    ------\n",
    "    \n",
    "    ds: np.array\n",
    "        производная вектора состояния по времени\n",
    "    '''\n",
    "    ds = np.empty_like(s)\n",
    "    theta, omega = s\n",
    "    ds[0] = omega\n",
    "    ds[1] = -sin(theta)\n",
    "    return ds"
   ]
  },
  {
   "cell_type": "markdown",
   "metadata": {},
   "source": [
    "### Задача Коши\n",
    "\n",
    "Задача с начальными условиями, **i**nitial **v**alue **p**roblem"
   ]
  },
  {
   "cell_type": "markdown",
   "metadata": {},
   "source": [
    "### Решение при помощи `solve_ivp`"
   ]
  },
  {
   "cell_type": "code",
   "execution_count": 5,
   "metadata": {},
   "outputs": [],
   "source": [
    "t0 = 0\n",
    "s0 = np.array([0, 0.1])\n",
    "t1 = 2*np.pi\n",
    "\n",
    "sol = solve_ivp(eq, # правая часть СОДУ \n",
    "                [t0, t1],\n",
    "                s0, # начальный вектор состояния\n",
    "                method='DOP853', # метод численного интегрирования\n",
    "                max_step=0.1, # максимальный шаг по времени\n",
    "                rtol=1e-12, # относительная погрешность\n",
    "                atol=1e-12  # абсолютная погрешность\n",
    "               )"
   ]
  },
  {
   "cell_type": "code",
   "execution_count": 6,
   "metadata": {},
   "outputs": [
    {
     "name": "stdout",
     "output_type": "stream",
     "text": [
      "8.85 ms ± 163 µs per loop (mean ± std. dev. of 7 runs, 100 loops each)\n"
     ]
    }
   ],
   "source": [
    "%%timeit\n",
    "sol = solve_ivp(eq, # правая часть СОДУ \n",
    "                [t0, t1],\n",
    "                s0, # начальный вектор состояния\n",
    "                method='DOP853', # метод численного интегрирования\n",
    "                max_step=0.1, # максимальный шаг по времени\n",
    "                rtol=1e-12, # относительная погрешность\n",
    "                atol=1e-12  # абсолютная погрешность\n",
    "               )"
   ]
  },
  {
   "cell_type": "code",
   "execution_count": 7,
   "metadata": {},
   "outputs": [
    {
     "data": {
      "text/plain": [
       "(2, 65)"
      ]
     },
     "execution_count": 7,
     "metadata": {},
     "output_type": "execute_result"
    }
   ],
   "source": [
    "sol.y.shape"
   ]
  },
  {
   "cell_type": "code",
   "execution_count": 8,
   "metadata": {},
   "outputs": [
    {
     "data": {
      "text/plain": [
       "(-0.1100357086784088,\n",
       " 0.10992977895705743,\n",
       " -0.10998145426541726,\n",
       " 0.10999911686978178)"
      ]
     },
     "execution_count": 8,
     "metadata": {},
     "output_type": "execute_result"
    },
    {
     "data": {
      "image/png": "[encoded data removed]",
      "text/plain": [
       "<Figure size 432x288 with 1 Axes>"
      ]
     },
     "metadata": {
      "needs_background": "light"
     },
     "output_type": "display_data"
    }
   ],
   "source": [
    "plt.plot(*sol.y)\n",
    "plt.plot(*s0, 'ok')\n",
    "plt.title('Фазовый портрет')\n",
    "plt.xlabel(r'$\\theta$')\n",
    "plt.ylabel(r'$\\omega$')\n",
    "plt.axis('equal')"
   ]
  },
  {
   "cell_type": "markdown",
   "metadata": {},
   "source": [
    "### Векторизованный вариант"
   ]
  },
  {
   "cell_type": "code",
   "execution_count": 9,
   "metadata": {},
   "outputs": [],
   "source": [
    "def eqv(t, s):\n",
    "    '''\n",
    "    Уравнения движения математического маятника.\n",
    "    Векторизованный вариант.\n",
    "    \n",
    "    Parameters\n",
    "    ----------\n",
    "    \n",
    "    t: scalar\n",
    "        time\n",
    "        \n",
    "    s: np.array (n*2,)\n",
    "        вектор состояния [theta0, omega0, theta1, omega1, ...]\n",
    "        \n",
    "    Return\n",
    "    ------\n",
    "    \n",
    "    ds: np.array\n",
    "        производная вектора состояния по времени\n",
    "    '''\n",
    "    ds = np.empty_like(s)\n",
    "    theta, omega = s[::2], s[1::2]\n",
    "    ds[::2] = omega\n",
    "    ds[1::2] = -np.sin(theta)\n",
    "    return ds"
   ]
  },
  {
   "cell_type": "code",
   "execution_count": 10,
   "metadata": {},
   "outputs": [],
   "source": [
    "t0 = 0\n",
    "s0 = np.array([1, 0, 2, 0, np.pi-0.1, 0])\n",
    "t1 = 2*np.pi\n",
    "\n",
    "solv = solve_ivp(eqv, # правая часть СОДУ \n",
    "                [t0, t1],\n",
    "                s0, # начальный вектор состояния\n",
    "                method='DOP853', # метод численного интегрирования\n",
    "                max_step=0.1, # максимальный шаг по времени\n",
    "                rtol=1e-12, # относительная погрешность\n",
    "                atol=1e-12  # абсолютная погрешность\n",
    "                )"
   ]
  },
  {
   "cell_type": "code",
   "execution_count": 11,
   "metadata": {},
   "outputs": [
    {
     "data": {
      "text/plain": [
       "(6, 65)"
      ]
     },
     "execution_count": 11,
     "metadata": {},
     "output_type": "execute_result"
    }
   ],
   "source": [
    "solv.y.shape"
   ]
  },
  {
   "cell_type": "code",
   "execution_count": 12,
   "metadata": {},
   "outputs": [
    {
     "data": {
      "text/plain": [
       "(-2.8213323571922646,\n",
       " 3.320779558865129,\n",
       " -2.1802350918275093,\n",
       " 1.8665188516741733)"
      ]
     },
     "execution_count": 12,
     "metadata": {},
     "output_type": "execute_result"
    },
    {
     "data": {
      "image/png": "[encoded data removed]",
      "text/plain": [
       "<Figure size 432x288 with 1 Axes>"
      ]
     },
     "metadata": {
      "needs_background": "light"
     },
     "output_type": "display_data"
    }
   ],
   "source": [
    "plt.plot(solv.y[::2].T, solv.y[1::2].T);\n",
    "plt.plot(s0[::2], s0[1::2], 'ok')\n",
    "plt.title('Фазовый портрет')\n",
    "plt.xlabel(r'$\\theta$')\n",
    "plt.ylabel(r'$\\omega$')\n",
    "plt.axis('equal')"
   ]
  },
  {
   "cell_type": "markdown",
   "metadata": {},
   "source": [
    "### Задание\n",
    "\n",
    "Построить на одном рисунке фазовые портреты для 100 случайных начальных векторов состояния $s = (\\theta, \\omega)$ в квадрате [0, 1] x [1.5, 2.5]"
   ]
  },
  {
   "cell_type": "code",
   "execution_count": null,
   "metadata": {},
   "outputs": [],
   "source": []
  },
  {
   "cell_type": "markdown",
   "metadata": {},
   "source": [
    "### События `events`"
   ]
  },
  {
   "cell_type": "code",
   "execution_count": 13,
   "metadata": {},
   "outputs": [],
   "source": [
    "# событийная функция должна обращаться в 0 при наступлении описываемого ей события\n",
    "# корни этой функции будут вычислены с точностью интегрирования\n",
    "\n",
    "def event(t, s):\n",
    "    return s[0]\n",
    "\n",
    "# терминальное событие позволит остановить интегрирование при его наступлении\n",
    "event.terminal = True\n",
    "\n",
    "# направление, в котором будет достигнут ноль событийной функции\n",
    "# -1 означает, что функция пересекает ноль от положительных значений в отрицательные\n",
    "event.direction = -1"
   ]
  },
  {
   "cell_type": "code",
   "execution_count": 14,
   "metadata": {},
   "outputs": [],
   "source": [
    "t0 = 0\n",
    "s0 = np.array([np.pi-0.000001, 0])\n",
    "t1 = 100\n",
    "\n",
    "sole = solve_ivp(eq, # правая часть СОДУ \n",
    "                [t0, t1],\n",
    "                s0, # начальный вектор состояния\n",
    "                method='DOP853', # метод численного интегрирования\n",
    "                max_step=0.1, # максимальный шаг по времени\n",
    "                rtol=1e-12, # относительная погрешность\n",
    "                atol=1e-12,  # абсолютная погрешность\n",
    "                events = [event],\n",
    "               )"
   ]
  },
  {
   "cell_type": "code",
   "execution_count": 15,
   "metadata": {},
   "outputs": [
    {
     "data": {
      "text/plain": [
       "[array([15.8949521])]"
      ]
     },
     "execution_count": 15,
     "metadata": {},
     "output_type": "execute_result"
    }
   ],
   "source": [
    "# рассчитанные моменты наступления событий\n",
    "sole.t_events"
   ]
  },
  {
   "cell_type": "code",
   "execution_count": 16,
   "metadata": {},
   "outputs": [
    {
     "data": {
      "text/plain": [
       "array([63.5798084])"
      ]
     },
     "execution_count": 16,
     "metadata": {},
     "output_type": "execute_result"
    }
   ],
   "source": [
    "# период колебаний в данном случае можно рассчитать так\n",
    "sole.t_events[0] * 4"
   ]
  },
  {
   "cell_type": "code",
   "execution_count": 17,
   "metadata": {},
   "outputs": [
    {
     "data": {
      "text/plain": [
       "(-0.15707958267948913,\n",
       " 3.2986712362692825,\n",
       " -2.0999999999993184,\n",
       " 0.09999999999996755)"
      ]
     },
     "execution_count": 17,
     "metadata": {},
     "output_type": "execute_result"
    },
    {
     "data": {
      "image/png": "[encoded data removed]",
      "text/plain": [
       "<Figure size 432x288 with 1 Axes>"
      ]
     },
     "metadata": {
      "needs_background": "light"
     },
     "output_type": "display_data"
    }
   ],
   "source": [
    "plt.plot(*sole.y);\n",
    "plt.plot(*s0, 'ok')\n",
    "plt.title('Фазовый портрет')\n",
    "plt.xlabel(r'$\\theta$')\n",
    "plt.ylabel(r'$\\omega$')\n",
    "plt.axis('equal')"
   ]
  },
  {
   "cell_type": "code",
   "execution_count": 18,
   "metadata": {},
   "outputs": [
    {
     "data": {
      "text/plain": [
       "array([24.96773237])"
      ]
     },
     "execution_count": 18,
     "metadata": {},
     "output_type": "execute_result"
    }
   ],
   "source": [
    "sole.t_events[0]/2*np.pi"
   ]
  },
  {
   "cell_type": "markdown",
   "metadata": {},
   "source": [
    "### Задание\n",
    "\n",
    "Построить график зависимости периода колебаний маятника от начальной скорости $\\omega$ в интервале (0, 2)."
   ]
  },
  {
   "cell_type": "code",
   "execution_count": null,
   "metadata": {},
   "outputs": [],
   "source": []
  },
  {
   "cell_type": "markdown",
   "metadata": {},
   "source": [
    "### Решение с использованием класса `ode`"
   ]
  },
  {
   "cell_type": "code",
   "execution_count": 19,
   "metadata": {},
   "outputs": [
    {
     "data": {
      "text/plain": [
       "<scipy.integrate._ode.ode at 0x26e7ecfed00>"
      ]
     },
     "execution_count": 19,
     "metadata": {},
     "output_type": "execute_result"
    }
   ],
   "source": [
    "integrator = ode(eq)\n",
    "dt = 0.1\n",
    "integrator.set_integrator('dop853', atol=1e-12, rtol=1e-12, max_step=dt)"
   ]
  },
  {
   "cell_type": "code",
   "execution_count": 20,
   "metadata": {},
   "outputs": [],
   "source": [
    "t0 = 0\n",
    "s0 = np.array([0, 0.1])\n",
    "t1 = 2*np.pi\n",
    "\n",
    "integrator.set_initial_value(s0, t0)\n",
    "\n",
    "n = int((t1 - t0) / dt) + 1\n",
    "dt = (t1 - t0) / n\n",
    "states = np.empty((n+1, 2))\n",
    "time = np.empty(n+1)\n",
    "\n",
    "time[0] = t0\n",
    "states[0] = s0\n",
    "for i in range(n):\n",
    "    time[i+1] = dt * (i + 1)\n",
    "    states[i+1] = integrator.integrate(time[i+1])"
   ]
  },
  {
   "cell_type": "code",
   "execution_count": 21,
   "metadata": {},
   "outputs": [
    {
     "name": "stdout",
     "output_type": "stream",
     "text": [
      "2.5 ms ± 42.5 µs per loop (mean ± std. dev. of 7 runs, 100 loops each)\n"
     ]
    }
   ],
   "source": [
    "%%timeit\n",
    "integrator = ode(eq)\n",
    "dt = 0.1\n",
    "integrator.set_integrator('dop853', atol=1e-12, rtol=1e-12, max_step=dt)\n",
    "integrator.set_initial_value(s0, t0)\n",
    "\n",
    "n = int((t1 - t0) / dt) + 1\n",
    "dt = (t1 - t0) / n\n",
    "states = np.empty((n+1, 2))\n",
    "time = np.empty(n+1)\n",
    "\n",
    "time[0] = t0\n",
    "states[0] = s0\n",
    "for i in range(n):\n",
    "    time[i+1] = dt * (i + 1)\n",
    "    states[i+1] = integrator.integrate(time[i+1])"
   ]
  },
  {
   "cell_type": "code",
   "execution_count": 22,
   "metadata": {},
   "outputs": [
    {
     "data": {
      "text/plain": [
       "(-0.11000369072628695,\n",
       " 0.11001386852396938,\n",
       " -0.10987956528338597,\n",
       " 0.10999426501349457)"
      ]
     },
     "execution_count": 22,
     "metadata": {},
     "output_type": "execute_result"
    },
    {
     "data": {
      "image/png": "[encoded data removed]",
      "text/plain": [
       "<Figure size 432x288 with 1 Axes>"
      ]
     },
     "metadata": {
      "needs_background": "light"
     },
     "output_type": "display_data"
    }
   ],
   "source": [
    "plt.plot(*states.T);\n",
    "#plt.plot(*states[:1].T, 'ok');\n",
    "plt.title('Фазовый портрет')\n",
    "plt.xlabel(r'$\\theta$')\n",
    "plt.ylabel(r'$\\omega$')\n",
    "plt.axis('equal')"
   ]
  },
  {
   "cell_type": "markdown",
   "metadata": {},
   "source": [
    "### Использование `solout` функции"
   ]
  },
  {
   "cell_type": "code",
   "execution_count": 23,
   "metadata": {},
   "outputs": [],
   "source": [
    "t_lst = []\n",
    "s_lst = []\n",
    "def solout(t, s):\n",
    "    t_lst.append(t)\n",
    "    s_lst.append(s.copy())"
   ]
  },
  {
   "cell_type": "code",
   "execution_count": 24,
   "metadata": {},
   "outputs": [],
   "source": [
    "t0 = 0\n",
    "s0 = np.array([0, 0.1])\n",
    "t1 = 2*np.pi"
   ]
  },
  {
   "cell_type": "code",
   "execution_count": 25,
   "metadata": {},
   "outputs": [
    {
     "name": "stdout",
     "output_type": "stream",
     "text": [
      "1.93 ms ± 16.5 µs per loop (mean ± std. dev. of 7 runs, 1000 loops each)\n"
     ]
    }
   ],
   "source": [
    "%%timeit\n",
    "t_lst = []\n",
    "s_lst = []\n",
    "integrator = ode(eq)\n",
    "dt = 0.1\n",
    "integrator.set_integrator('dop853', atol=1e-12, rtol=1e-12, max_step=dt)\n",
    "integrator.set_initial_value(s0, t0)\n",
    "integrator.set_solout(solout)\n",
    "integrator.integrate(t1)"
   ]
  },
  {
   "cell_type": "code",
   "execution_count": 26,
   "metadata": {},
   "outputs": [
    {
     "data": {
      "text/plain": [
       "array([-0.00039325,  0.09999923])"
      ]
     },
     "execution_count": 26,
     "metadata": {},
     "output_type": "execute_result"
    }
   ],
   "source": [
    "t_lst = []\n",
    "s_lst = []\n",
    "integrator = ode(eq)\n",
    "dt = 0.1\n",
    "integrator.set_integrator('dop853', atol=1e-12, rtol=1e-12, max_step=dt)\n",
    "integrator.set_initial_value(s0, t0)\n",
    "integrator.set_solout(solout)\n",
    "integrator.integrate(t1)"
   ]
  },
  {
   "cell_type": "code",
   "execution_count": 27,
   "metadata": {},
   "outputs": [
    {
     "data": {
      "text/plain": [
       "(-0.11003643944241198,\n",
       " 0.10992459328194926,\n",
       " -0.10997932455332148,\n",
       " 0.10999901545492008)"
      ]
     },
     "execution_count": 27,
     "metadata": {},
     "output_type": "execute_result"
    },
    {
     "data": {
      "image/png": "[encoded data removed]",
      "text/plain": [
       "<Figure size 432x288 with 1 Axes>"
      ]
     },
     "metadata": {
      "needs_background": "light"
     },
     "output_type": "display_data"
    }
   ],
   "source": [
    "plt.plot(*np.array(s_lst).T);\n",
    "#plt.plot(*states[:1].T, 'ok');\n",
    "plt.title('Фазовый портрет')\n",
    "plt.xlabel(r'$\\theta$')\n",
    "plt.ylabel(r'$\\omega$')\n",
    "plt.axis('equal')"
   ]
  },
  {
   "cell_type": "markdown",
   "metadata": {},
   "source": [
    "### Задание\n",
    "\n",
    "Построить на одном рисунке фазовые портреты для 100 случайных начальных векторов состояния $s = (\\theta, \\omega)$ в квадрате [0, 1] x [1.5, 2.5] используя **`solout`**"
   ]
  },
  {
   "cell_type": "code",
   "execution_count": null,
   "metadata": {},
   "outputs": [],
   "source": []
  }
 ],
 "metadata": {
  "kernelspec": {
   "display_name": "Python 3",
   "language": "python",
   "name": "python3"
  },
  "language_info": {
   "codemirror_mode": {
    "name": "ipython",
    "version": 3
   },
   "file_extension": ".py",
   "mimetype": "text/x-python",
   "name": "python",
   "nbconvert_exporter": "python",
   "pygments_lexer": "ipython3",
   "version": "3.8.10"
  }
 },
 "nbformat": 4,
 "nbformat_minor": 4
}
