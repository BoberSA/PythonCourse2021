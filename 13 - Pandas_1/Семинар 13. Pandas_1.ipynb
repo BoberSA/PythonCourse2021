{
 "cells": [
  {
   "cell_type": "markdown",
   "metadata": {},
   "source": [
    "# Семинар 13. Pandas_1\n",
    "\n",
    "        \n",
    "1. Модуль `pandas`, импорт модуля\n",
    "\n",
    "\n",
    "2. Типы данных `DataFrame` и `Series`\n",
    "    \n",
    "    2.1. Атрибуты `DataFrame`\n",
    "\n",
    "\n",
    "3. Загрузка из файла / по `URL`\n",
    "\n",
    "\n",
    "4. Операции над таблицами\n",
    "\n",
    "    4.1. Выбор элементов `[], loc, iloc`\n"
   ]
  },
  {
   "cell_type": "markdown",
   "metadata": {},
   "source": [
    "## `pandas`\n",
    "\n",
    "- Обеспечивает всестороннюю работу с таблицами и рядами данных.\n",
    "- Основан на `numpy` и `matplotlib`\n",
    "- Поддерживает различные форматы файлов `csv, xls, json, hdf5, ...`\n",
    "- Дополнительные возможности работы с датами `datetime`\n",
    "- Поддерживает запросы на `SQL`-подобном языке\n",
    "\n",
    "Импорт модуля:\n",
    "\n",
    "`import pandas as pd`\n",
    "\n",
    "Рекомендую использовать: [**Pandas Cheat Sheet**](https://pandas.pydata.org/Pandas_Cheat_Sheet.pdf)"
   ]
  },
  {
   "cell_type": "code",
   "execution_count": 2,
   "metadata": {},
   "outputs": [],
   "source": [
    "import pandas as pd\n",
    "\n",
    "import numpy as np"
   ]
  },
  {
   "cell_type": "markdown",
   "metadata": {},
   "source": [
    "## `Series`\n",
    "\n",
    "- Ряд данных;\n",
    "- Аналогичен массиву, но хранит индексы;\n",
    "- Индексы могут быть **не числовыми**;\n",
    "- Перед любой операцией происходит **выравнивание по индексам**;\n",
    "- Корректно работает с **отсутствующими данными** `NaN`.\n",
    "\n",
    "Создание ряда:\n",
    "\n",
    "`s = pd.Series(data, index=index)`"
   ]
  },
  {
   "cell_type": "code",
   "execution_count": 24,
   "metadata": {},
   "outputs": [
    {
     "data": {
      "text/plain": [
       "(0    1.0\n",
       " 1    2.0\n",
       " 2    3.0\n",
       " 3    NaN\n",
       " 4    5.0\n",
       " 5    6.0\n",
       " dtype: float64,\n",
       " RangeIndex(start=0, stop=6, step=1))"
      ]
     },
     "execution_count": 24,
     "metadata": {},
     "output_type": "execute_result"
    }
   ],
   "source": [
    "s = pd.Series([1,2,3,np.nan,5,6])\n",
    "s, s.index"
   ]
  },
  {
   "cell_type": "code",
   "execution_count": 25,
   "metadata": {},
   "outputs": [
    {
     "data": {
      "text/plain": [
       "a    1.0\n",
       "a    2.0\n",
       "c    3.0\n",
       "d    NaN\n",
       "e    5.0\n",
       "f    6.0\n",
       "dtype: float64"
      ]
     },
     "execution_count": 25,
     "metadata": {},
     "output_type": "execute_result"
    }
   ],
   "source": [
    "# явно указаны индексы\n",
    "s = pd.Series([1,2,3,np.nan,5,6], index=list('aacdef'))\n",
    "s"
   ]
  },
  {
   "cell_type": "code",
   "execution_count": 4,
   "metadata": {},
   "outputs": [
    {
     "data": {
      "text/plain": [
       "0    37\n",
       "1    37\n",
       "2    37\n",
       "3    37\n",
       "4    37\n",
       "5    37\n",
       "6    37\n",
       "7    37\n",
       "8    37\n",
       "9    37\n",
       "dtype: int64"
      ]
     },
     "execution_count": 4,
     "metadata": {},
     "output_type": "execute_result"
    }
   ],
   "source": [
    "# создание ряда из одного числа\n",
    "pd.Series(37, index=list(range(10)))"
   ]
  },
  {
   "cell_type": "code",
   "execution_count": 5,
   "metadata": {},
   "outputs": [
    {
     "name": "stdout",
     "output_type": "stream",
     "text": [
      "a    1\n",
      "b    2\n",
      "c    3\n",
      "dtype: int64\n"
     ]
    }
   ],
   "source": [
    "# преобразование словаря в Series\n",
    "print(pd.Series({'a':1, 'b':2, 'c':3}))"
   ]
  },
  {
   "cell_type": "code",
   "execution_count": 6,
   "metadata": {},
   "outputs": [
    {
     "name": "stdout",
     "output_type": "stream",
     "text": [
      "a    1\n",
      "c    2\n",
      "b    3\n",
      "dtype: int64\n"
     ]
    }
   ],
   "source": [
    "# для индексов используется порядок, в котором элементы добавлены в словарь\n",
    "print(pd.Series({'a':1, 'c':2, 'b':3}))"
   ]
  },
  {
   "cell_type": "markdown",
   "metadata": {},
   "source": [
    "## `DataFrame`\n",
    "\n",
    "- Таблица данных;\n",
    "- Похожа на матрицу, но хранит индексы (строк) и названия столбцов;\n",
    "- Каждый столбец имеет свой тип элемента;\n",
    "- Индексы и названия столбцов могут быть **не числовыми**;\n",
    "- Перед любой операцией происходит **выравнивание по индексам**;\n",
    "- Корректно работает с **отсутствующими данными** `NaN`.\n",
    "\n",
    "*Можно представлять себе Таблицу как набор столбцов с одинаковыми индексами*\n",
    "\n",
    "Создание Таблицы:\n",
    "\n",
    "`df = pd.DataFrame(data, index=index, columns=columns)`"
   ]
  },
  {
   "cell_type": "code",
   "execution_count": 26,
   "metadata": {},
   "outputs": [
    {
     "data": {
      "text/html": [
       "<div>\n",
       "<style scoped>\n",
       "    .dataframe tbody tr th:only-of-type {\n",
       "        vertical-align: middle;\n",
       "    }\n",
       "\n",
       "    .dataframe tbody tr th {\n",
       "        vertical-align: top;\n",
       "    }\n",
       "\n",
       "    .dataframe thead th {\n",
       "        text-align: right;\n",
       "    }\n",
       "</style>\n",
       "<table border=\"1\" class=\"dataframe\">\n",
       "  <thead>\n",
       "    <tr style=\"text-align: right;\">\n",
       "      <th></th>\n",
       "      <th>0</th>\n",
       "    </tr>\n",
       "  </thead>\n",
       "  <tbody>\n",
       "    <tr>\n",
       "      <th>0</th>\n",
       "      <td>1.0</td>\n",
       "    </tr>\n",
       "    <tr>\n",
       "      <th>1</th>\n",
       "      <td>2.0</td>\n",
       "    </tr>\n",
       "    <tr>\n",
       "      <th>2</th>\n",
       "      <td>3.0</td>\n",
       "    </tr>\n",
       "    <tr>\n",
       "      <th>3</th>\n",
       "      <td>NaN</td>\n",
       "    </tr>\n",
       "    <tr>\n",
       "      <th>4</th>\n",
       "      <td>5.0</td>\n",
       "    </tr>\n",
       "    <tr>\n",
       "      <th>5</th>\n",
       "      <td>6.0</td>\n",
       "    </tr>\n",
       "  </tbody>\n",
       "</table>\n",
       "</div>"
      ],
      "text/plain": [
       "     0\n",
       "0  1.0\n",
       "1  2.0\n",
       "2  3.0\n",
       "3  NaN\n",
       "4  5.0\n",
       "5  6.0"
      ]
     },
     "execution_count": 26,
     "metadata": {},
     "output_type": "execute_result"
    }
   ],
   "source": [
    "# из списка, как при создании ряда\n",
    "# созданный ряд становится столбцом таблицы\n",
    "\n",
    "df = pd.DataFrame([1,2,3,np.nan,5,6])\n",
    "df"
   ]
  },
  {
   "cell_type": "code",
   "execution_count": 27,
   "metadata": {},
   "outputs": [
    {
     "data": {
      "text/html": [
       "<div>\n",
       "<style scoped>\n",
       "    .dataframe tbody tr th:only-of-type {\n",
       "        vertical-align: middle;\n",
       "    }\n",
       "\n",
       "    .dataframe tbody tr th {\n",
       "        vertical-align: top;\n",
       "    }\n",
       "\n",
       "    .dataframe thead th {\n",
       "        text-align: right;\n",
       "    }\n",
       "</style>\n",
       "<table border=\"1\" class=\"dataframe\">\n",
       "  <thead>\n",
       "    <tr style=\"text-align: right;\">\n",
       "      <th></th>\n",
       "      <th>0</th>\n",
       "      <th>1</th>\n",
       "      <th>2</th>\n",
       "      <th>3</th>\n",
       "      <th>4</th>\n",
       "    </tr>\n",
       "  </thead>\n",
       "  <tbody>\n",
       "    <tr>\n",
       "      <th>0</th>\n",
       "      <td>0</td>\n",
       "      <td>0</td>\n",
       "      <td>0</td>\n",
       "      <td>0</td>\n",
       "      <td>0</td>\n",
       "    </tr>\n",
       "    <tr>\n",
       "      <th>1</th>\n",
       "      <td>0</td>\n",
       "      <td>1</td>\n",
       "      <td>2</td>\n",
       "      <td>3</td>\n",
       "      <td>4</td>\n",
       "    </tr>\n",
       "    <tr>\n",
       "      <th>2</th>\n",
       "      <td>0</td>\n",
       "      <td>2</td>\n",
       "      <td>4</td>\n",
       "      <td>6</td>\n",
       "      <td>8</td>\n",
       "    </tr>\n",
       "    <tr>\n",
       "      <th>3</th>\n",
       "      <td>0</td>\n",
       "      <td>3</td>\n",
       "      <td>6</td>\n",
       "      <td>9</td>\n",
       "      <td>12</td>\n",
       "    </tr>\n",
       "    <tr>\n",
       "      <th>4</th>\n",
       "      <td>0</td>\n",
       "      <td>4</td>\n",
       "      <td>8</td>\n",
       "      <td>12</td>\n",
       "      <td>16</td>\n",
       "    </tr>\n",
       "  </tbody>\n",
       "</table>\n",
       "</div>"
      ],
      "text/plain": [
       "   0  1  2   3   4\n",
       "0  0  0  0   0   0\n",
       "1  0  1  2   3   4\n",
       "2  0  2  4   6   8\n",
       "3  0  3  6   9  12\n",
       "4  0  4  8  12  16"
      ]
     },
     "execution_count": 27,
     "metadata": {},
     "output_type": "execute_result"
    }
   ],
   "source": [
    "# из списка списков\n",
    "\n",
    "df = pd.DataFrame([[i*j for j in range(5)] for i in range(5)])\n",
    "df"
   ]
  },
  {
   "cell_type": "code",
   "execution_count": 9,
   "metadata": {},
   "outputs": [
    {
     "data": {
      "text/html": [
       "<div>\n",
       "<style scoped>\n",
       "    .dataframe tbody tr th:only-of-type {\n",
       "        vertical-align: middle;\n",
       "    }\n",
       "\n",
       "    .dataframe tbody tr th {\n",
       "        vertical-align: top;\n",
       "    }\n",
       "\n",
       "    .dataframe thead th {\n",
       "        text-align: right;\n",
       "    }\n",
       "</style>\n",
       "<table border=\"1\" class=\"dataframe\">\n",
       "  <thead>\n",
       "    <tr style=\"text-align: right;\">\n",
       "      <th></th>\n",
       "      <th>col_a</th>\n",
       "      <th>col_b</th>\n",
       "    </tr>\n",
       "  </thead>\n",
       "  <tbody>\n",
       "    <tr>\n",
       "      <th>0</th>\n",
       "      <td>1</td>\n",
       "      <td>4</td>\n",
       "    </tr>\n",
       "    <tr>\n",
       "      <th>1</th>\n",
       "      <td>2</td>\n",
       "      <td>5</td>\n",
       "    </tr>\n",
       "    <tr>\n",
       "      <th>2</th>\n",
       "      <td>3</td>\n",
       "      <td>6</td>\n",
       "    </tr>\n",
       "  </tbody>\n",
       "</table>\n",
       "</div>"
      ],
      "text/plain": [
       "   col_a  col_b\n",
       "0      1      4\n",
       "1      2      5\n",
       "2      3      6"
      ]
     },
     "execution_count": 9,
     "metadata": {},
     "output_type": "execute_result"
    }
   ],
   "source": [
    "# на основе словаря\n",
    "# ключи становятся названиями столбцов\n",
    "\n",
    "d = {'col_a':[1,2,3], 'col_b':[4,5,6]}\n",
    "\n",
    "df = pd.DataFrame(d)\n",
    "df"
   ]
  },
  {
   "cell_type": "code",
   "execution_count": 28,
   "metadata": {},
   "outputs": [
    {
     "data": {
      "text/html": [
       "<div>\n",
       "<style scoped>\n",
       "    .dataframe tbody tr th:only-of-type {\n",
       "        vertical-align: middle;\n",
       "    }\n",
       "\n",
       "    .dataframe tbody tr th {\n",
       "        vertical-align: top;\n",
       "    }\n",
       "\n",
       "    .dataframe thead th {\n",
       "        text-align: right;\n",
       "    }\n",
       "</style>\n",
       "<table border=\"1\" class=\"dataframe\">\n",
       "  <thead>\n",
       "    <tr style=\"text-align: right;\">\n",
       "      <th></th>\n",
       "      <th>col_a</th>\n",
       "      <th>col_b</th>\n",
       "    </tr>\n",
       "  </thead>\n",
       "  <tbody>\n",
       "    <tr>\n",
       "      <th>row_a</th>\n",
       "      <td>1.0</td>\n",
       "      <td>NaN</td>\n",
       "    </tr>\n",
       "    <tr>\n",
       "      <th>row_b</th>\n",
       "      <td>2.0</td>\n",
       "      <td>4.0</td>\n",
       "    </tr>\n",
       "    <tr>\n",
       "      <th>row_c</th>\n",
       "      <td>3.0</td>\n",
       "      <td>5.0</td>\n",
       "    </tr>\n",
       "    <tr>\n",
       "      <th>row_d</th>\n",
       "      <td>NaN</td>\n",
       "      <td>6.0</td>\n",
       "    </tr>\n",
       "  </tbody>\n",
       "</table>\n",
       "</div>"
      ],
      "text/plain": [
       "       col_a  col_b\n",
       "row_a    1.0    NaN\n",
       "row_b    2.0    4.0\n",
       "row_c    3.0    5.0\n",
       "row_d    NaN    6.0"
      ]
     },
     "execution_count": 28,
     "metadata": {},
     "output_type": "execute_result"
    }
   ],
   "source": [
    "# на основе словаря из рядов\n",
    "# ключи становятся названиями столбцов\n",
    "# индексы рядов - индексами строк\n",
    "# откуда взялись NaN?\n",
    "\n",
    "d = {'col_a':pd.Series([1,2,3], index=['row_a', 'row_b', 'row_c']), \n",
    "     'col_b':pd.Series([4,5,6], index=['row_b', 'row_c', 'row_d'])\n",
    "    }\n",
    "\n",
    "df = pd.DataFrame(d)\n",
    "df"
   ]
  },
  {
   "cell_type": "markdown",
   "metadata": {},
   "source": [
    "## Атрибуты `DataFrame`\n",
    "\n",
    "- `df.shape` - размеры таблицы (кортеж)\n",
    "- `df.dtypes` - типы элементов в столбцах таблицы\n",
    "- `df.columns` - названия столбцов\n",
    "- `df.index` - индексы строк\n"
   ]
  },
  {
   "cell_type": "code",
   "execution_count": 29,
   "metadata": {},
   "outputs": [
    {
     "data": {
      "text/html": [
       "<div>\n",
       "<style scoped>\n",
       "    .dataframe tbody tr th:only-of-type {\n",
       "        vertical-align: middle;\n",
       "    }\n",
       "\n",
       "    .dataframe tbody tr th {\n",
       "        vertical-align: top;\n",
       "    }\n",
       "\n",
       "    .dataframe thead th {\n",
       "        text-align: right;\n",
       "    }\n",
       "</style>\n",
       "<table border=\"1\" class=\"dataframe\">\n",
       "  <thead>\n",
       "    <tr style=\"text-align: right;\">\n",
       "      <th></th>\n",
       "      <th>col_a</th>\n",
       "      <th>col_b</th>\n",
       "      <th>col_c</th>\n",
       "    </tr>\n",
       "  </thead>\n",
       "  <tbody>\n",
       "    <tr>\n",
       "      <th>row_a</th>\n",
       "      <td>True</td>\n",
       "      <td>NaN</td>\n",
       "      <td>NaN</td>\n",
       "    </tr>\n",
       "    <tr>\n",
       "      <th>row_b</th>\n",
       "      <td>True</td>\n",
       "      <td>4.0</td>\n",
       "      <td>log</td>\n",
       "    </tr>\n",
       "    <tr>\n",
       "      <th>row_c</th>\n",
       "      <td>False</td>\n",
       "      <td>5.0</td>\n",
       "      <td>exp</td>\n",
       "    </tr>\n",
       "    <tr>\n",
       "      <th>row_d</th>\n",
       "      <td>NaN</td>\n",
       "      <td>6.0</td>\n",
       "      <td>sin</td>\n",
       "    </tr>\n",
       "  </tbody>\n",
       "</table>\n",
       "</div>"
      ],
      "text/plain": [
       "       col_a  col_b col_c\n",
       "row_a   True    NaN   NaN\n",
       "row_b   True    4.0   log\n",
       "row_c  False    5.0   exp\n",
       "row_d    NaN    6.0   sin"
      ]
     },
     "execution_count": 29,
     "metadata": {},
     "output_type": "execute_result"
    }
   ],
   "source": [
    "d = {'col_a':pd.Series([True,True,False], index=['row_a', 'row_b', 'row_c']), \n",
    "     'col_b':pd.Series([4.0,5.0,6.0], index=['row_b', 'row_c', 'row_d']),\n",
    "     'col_c':pd.Series(['log','exp','sin'], index=['row_b', 'row_c', 'row_d'])\n",
    "    }\n",
    "df = pd.DataFrame(d)\n",
    "df"
   ]
  },
  {
   "cell_type": "code",
   "execution_count": 30,
   "metadata": {
    "scrolled": true
   },
   "outputs": [
    {
     "data": {
      "text/plain": [
       "(4, 3)"
      ]
     },
     "execution_count": 30,
     "metadata": {},
     "output_type": "execute_result"
    }
   ],
   "source": [
    "df.shape"
   ]
  },
  {
   "cell_type": "code",
   "execution_count": 31,
   "metadata": {},
   "outputs": [
    {
     "data": {
      "text/plain": [
       "col_a     object\n",
       "col_b    float64\n",
       "col_c     object\n",
       "dtype: object"
      ]
     },
     "execution_count": 31,
     "metadata": {},
     "output_type": "execute_result"
    }
   ],
   "source": [
    "df.dtypes"
   ]
  },
  {
   "cell_type": "code",
   "execution_count": 32,
   "metadata": {},
   "outputs": [
    {
     "data": {
      "text/plain": [
       "Index(['col_a', 'col_b', 'col_c'], dtype='object')"
      ]
     },
     "execution_count": 32,
     "metadata": {},
     "output_type": "execute_result"
    }
   ],
   "source": [
    "df.columns"
   ]
  },
  {
   "cell_type": "code",
   "execution_count": 12,
   "metadata": {
    "scrolled": true
   },
   "outputs": [
    {
     "data": {
      "text/plain": [
       "Index(['row_a', 'row_b', 'row_c', 'row_d'], dtype='object')"
      ]
     },
     "execution_count": 12,
     "metadata": {},
     "output_type": "execute_result"
    }
   ],
   "source": [
    "df.index"
   ]
  },
  {
   "cell_type": "code",
   "execution_count": null,
   "metadata": {},
   "outputs": [],
   "source": []
  },
  {
   "cell_type": "markdown",
   "metadata": {},
   "source": [
    "## Задание\n",
    "\n",
    "Создать Таблицу и вывести на экран:\n",
    "- содержимое, \n",
    "- размеры, \n",
    "- индекс, \n",
    "- названия столбцов.\n",
    "\n",
    "Таблица должна содержать информацию о продажах (достаточно 5 строк):\n",
    "- имя менеджера (строка)\n",
    "- возраст (целое число)\n",
    "- пол (строка)\n",
    "- дата продажи товара (`datetime`)\n",
    "- количество единиц товара (целое число)\n",
    "\n",
    "Преобразовать последовательность строк к формату `datetime` можно так:\n",
    "\n",
    "`pd.to_datetime(['10.11.2020', '11.11.2020', '11.11.2020'])`\n"
   ]
  },
  {
   "cell_type": "code",
   "execution_count": 6,
   "metadata": {},
   "outputs": [
    {
     "data": {
      "text/plain": [
       "DatetimeIndex(['2020-10-11', '2020-11-11', '2020-11-11'], dtype='datetime64[ns]', freq=None)"
      ]
     },
     "execution_count": 6,
     "metadata": {},
     "output_type": "execute_result"
    }
   ],
   "source": [
    "pd.to_datetime(['10.11.2020', '11.11.2020', '11.11.2020'])"
   ]
  },
  {
   "cell_type": "code",
   "execution_count": null,
   "metadata": {},
   "outputs": [],
   "source": []
  },
  {
   "cell_type": "markdown",
   "metadata": {},
   "source": [
    "## Загрузка из файла\n",
    "\n",
    "- `pd.read_<format>(path, ...)` - загрузить таблицу из файла указанного формата\n",
    "\n",
    "`path` - путь к файлу или `URL`\n",
    "\n",
    "Например:\n",
    "\n",
    "- `pd.read_csv('table.csv')`\n",
    "- `pd.read_pickle('table.pkl')`\n",
    "- `pd.read_json('http://some-server.org/page')`"
   ]
  },
  {
   "cell_type": "code",
   "execution_count": 16,
   "metadata": {},
   "outputs": [
    {
     "data": {
      "text/plain": [
       "['read_clipboard',\n",
       " 'read_csv',\n",
       " 'read_excel',\n",
       " 'read_feather',\n",
       " 'read_fwf',\n",
       " 'read_gbq',\n",
       " 'read_hdf',\n",
       " 'read_html',\n",
       " 'read_json',\n",
       " 'read_orc',\n",
       " 'read_parquet',\n",
       " 'read_pickle',\n",
       " 'read_sas',\n",
       " 'read_spss',\n",
       " 'read_sql',\n",
       " 'read_sql_query',\n",
       " 'read_sql_table',\n",
       " 'read_stata',\n",
       " 'read_table']"
      ]
     },
     "execution_count": 16,
     "metadata": {},
     "output_type": "execute_result"
    }
   ],
   "source": [
    "[x for x in dir(pd) if x.startswith('read_')]"
   ]
  },
  {
   "cell_type": "code",
   "execution_count": 7,
   "metadata": {},
   "outputs": [],
   "source": [
    "url = 'https://github.com/BoberSA/PythonCourse/raw/master/Lecture_6/hashes.csv'\n",
    "df = pd.read_csv(url)"
   ]
  },
  {
   "cell_type": "code",
   "execution_count": 8,
   "metadata": {},
   "outputs": [
    {
     "data": {
      "text/html": [
       "<div>\n",
       "<style scoped>\n",
       "    .dataframe tbody tr th:only-of-type {\n",
       "        vertical-align: middle;\n",
       "    }\n",
       "\n",
       "    .dataframe tbody tr th {\n",
       "        vertical-align: top;\n",
       "    }\n",
       "\n",
       "    .dataframe thead th {\n",
       "        text-align: right;\n",
       "    }\n",
       "</style>\n",
       "<table border=\"1\" class=\"dataframe\">\n",
       "  <thead>\n",
       "    <tr style=\"text-align: right;\">\n",
       "      <th></th>\n",
       "      <th>Группа</th>\n",
       "      <th>Фамилия</th>\n",
       "      <th>Имя</th>\n",
       "      <th>Отчество</th>\n",
       "      <th>hash</th>\n",
       "    </tr>\n",
       "  </thead>\n",
       "  <tbody>\n",
       "    <tr>\n",
       "      <th>0</th>\n",
       "      <td>БПМ-161</td>\n",
       "      <td>Антонов</td>\n",
       "      <td>Алексей</td>\n",
       "      <td>Алексеевич</td>\n",
       "      <td>6875ba52f0</td>\n",
       "    </tr>\n",
       "    <tr>\n",
       "      <th>1</th>\n",
       "      <td>БПМ-161</td>\n",
       "      <td>Арсамакова</td>\n",
       "      <td>Алина</td>\n",
       "      <td>Ибрагимовна</td>\n",
       "      <td>7ca01c996f</td>\n",
       "    </tr>\n",
       "    <tr>\n",
       "      <th>2</th>\n",
       "      <td>БПМ-161</td>\n",
       "      <td>Богатов</td>\n",
       "      <td>Антон</td>\n",
       "      <td>Юрьевич</td>\n",
       "      <td>15360bcc4c</td>\n",
       "    </tr>\n",
       "    <tr>\n",
       "      <th>3</th>\n",
       "      <td>БПМ-161</td>\n",
       "      <td>Бычков</td>\n",
       "      <td>Андрей</td>\n",
       "      <td>-</td>\n",
       "      <td>f9f854aa44</td>\n",
       "    </tr>\n",
       "    <tr>\n",
       "      <th>4</th>\n",
       "      <td>БПМ-161</td>\n",
       "      <td>Высоцкий</td>\n",
       "      <td>Яков</td>\n",
       "      <td>Михайлович</td>\n",
       "      <td>1d1d05c257</td>\n",
       "    </tr>\n",
       "    <tr>\n",
       "      <th>...</th>\n",
       "      <td>...</td>\n",
       "      <td>...</td>\n",
       "      <td>...</td>\n",
       "      <td>...</td>\n",
       "      <td>...</td>\n",
       "    </tr>\n",
       "    <tr>\n",
       "      <th>90</th>\n",
       "      <td>БПМ-163</td>\n",
       "      <td>Черников</td>\n",
       "      <td>Дмитрий</td>\n",
       "      <td>Владимирович</td>\n",
       "      <td>5a44ca37d2</td>\n",
       "    </tr>\n",
       "    <tr>\n",
       "      <th>91</th>\n",
       "      <td>БПМ-163</td>\n",
       "      <td>Шухова</td>\n",
       "      <td>Вероника</td>\n",
       "      <td>Валерьевна</td>\n",
       "      <td>f2d63ba1da</td>\n",
       "    </tr>\n",
       "    <tr>\n",
       "      <th>92</th>\n",
       "      <td>БПМ-163</td>\n",
       "      <td>Ячменева</td>\n",
       "      <td>Виктория</td>\n",
       "      <td>Сергеевна</td>\n",
       "      <td>5389cb6370</td>\n",
       "    </tr>\n",
       "    <tr>\n",
       "      <th>93</th>\n",
       "      <td>БПМ-163</td>\n",
       "      <td>Бусурин</td>\n",
       "      <td>Антон</td>\n",
       "      <td>-</td>\n",
       "      <td>6311bbb17e</td>\n",
       "    </tr>\n",
       "    <tr>\n",
       "      <th>94</th>\n",
       "      <td>БПМ-163</td>\n",
       "      <td>Балашов</td>\n",
       "      <td>В</td>\n",
       "      <td>В</td>\n",
       "      <td>0a9d4d6207</td>\n",
       "    </tr>\n",
       "  </tbody>\n",
       "</table>\n",
       "<p>95 rows × 5 columns</p>\n",
       "</div>"
      ],
      "text/plain": [
       "     Группа     Фамилия       Имя      Отчество        hash\n",
       "0   БПМ-161     Антонов   Алексей    Алексеевич  6875ba52f0\n",
       "1   БПМ-161  Арсамакова     Алина   Ибрагимовна  7ca01c996f\n",
       "2   БПМ-161     Богатов     Антон       Юрьевич  15360bcc4c\n",
       "3   БПМ-161      Бычков    Андрей             -  f9f854aa44\n",
       "4   БПМ-161    Высоцкий      Яков    Михайлович  1d1d05c257\n",
       "..      ...         ...       ...           ...         ...\n",
       "90  БПМ-163    Черников   Дмитрий  Владимирович  5a44ca37d2\n",
       "91  БПМ-163      Шухова  Вероника    Валерьевна  f2d63ba1da\n",
       "92  БПМ-163    Ячменева  Виктория     Сергеевна  5389cb6370\n",
       "93  БПМ-163     Бусурин     Антон             -  6311bbb17e\n",
       "94  БПМ-163     Балашов         В             В  0a9d4d6207\n",
       "\n",
       "[95 rows x 5 columns]"
      ]
     },
     "execution_count": 8,
     "metadata": {},
     "output_type": "execute_result"
    }
   ],
   "source": [
    "df"
   ]
  },
  {
   "cell_type": "markdown",
   "metadata": {},
   "source": [
    "## `pd.read_csv`\n",
    "\n",
    "Некоторые аргументы:\n",
    "\n",
    "- `sep:str` или `delimiter:str` - разделитель значений в строке; можно использовать регулярные выражения\n",
    "- `delim_whitespace:bool` - считать ли разделителем любое количество 'пробельных' символов?\n",
    "- `usecols:list` - имена столбцов, которые нужно загрузить\n",
    "- `header:int` - номер строки с названиями столбцов (`None`, если нет)\n",
    "- `index_col:int` - какой столбец является индексным\n",
    "- `parse_dates:bool` - преобразовывать даты\n",
    "- `skiprows:int` - пропустить заданное число строк в начале файла\n"
   ]
  },
  {
   "cell_type": "markdown",
   "metadata": {},
   "source": [
    "## Задание\n",
    "\n",
    "Загрузить Таблицу из файла [`stockholm_td_adj.dat`](https://github.com/jrjohansson/scientific-python-lectures) и вывести на экран:\n",
    "\n",
    "- содержимое, \n",
    "- размеры, \n",
    "- типы элементов."
   ]
  },
  {
   "cell_type": "code",
   "execution_count": null,
   "metadata": {},
   "outputs": [],
   "source": [
    "url = 'https://github.com/jrjohansson/scientific-python-lectures/raw/master/stockholm_td_adj.dat'"
   ]
  },
  {
   "cell_type": "markdown",
   "metadata": {},
   "source": [
    "## Выбор элементов\n",
    "\n",
    "Индексирование:\n",
    "- `df[название_столбца]` - выбрать один столбец\n",
    "- `df[[название_столбца1, название_столбца2, ...]]` - выбрать несколько столбцов\n",
    "\n",
    "- `df[маска]` - выбрать **строки** согласно маске!\n",
    "\n",
    "Выбор столбца:\n",
    "- `df.название_столбца` - работает, если название_столбца соответствует правилам именования в Python и не совпадает с другими атрибутами таблицы\n",
    "\n",
    "Выбор по **индексу и названию столбцов**:\n",
    "- `df.loc[строки, столбцы]` - здесь можно выбрать сразу нужные строки и столбцы, используя индексы, срезы и т.д.\n",
    "\n",
    "Выбор по **целочисленному индексу**:\n",
    "- `df.iloc[строки, столбцы]` - аналогично, но с помощью целочисленных индексов (как в массивах)"
   ]
  },
  {
   "cell_type": "code",
   "execution_count": 9,
   "metadata": {},
   "outputs": [
    {
     "data": {
      "text/plain": [
       "((95, 5),\n",
       " Index(['Группа', 'Фамилия', 'Имя', 'Отчество', 'hash'], dtype='object'))"
      ]
     },
     "execution_count": 9,
     "metadata": {},
     "output_type": "execute_result"
    }
   ],
   "source": [
    "url = 'https://github.com/BoberSA/PythonCourse/raw/master/Lecture_6/hashes.csv'\n",
    "df = pd.read_csv(url)\n",
    "df.shape, df.columns"
   ]
  },
  {
   "cell_type": "code",
   "execution_count": 10,
   "metadata": {},
   "outputs": [
    {
     "data": {
      "text/plain": [
       "0     БПМ-161\n",
       "1     БПМ-161\n",
       "2     БПМ-161\n",
       "3     БПМ-161\n",
       "4     БПМ-161\n",
       "       ...   \n",
       "90    БПМ-163\n",
       "91    БПМ-163\n",
       "92    БПМ-163\n",
       "93    БПМ-163\n",
       "94    БПМ-163\n",
       "Name: Группа, Length: 95, dtype: object"
      ]
     },
     "execution_count": 10,
     "metadata": {},
     "output_type": "execute_result"
    }
   ],
   "source": [
    "df['Группа']"
   ]
  },
  {
   "cell_type": "code",
   "execution_count": 45,
   "metadata": {},
   "outputs": [
    {
     "data": {
      "text/html": [
       "<div>\n",
       "<style scoped>\n",
       "    .dataframe tbody tr th:only-of-type {\n",
       "        vertical-align: middle;\n",
       "    }\n",
       "\n",
       "    .dataframe tbody tr th {\n",
       "        vertical-align: top;\n",
       "    }\n",
       "\n",
       "    .dataframe thead th {\n",
       "        text-align: right;\n",
       "    }\n",
       "</style>\n",
       "<table border=\"1\" class=\"dataframe\">\n",
       "  <thead>\n",
       "    <tr style=\"text-align: right;\">\n",
       "      <th></th>\n",
       "      <th>Фамилия</th>\n",
       "      <th>hash</th>\n",
       "    </tr>\n",
       "  </thead>\n",
       "  <tbody>\n",
       "    <tr>\n",
       "      <th>0</th>\n",
       "      <td>Антонов</td>\n",
       "      <td>6875ba52f0</td>\n",
       "    </tr>\n",
       "    <tr>\n",
       "      <th>1</th>\n",
       "      <td>Арсамакова</td>\n",
       "      <td>7ca01c996f</td>\n",
       "    </tr>\n",
       "    <tr>\n",
       "      <th>2</th>\n",
       "      <td>Богатов</td>\n",
       "      <td>15360bcc4c</td>\n",
       "    </tr>\n",
       "    <tr>\n",
       "      <th>3</th>\n",
       "      <td>Бычков</td>\n",
       "      <td>f9f854aa44</td>\n",
       "    </tr>\n",
       "    <tr>\n",
       "      <th>4</th>\n",
       "      <td>Высоцкий</td>\n",
       "      <td>1d1d05c257</td>\n",
       "    </tr>\n",
       "    <tr>\n",
       "      <th>...</th>\n",
       "      <td>...</td>\n",
       "      <td>...</td>\n",
       "    </tr>\n",
       "    <tr>\n",
       "      <th>90</th>\n",
       "      <td>Черников</td>\n",
       "      <td>5a44ca37d2</td>\n",
       "    </tr>\n",
       "    <tr>\n",
       "      <th>91</th>\n",
       "      <td>Шухова</td>\n",
       "      <td>f2d63ba1da</td>\n",
       "    </tr>\n",
       "    <tr>\n",
       "      <th>92</th>\n",
       "      <td>Ячменева</td>\n",
       "      <td>5389cb6370</td>\n",
       "    </tr>\n",
       "    <tr>\n",
       "      <th>93</th>\n",
       "      <td>Бусурин</td>\n",
       "      <td>6311bbb17e</td>\n",
       "    </tr>\n",
       "    <tr>\n",
       "      <th>94</th>\n",
       "      <td>Балашов</td>\n",
       "      <td>0a9d4d6207</td>\n",
       "    </tr>\n",
       "  </tbody>\n",
       "</table>\n",
       "<p>95 rows × 2 columns</p>\n",
       "</div>"
      ],
      "text/plain": [
       "       Фамилия        hash\n",
       "0      Антонов  6875ba52f0\n",
       "1   Арсамакова  7ca01c996f\n",
       "2      Богатов  15360bcc4c\n",
       "3       Бычков  f9f854aa44\n",
       "4     Высоцкий  1d1d05c257\n",
       "..         ...         ...\n",
       "90    Черников  5a44ca37d2\n",
       "91      Шухова  f2d63ba1da\n",
       "92    Ячменева  5389cb6370\n",
       "93     Бусурин  6311bbb17e\n",
       "94     Балашов  0a9d4d6207\n",
       "\n",
       "[95 rows x 2 columns]"
      ]
     },
     "execution_count": 45,
     "metadata": {},
     "output_type": "execute_result"
    }
   ],
   "source": [
    "df[['Фамилия', 'hash']]"
   ]
  },
  {
   "cell_type": "code",
   "execution_count": 49,
   "metadata": {},
   "outputs": [
    {
     "data": {
      "text/plain": [
       "0     False\n",
       "1     False\n",
       "2     False\n",
       "3     False\n",
       "4     False\n",
       "      ...  \n",
       "90    False\n",
       "91    False\n",
       "92    False\n",
       "93    False\n",
       "94    False\n",
       "Name: Имя, Length: 95, dtype: bool"
      ]
     },
     "execution_count": 49,
     "metadata": {},
     "output_type": "execute_result"
    }
   ],
   "source": [
    "mask = (df['Имя'] == 'Александр')\n",
    "mask"
   ]
  },
  {
   "cell_type": "code",
   "execution_count": 46,
   "metadata": {},
   "outputs": [
    {
     "data": {
      "text/html": [
       "<div>\n",
       "<style scoped>\n",
       "    .dataframe tbody tr th:only-of-type {\n",
       "        vertical-align: middle;\n",
       "    }\n",
       "\n",
       "    .dataframe tbody tr th {\n",
       "        vertical-align: top;\n",
       "    }\n",
       "\n",
       "    .dataframe thead th {\n",
       "        text-align: right;\n",
       "    }\n",
       "</style>\n",
       "<table border=\"1\" class=\"dataframe\">\n",
       "  <thead>\n",
       "    <tr style=\"text-align: right;\">\n",
       "      <th></th>\n",
       "      <th>Группа</th>\n",
       "      <th>Фамилия</th>\n",
       "      <th>Имя</th>\n",
       "      <th>Отчество</th>\n",
       "      <th>hash</th>\n",
       "    </tr>\n",
       "  </thead>\n",
       "  <tbody>\n",
       "    <tr>\n",
       "      <th>22</th>\n",
       "      <td>БПМ-161</td>\n",
       "      <td>Синицын</td>\n",
       "      <td>Александр</td>\n",
       "      <td>Юрьевич</td>\n",
       "      <td>1279af2d6f</td>\n",
       "    </tr>\n",
       "    <tr>\n",
       "      <th>23</th>\n",
       "      <td>БПМ-161</td>\n",
       "      <td>Соколов</td>\n",
       "      <td>Александр</td>\n",
       "      <td>Николаевич</td>\n",
       "      <td>165aac7dac</td>\n",
       "    </tr>\n",
       "    <tr>\n",
       "      <th>30</th>\n",
       "      <td>БПМ-162</td>\n",
       "      <td>Борисычев</td>\n",
       "      <td>Александр</td>\n",
       "      <td>Сергеевич</td>\n",
       "      <td>99fe117fcb</td>\n",
       "    </tr>\n",
       "  </tbody>\n",
       "</table>\n",
       "</div>"
      ],
      "text/plain": [
       "     Группа    Фамилия        Имя    Отчество        hash\n",
       "22  БПМ-161    Синицын  Александр     Юрьевич  1279af2d6f\n",
       "23  БПМ-161    Соколов  Александр  Николаевич  165aac7dac\n",
       "30  БПМ-162  Борисычев  Александр   Сергеевич  99fe117fcb"
      ]
     },
     "execution_count": 46,
     "metadata": {},
     "output_type": "execute_result"
    }
   ],
   "source": [
    "df[mask]"
   ]
  },
  {
   "cell_type": "code",
   "execution_count": 47,
   "metadata": {},
   "outputs": [
    {
     "data": {
      "text/plain": [
       "0     БПМ-161\n",
       "1     БПМ-161\n",
       "2     БПМ-161\n",
       "3     БПМ-161\n",
       "4     БПМ-161\n",
       "       ...   \n",
       "90    БПМ-163\n",
       "91    БПМ-163\n",
       "92    БПМ-163\n",
       "93    БПМ-163\n",
       "94    БПМ-163\n",
       "Name: Группа, Length: 95, dtype: object"
      ]
     },
     "execution_count": 47,
     "metadata": {},
     "output_type": "execute_result"
    }
   ],
   "source": [
    "df.Группа"
   ]
  },
  {
   "cell_type": "code",
   "execution_count": 24,
   "metadata": {},
   "outputs": [
    {
     "data": {
      "text/html": [
       "<div>\n",
       "<style scoped>\n",
       "    .dataframe tbody tr th:only-of-type {\n",
       "        vertical-align: middle;\n",
       "    }\n",
       "\n",
       "    .dataframe tbody tr th {\n",
       "        vertical-align: top;\n",
       "    }\n",
       "\n",
       "    .dataframe thead th {\n",
       "        text-align: right;\n",
       "    }\n",
       "</style>\n",
       "<table border=\"1\" class=\"dataframe\">\n",
       "  <thead>\n",
       "    <tr style=\"text-align: right;\">\n",
       "      <th></th>\n",
       "      <th>Фамилия</th>\n",
       "      <th>Имя</th>\n",
       "      <th>Отчество</th>\n",
       "    </tr>\n",
       "  </thead>\n",
       "  <tbody>\n",
       "    <tr>\n",
       "      <th>10</th>\n",
       "      <td>Корякин</td>\n",
       "      <td>Дмитрий</td>\n",
       "      <td>Александрович</td>\n",
       "    </tr>\n",
       "    <tr>\n",
       "      <th>11</th>\n",
       "      <td>Кубышкина</td>\n",
       "      <td>Екатерина</td>\n",
       "      <td>Константиновна</td>\n",
       "    </tr>\n",
       "    <tr>\n",
       "      <th>12</th>\n",
       "      <td>Ларичева</td>\n",
       "      <td>Мария</td>\n",
       "      <td>Максимовна</td>\n",
       "    </tr>\n",
       "    <tr>\n",
       "      <th>13</th>\n",
       "      <td>Лещёв</td>\n",
       "      <td>Дмитрий</td>\n",
       "      <td>Андреевич</td>\n",
       "    </tr>\n",
       "    <tr>\n",
       "      <th>14</th>\n",
       "      <td>Мансуров</td>\n",
       "      <td>Рустам</td>\n",
       "      <td>Айратович</td>\n",
       "    </tr>\n",
       "    <tr>\n",
       "      <th>15</th>\n",
       "      <td>Мартынов</td>\n",
       "      <td>Никита</td>\n",
       "      <td>Игоревич</td>\n",
       "    </tr>\n",
       "    <tr>\n",
       "      <th>16</th>\n",
       "      <td>Мезенцев</td>\n",
       "      <td>Глеб</td>\n",
       "      <td>Владимирович</td>\n",
       "    </tr>\n",
       "    <tr>\n",
       "      <th>17</th>\n",
       "      <td>Пилипчук</td>\n",
       "      <td>Серафим</td>\n",
       "      <td>Викторович</td>\n",
       "    </tr>\n",
       "    <tr>\n",
       "      <th>18</th>\n",
       "      <td>Плешко</td>\n",
       "      <td>Георгий</td>\n",
       "      <td>Дмитриевич</td>\n",
       "    </tr>\n",
       "    <tr>\n",
       "      <th>19</th>\n",
       "      <td>Пытьев</td>\n",
       "      <td>Никита</td>\n",
       "      <td>Александрович</td>\n",
       "    </tr>\n",
       "    <tr>\n",
       "      <th>20</th>\n",
       "      <td>Рахель</td>\n",
       "      <td>Марк</td>\n",
       "      <td>Анатольевич</td>\n",
       "    </tr>\n",
       "  </tbody>\n",
       "</table>\n",
       "</div>"
      ],
      "text/plain": [
       "      Фамилия        Имя        Отчество\n",
       "10    Корякин    Дмитрий   Александрович\n",
       "11  Кубышкина  Екатерина  Константиновна\n",
       "12   Ларичева      Мария      Максимовна\n",
       "13      Лещёв    Дмитрий       Андреевич\n",
       "14   Мансуров     Рустам       Айратович\n",
       "15   Мартынов     Никита        Игоревич\n",
       "16   Мезенцев       Глеб    Владимирович\n",
       "17   Пилипчук    Серафим      Викторович\n",
       "18     Плешко    Георгий      Дмитриевич\n",
       "19     Пытьев     Никита   Александрович\n",
       "20     Рахель       Марк     Анатольевич"
      ]
     },
     "execution_count": 24,
     "metadata": {},
     "output_type": "execute_result"
    }
   ],
   "source": [
    "df.loc[10:20, 'Фамилия':'Отчество']"
   ]
  },
  {
   "cell_type": "code",
   "execution_count": 48,
   "metadata": {},
   "outputs": [
    {
     "data": {
      "text/plain": [
       "0      Алексей\n",
       "1        Алина\n",
       "2        Антон\n",
       "3       Андрей\n",
       "4         Яков\n",
       "        ...   \n",
       "90     Дмитрий\n",
       "91    Вероника\n",
       "92    Виктория\n",
       "93       Антон\n",
       "94           В\n",
       "Name: Имя, Length: 95, dtype: object"
      ]
     },
     "execution_count": 48,
     "metadata": {},
     "output_type": "execute_result"
    }
   ],
   "source": [
    "df.iloc[:, 2]"
   ]
  },
  {
   "cell_type": "code",
   "execution_count": null,
   "metadata": {},
   "outputs": [],
   "source": []
  },
  {
   "cell_type": "markdown",
   "metadata": {},
   "source": [
    "## Задание\n",
    "\n",
    "Загрузить Таблицу по [ссылке](https://github.com/BoberSA/PythonCourse/raw/master/Lecture_6/grades.csv)\n",
    "\n",
    "В таблице хранится `hash` студента и оценки за 9 заданий.\n",
    "\n",
    "Необходимо:\n",
    "\n",
    "- выбрать строки со средней оценкой не ниже 0.6;\n",
    "\n",
    "- выбрать строки, где не менее четырех единиц.\n",
    "\n",
    "Для вычислений необходимых величин используйте функции `numpy` или аналогичные методы Таблицы (Ряда)."
   ]
  },
  {
   "cell_type": "code",
   "execution_count": 13,
   "metadata": {},
   "outputs": [
    {
     "data": {
      "text/html": [
       "<div>\n",
       "<style scoped>\n",
       "    .dataframe tbody tr th:only-of-type {\n",
       "        vertical-align: middle;\n",
       "    }\n",
       "\n",
       "    .dataframe tbody tr th {\n",
       "        vertical-align: top;\n",
       "    }\n",
       "\n",
       "    .dataframe thead th {\n",
       "        text-align: right;\n",
       "    }\n",
       "</style>\n",
       "<table border=\"1\" class=\"dataframe\">\n",
       "  <thead>\n",
       "    <tr style=\"text-align: right;\">\n",
       "      <th></th>\n",
       "      <th>hash</th>\n",
       "      <th>0</th>\n",
       "      <th>1</th>\n",
       "      <th>2</th>\n",
       "      <th>3</th>\n",
       "      <th>4</th>\n",
       "      <th>5</th>\n",
       "      <th>6</th>\n",
       "      <th>7</th>\n",
       "      <th>8</th>\n",
       "    </tr>\n",
       "  </thead>\n",
       "  <tbody>\n",
       "    <tr>\n",
       "      <th>0</th>\n",
       "      <td>cbe32a2a1b</td>\n",
       "      <td>0.8</td>\n",
       "      <td>1.0</td>\n",
       "      <td>1.0</td>\n",
       "      <td>1.0</td>\n",
       "      <td>1.0</td>\n",
       "      <td>1.0</td>\n",
       "      <td>0.0</td>\n",
       "      <td>0.0</td>\n",
       "      <td>0.0</td>\n",
       "    </tr>\n",
       "    <tr>\n",
       "      <th>1</th>\n",
       "      <td>caa93590ad</td>\n",
       "      <td>0.2</td>\n",
       "      <td>0.2</td>\n",
       "      <td>0.9</td>\n",
       "      <td>0.7</td>\n",
       "      <td>0.0</td>\n",
       "      <td>0.0</td>\n",
       "      <td>0.0</td>\n",
       "      <td>0.0</td>\n",
       "      <td>0.0</td>\n",
       "    </tr>\n",
       "    <tr>\n",
       "      <th>2</th>\n",
       "      <td>5bbe47f96d</td>\n",
       "      <td>0.8</td>\n",
       "      <td>1.0</td>\n",
       "      <td>1.0</td>\n",
       "      <td>1.0</td>\n",
       "      <td>1.0</td>\n",
       "      <td>0.0</td>\n",
       "      <td>0.5</td>\n",
       "      <td>0.0</td>\n",
       "      <td>0.0</td>\n",
       "    </tr>\n",
       "    <tr>\n",
       "      <th>3</th>\n",
       "      <td>3f187965b9</td>\n",
       "      <td>0.0</td>\n",
       "      <td>0.0</td>\n",
       "      <td>0.8</td>\n",
       "      <td>1.0</td>\n",
       "      <td>0.5</td>\n",
       "      <td>0.0</td>\n",
       "      <td>0.0</td>\n",
       "      <td>0.0</td>\n",
       "      <td>0.0</td>\n",
       "    </tr>\n",
       "    <tr>\n",
       "      <th>4</th>\n",
       "      <td>bf1e56e185</td>\n",
       "      <td>0.0</td>\n",
       "      <td>0.0</td>\n",
       "      <td>0.0</td>\n",
       "      <td>0.0</td>\n",
       "      <td>0.0</td>\n",
       "      <td>0.0</td>\n",
       "      <td>0.0</td>\n",
       "      <td>0.0</td>\n",
       "      <td>0.0</td>\n",
       "    </tr>\n",
       "  </tbody>\n",
       "</table>\n",
       "</div>"
      ],
      "text/plain": [
       "         hash    0    1    2    3    4    5    6    7    8\n",
       "0  cbe32a2a1b  0.8  1.0  1.0  1.0  1.0  1.0  0.0  0.0  0.0\n",
       "1  caa93590ad  0.2  0.2  0.9  0.7  0.0  0.0  0.0  0.0  0.0\n",
       "2  5bbe47f96d  0.8  1.0  1.0  1.0  1.0  0.0  0.5  0.0  0.0\n",
       "3  3f187965b9  0.0  0.0  0.8  1.0  0.5  0.0  0.0  0.0  0.0\n",
       "4  bf1e56e185  0.0  0.0  0.0  0.0  0.0  0.0  0.0  0.0  0.0"
      ]
     },
     "execution_count": 13,
     "metadata": {},
     "output_type": "execute_result"
    }
   ],
   "source": [
    "url = 'https://github.com/BoberSA/PythonCourse/raw/master/Lecture_6/grades.csv'\n",
    "\n",
    "df = pd.read_csv(url, index_col=0)\n",
    "df.head()"
   ]
  },
  {
   "cell_type": "code",
   "execution_count": 18,
   "metadata": {},
   "outputs": [
    {
     "data": {
      "text/html": [
       "<div>\n",
       "<style scoped>\n",
       "    .dataframe tbody tr th:only-of-type {\n",
       "        vertical-align: middle;\n",
       "    }\n",
       "\n",
       "    .dataframe tbody tr th {\n",
       "        vertical-align: top;\n",
       "    }\n",
       "\n",
       "    .dataframe thead th {\n",
       "        text-align: right;\n",
       "    }\n",
       "</style>\n",
       "<table border=\"1\" class=\"dataframe\">\n",
       "  <thead>\n",
       "    <tr style=\"text-align: right;\">\n",
       "      <th></th>\n",
       "      <th>hash</th>\n",
       "      <th>0</th>\n",
       "      <th>1</th>\n",
       "      <th>2</th>\n",
       "      <th>3</th>\n",
       "      <th>4</th>\n",
       "      <th>5</th>\n",
       "      <th>6</th>\n",
       "      <th>7</th>\n",
       "      <th>8</th>\n",
       "    </tr>\n",
       "  </thead>\n",
       "  <tbody>\n",
       "    <tr>\n",
       "      <th>0</th>\n",
       "      <td>cbe32a2a1b</td>\n",
       "      <td>0.8</td>\n",
       "      <td>1.0</td>\n",
       "      <td>1.0</td>\n",
       "      <td>1.0</td>\n",
       "      <td>1.0</td>\n",
       "      <td>1.0</td>\n",
       "      <td>0.0</td>\n",
       "      <td>0.0</td>\n",
       "      <td>0.0</td>\n",
       "    </tr>\n",
       "    <tr>\n",
       "      <th>2</th>\n",
       "      <td>5bbe47f96d</td>\n",
       "      <td>0.8</td>\n",
       "      <td>1.0</td>\n",
       "      <td>1.0</td>\n",
       "      <td>1.0</td>\n",
       "      <td>1.0</td>\n",
       "      <td>0.0</td>\n",
       "      <td>0.5</td>\n",
       "      <td>0.0</td>\n",
       "      <td>0.0</td>\n",
       "    </tr>\n",
       "    <tr>\n",
       "      <th>12</th>\n",
       "      <td>b5c2ae4623</td>\n",
       "      <td>0.0</td>\n",
       "      <td>1.0</td>\n",
       "      <td>1.0</td>\n",
       "      <td>1.0</td>\n",
       "      <td>0.0</td>\n",
       "      <td>1.0</td>\n",
       "      <td>0.0</td>\n",
       "      <td>0.0</td>\n",
       "      <td>0.6</td>\n",
       "    </tr>\n",
       "  </tbody>\n",
       "</table>\n",
       "</div>"
      ],
      "text/plain": [
       "          hash    0    1    2    3    4    5    6    7    8\n",
       "0   cbe32a2a1b  0.8  1.0  1.0  1.0  1.0  1.0  0.0  0.0  0.0\n",
       "2   5bbe47f96d  0.8  1.0  1.0  1.0  1.0  0.0  0.5  0.0  0.0\n",
       "12  b5c2ae4623  0.0  1.0  1.0  1.0  0.0  1.0  0.0  0.0  0.6"
      ]
     },
     "execution_count": 18,
     "metadata": {},
     "output_type": "execute_result"
    }
   ],
   "source": [
    "mask = np.sum(df == 1, axis=1) >= 4\n",
    "df[mask]"
   ]
  }
 ],
 "metadata": {
  "kernelspec": {
   "display_name": "Python 3",
   "language": "python",
   "name": "python3"
  },
  "language_info": {
   "codemirror_mode": {
    "name": "ipython",
    "version": 3
   },
   "file_extension": ".py",
   "mimetype": "text/x-python",
   "name": "python",
   "nbconvert_exporter": "python",
   "pygments_lexer": "ipython3",
   "version": "3.8.10"
  }
 },
 "nbformat": 4,
 "nbformat_minor": 4
}
